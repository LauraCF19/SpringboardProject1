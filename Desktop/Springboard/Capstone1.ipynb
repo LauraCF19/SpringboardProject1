{
 "cells": [
  {
   "cell_type": "code",
   "execution_count": 2,
   "metadata": {},
   "outputs": [
    {
     "name": "stdout",
     "output_type": "stream",
     "text": [
      "   index    State Agency_Type Agency_Name Race Religion Sexual_Orientation  \\\n",
      "0      5  Alabama       Total       Total   12        1                  1   \n",
      "1      6  Alabama      Cities       Total   12        1                  1   \n",
      "2      7  Alabama      Cities  Birmingham    7        1                  1   \n",
      "3      8  Alabama      Cities    Florence    1        0                  0   \n",
      "4      9  Alabama      Cities       Foley    1        0                  0   \n",
      "\n",
      "  Disability Gender Gender_ID   Q1   Q2   Q3   Q4     Pop  \n",
      "0          0      0         0  NaN  NaN  NaN  NaN     NaN  \n",
      "1          0      0         0  NaN  NaN  NaN  NaN     NaN  \n",
      "2          0      0         0    3    2    2    2  212549  \n",
      "3          0      0         0    0    0    1    0   40160  \n",
      "4          0      0         0    0    1    0    0   17639  \n"
     ]
    },
    {
     "name": "stderr",
     "output_type": "stream",
     "text": [
      "/anaconda3/lib/python3.6/site-packages/pandas/core/frame.py:2540: SettingWithCopyWarning: \n",
      "A value is trying to be set on a copy of a slice from a DataFrame.\n",
      "Try using .loc[row_indexer,col_indexer] = value instead\n",
      "\n",
      "See the caveats in the documentation: http://pandas.pydata.org/pandas-docs/stable/indexing.html#indexing-view-versus-copy\n",
      "  self[k1] = value[k2]\n"
     ]
    }
   ],
   "source": [
    "import pandas as pd\n",
    "\n",
    "import numpy as np\n",
    "\n",
    "# Read in excel file of 2016 data\n",
    "file = '/Users/Laurasaur/Desktop/Springboard/Datasets/2016/Table_13_Hate_Crime_Incidents_per_Bias_Motivation_and_Quarter_by_State_and_Agency_2016.xls'\n",
    "\n",
    "xl = pd.ExcelFile(file)\n",
    "\n",
    "# We want the first and only sheet\n",
    "df2 = xl.parse(0)\n",
    "\n",
    "# remove the first 4 rows, which contain the title\n",
    "df2_sliced = df2.loc[5:]\n",
    "\n",
    "# rename the cols\n",
    "df2_sliced.columns = ['State', 'Agency_Type', 'Agency_Name', 'Race', 'Religion', 'Sexual_Orientation', 'Disability', 'Gender', 'Gender_ID', 'Q1', 'Q2', 'Q3', 'Q4', 'Pop']\n",
    "\n",
    "# copy df, and then forward fill the state and agency type cols\n",
    "df2_filled = df2_sliced\n",
    "\n",
    "df2_filled[['State', 'Agency_Type']] = df2_filled[['State', 'Agency_Type']].ffill()\n",
    "\n",
    "# copy and replace the NAs in df2_totals Agency Name col with the word total, because the NAs are only in cols w/ total\n",
    "df2_totals = df2_filled\n",
    "\n",
    "df2_totals = df2_totals.fillna(value={'Agency_Name' : 'Total'})\n",
    "   \n",
    "# reset index, so it starts at 1 not 5 \n",
    "df2_indexed = df2_totals.reset_index()\n",
    "\n",
    "print(df2_indexed.head())"
   ]
  },
  {
   "cell_type": "code",
   "execution_count": 4,
   "metadata": {},
   "outputs": [
    {
     "data": {
      "text/html": [
       "<div>\n",
       "<style scoped>\n",
       "    .dataframe tbody tr th:only-of-type {\n",
       "        vertical-align: middle;\n",
       "    }\n",
       "\n",
       "    .dataframe tbody tr th {\n",
       "        vertical-align: top;\n",
       "    }\n",
       "\n",
       "    .dataframe thead th {\n",
       "        text-align: right;\n",
       "    }\n",
       "</style>\n",
       "<table border=\"1\" class=\"dataframe\">\n",
       "  <thead>\n",
       "    <tr style=\"text-align: right;\">\n",
       "      <th></th>\n",
       "      <th>index</th>\n",
       "      <th>State</th>\n",
       "      <th>Agency_Type</th>\n",
       "      <th>Agency_Name</th>\n",
       "      <th>Race</th>\n",
       "      <th>Religion</th>\n",
       "      <th>Sexual_Orientation</th>\n",
       "      <th>Disability</th>\n",
       "      <th>Gender</th>\n",
       "      <th>Gender_ID</th>\n",
       "      <th>Q1</th>\n",
       "      <th>Q2</th>\n",
       "      <th>Q3</th>\n",
       "      <th>Q4</th>\n",
       "      <th>Pop</th>\n",
       "    </tr>\n",
       "  </thead>\n",
       "  <tbody>\n",
       "    <tr>\n",
       "      <th>0</th>\n",
       "      <td>5</td>\n",
       "      <td>Alabama</td>\n",
       "      <td>Total</td>\n",
       "      <td>Total</td>\n",
       "      <td>12</td>\n",
       "      <td>1</td>\n",
       "      <td>1</td>\n",
       "      <td>0</td>\n",
       "      <td>0</td>\n",
       "      <td>0</td>\n",
       "      <td>NaN</td>\n",
       "      <td>NaN</td>\n",
       "      <td>NaN</td>\n",
       "      <td>NaN</td>\n",
       "      <td>NaN</td>\n",
       "    </tr>\n",
       "    <tr>\n",
       "      <th>1</th>\n",
       "      <td>6</td>\n",
       "      <td>Alabama</td>\n",
       "      <td>Cities</td>\n",
       "      <td>Total</td>\n",
       "      <td>12</td>\n",
       "      <td>1</td>\n",
       "      <td>1</td>\n",
       "      <td>0</td>\n",
       "      <td>0</td>\n",
       "      <td>0</td>\n",
       "      <td>NaN</td>\n",
       "      <td>NaN</td>\n",
       "      <td>NaN</td>\n",
       "      <td>NaN</td>\n",
       "      <td>NaN</td>\n",
       "    </tr>\n",
       "    <tr>\n",
       "      <th>2</th>\n",
       "      <td>7</td>\n",
       "      <td>Alabama</td>\n",
       "      <td>Cities</td>\n",
       "      <td>Birmingham</td>\n",
       "      <td>7</td>\n",
       "      <td>1</td>\n",
       "      <td>1</td>\n",
       "      <td>0</td>\n",
       "      <td>0</td>\n",
       "      <td>0</td>\n",
       "      <td>3</td>\n",
       "      <td>2</td>\n",
       "      <td>2</td>\n",
       "      <td>2</td>\n",
       "      <td>212549</td>\n",
       "    </tr>\n",
       "    <tr>\n",
       "      <th>3</th>\n",
       "      <td>8</td>\n",
       "      <td>Alabama</td>\n",
       "      <td>Cities</td>\n",
       "      <td>Florence</td>\n",
       "      <td>1</td>\n",
       "      <td>0</td>\n",
       "      <td>0</td>\n",
       "      <td>0</td>\n",
       "      <td>0</td>\n",
       "      <td>0</td>\n",
       "      <td>0</td>\n",
       "      <td>0</td>\n",
       "      <td>1</td>\n",
       "      <td>0</td>\n",
       "      <td>40160</td>\n",
       "    </tr>\n",
       "    <tr>\n",
       "      <th>4</th>\n",
       "      <td>9</td>\n",
       "      <td>Alabama</td>\n",
       "      <td>Cities</td>\n",
       "      <td>Foley</td>\n",
       "      <td>1</td>\n",
       "      <td>0</td>\n",
       "      <td>0</td>\n",
       "      <td>0</td>\n",
       "      <td>0</td>\n",
       "      <td>0</td>\n",
       "      <td>0</td>\n",
       "      <td>1</td>\n",
       "      <td>0</td>\n",
       "      <td>0</td>\n",
       "      <td>17639</td>\n",
       "    </tr>\n",
       "  </tbody>\n",
       "</table>\n",
       "</div>"
      ],
      "text/plain": [
       "   index    State Agency_Type Agency_Name Race Religion Sexual_Orientation  \\\n",
       "0      5  Alabama       Total       Total   12        1                  1   \n",
       "1      6  Alabama      Cities       Total   12        1                  1   \n",
       "2      7  Alabama      Cities  Birmingham    7        1                  1   \n",
       "3      8  Alabama      Cities    Florence    1        0                  0   \n",
       "4      9  Alabama      Cities       Foley    1        0                  0   \n",
       "\n",
       "  Disability Gender Gender_ID   Q1   Q2   Q3   Q4     Pop  \n",
       "0          0      0         0  NaN  NaN  NaN  NaN     NaN  \n",
       "1          0      0         0  NaN  NaN  NaN  NaN     NaN  \n",
       "2          0      0         0    3    2    2    2  212549  \n",
       "3          0      0         0    0    0    1    0   40160  \n",
       "4          0      0         0    0    1    0    0   17639  "
      ]
     },
     "execution_count": 4,
     "metadata": {},
     "output_type": "execute_result"
    }
   ],
   "source": [
    "#### I noticed some of the agency names contained numbers left over from subscript on the original data. I want to remove those.\n",
    "\n",
    "df2_indexed['Agency_Name'] = df2_indexed.Agency_Name.str.replace('2', '')\n",
    "\n",
    "df2_indexed['Agency_Name'] = df2_indexed.Agency_Name.str.replace('1', '')\n",
    "\n",
    "df2_indexed.head()"
   ]
  },
  {
   "cell_type": "code",
   "execution_count": 5,
   "metadata": {},
   "outputs": [
    {
     "name": "stdout",
     "output_type": "stream",
     "text": [
      "{'Alabama': 'AL', 'Alaska': 'AK', 'Arizona': 'AZ', 'Arkansas': 'AR', 'California': 'CA', 'Colorado': 'CO', 'Connecticut': 'CT', 'Delaware': 'DE', 'District of Columbia': 'DC', 'Florida': 'FL', 'Georgia': 'GA', 'Hawaii': 'HI', 'Idaho': 'ID', 'Illinois': 'IL', 'Indiana': 'IN', 'Iowa': 'IA', 'Kansas': 'KS', 'Kentucky': 'KY', 'Louisiana': 'LA', 'Maine': 'ME', 'Montana': 'MT', 'Nebraska': 'NE', 'Nevada': 'NV', 'New Hampshire': 'NH', 'New Jersey': 'NJ', 'New Mexico': 'NM', 'New York': 'NY', 'North Carolina': 'NC', 'North Dakota': 'ND', 'Ohio': 'OH', 'Oklahoma': 'OK', 'Oregon': 'OR', 'Maryland': 'MD', 'Massachusetts': 'MA', 'Michigan': 'MI', 'Minnesota': 'MN', 'Mississippi': 'MS', 'Missouri': 'MO', 'Pennsylvania': 'PA', 'Rhode Island': 'RI', 'South Carolina': 'SC', 'South Dakota': 'SD', 'Tennessee': 'TN', 'Texas': 'TX', 'Utah': 'UT', 'Vermont': 'VT', 'Virginia': 'VA', 'Washington': 'WA', 'West Virginia': 'WV', 'Wisconsin': 'WI', 'Wyoming': 'WY'}\n"
     ]
    }
   ],
   "source": [
    "## We're going to get the state abbreviations in order to match some of the datasets later\n",
    "## we then make a dictionary, with the state names as keys and the abbreviations as values\n",
    "\n",
    "state_file = '/Users/Laurasaur/Desktop/Springboard/Datasets/states.csv'\n",
    "\n",
    "states = pd.read_csv(state_file)\n",
    "\n",
    "states_dict = pd.Series(states.Abbreviation.values, index=states.State).to_dict()\n",
    "\n",
    "print(states_dict)"
   ]
  },
  {
   "cell_type": "code",
   "execution_count": 6,
   "metadata": {},
   "outputs": [
    {
     "name": "stdout",
     "output_type": "stream",
     "text": [
      "   index    State Agency_Type Agency_Name Race Religion Sexual_Orientation  \\\n",
      "0      5  Alabama       Total       Total   12        1                  1   \n",
      "1      6  Alabama      Cities       Total   12        1                  1   \n",
      "2      7  Alabama      Cities  Birmingham    7        1                  1   \n",
      "3      8  Alabama      Cities    Florence    1        0                  0   \n",
      "4      9  Alabama      Cities       Foley    1        0                  0   \n",
      "\n",
      "  Disability Gender Gender_ID   Q1   Q2   Q3   Q4     Pop Abbreviation  \n",
      "0          0      0         0  NaN  NaN  NaN  NaN     NaN           AL  \n",
      "1          0      0         0  NaN  NaN  NaN  NaN     NaN           AL  \n",
      "2          0      0         0    3    2    2    2  212549           AL  \n",
      "3          0      0         0    0    0    1    0   40160           AL  \n",
      "4          0      0         0    0    1    0    0   17639           AL  \n"
     ]
    }
   ],
   "source": [
    "## Now we create a new col in the dataset, containing the state abbreviations:\n",
    "\n",
    "df2_abb= df2_indexed.copy()\n",
    "\n",
    "df2_abb['Abbreviation'] = df2_abb['State'].map(states_dict)\n",
    "\n",
    "print(df2_abb.head())"
   ]
  },
  {
   "cell_type": "code",
   "execution_count": 7,
   "metadata": {},
   "outputs": [
    {
     "name": "stdout",
     "output_type": "stream",
     "text": [
      "   index    State Agency_Type Agency_Name Race Religion Sexual_Orientation  \\\n",
      "0      5  Alabama       Total       Total   12        1                  1   \n",
      "1      6  Alabama      Cities       Total   12        1                  1   \n",
      "2      7  Alabama      Cities  Birmingham    7        1                  1   \n",
      "3      8  Alabama      Cities    Florence    1        0                  0   \n",
      "4      9  Alabama      Cities       Foley    1        0                  0   \n",
      "\n",
      "  Disability Gender Gender_ID   Q1   Q2   Q3   Q4     Pop Abbreviation  \\\n",
      "0          0      0         0  NaN  NaN  NaN  NaN     NaN           AL   \n",
      "1          0      0         0  NaN  NaN  NaN  NaN     NaN           AL   \n",
      "2          0      0         0    3    2    2    2  212549           AL   \n",
      "3          0      0         0    0    0    1    0   40160           AL   \n",
      "4          0      0         0    0    1    0    0   17639           AL   \n",
      "\n",
      "       City_State  \n",
      "0       Total, AL  \n",
      "1       Total, AL  \n",
      "2  Birmingham, AL  \n",
      "3    Florence, AL  \n",
      "4       Foley, AL  \n"
     ]
    }
   ],
   "source": [
    "## Next, we create another col that contains a string of the city name and the state abbreviation\n",
    "\n",
    "df2_abb['City_State'] = df2_abb['Agency_Name'] + \", \"  + df2_abb['Abbreviation']\n",
    "\n",
    "print(df2_abb.head())"
   ]
  },
  {
   "cell_type": "code",
   "execution_count": 8,
   "metadata": {},
   "outputs": [
    {
     "data": {
      "text/html": [
       "<div>\n",
       "<style scoped>\n",
       "    .dataframe tbody tr th:only-of-type {\n",
       "        vertical-align: middle;\n",
       "    }\n",
       "\n",
       "    .dataframe tbody tr th {\n",
       "        vertical-align: top;\n",
       "    }\n",
       "\n",
       "    .dataframe thead th {\n",
       "        text-align: right;\n",
       "    }\n",
       "</style>\n",
       "<table border=\"1\" class=\"dataframe\">\n",
       "  <thead>\n",
       "    <tr style=\"text-align: right;\">\n",
       "      <th></th>\n",
       "      <th>index</th>\n",
       "      <th>State</th>\n",
       "      <th>Agency_Type</th>\n",
       "      <th>Agency_Name</th>\n",
       "      <th>Race</th>\n",
       "      <th>Religion</th>\n",
       "      <th>Sexual_Orientation</th>\n",
       "      <th>Disability</th>\n",
       "      <th>Gender</th>\n",
       "      <th>Gender_ID</th>\n",
       "      <th>Q1</th>\n",
       "      <th>Q2</th>\n",
       "      <th>Q3</th>\n",
       "      <th>Q4</th>\n",
       "      <th>Pop</th>\n",
       "      <th>Abbreviation</th>\n",
       "      <th>City_State</th>\n",
       "    </tr>\n",
       "  </thead>\n",
       "  <tbody>\n",
       "    <tr>\n",
       "      <th>2</th>\n",
       "      <td>7</td>\n",
       "      <td>Alabama</td>\n",
       "      <td>Cities</td>\n",
       "      <td>Birmingham</td>\n",
       "      <td>7</td>\n",
       "      <td>1</td>\n",
       "      <td>1</td>\n",
       "      <td>0</td>\n",
       "      <td>0</td>\n",
       "      <td>0</td>\n",
       "      <td>3</td>\n",
       "      <td>2</td>\n",
       "      <td>2</td>\n",
       "      <td>2</td>\n",
       "      <td>212549</td>\n",
       "      <td>AL</td>\n",
       "      <td>Birmingham, AL</td>\n",
       "    </tr>\n",
       "    <tr>\n",
       "      <th>3</th>\n",
       "      <td>8</td>\n",
       "      <td>Alabama</td>\n",
       "      <td>Cities</td>\n",
       "      <td>Florence</td>\n",
       "      <td>1</td>\n",
       "      <td>0</td>\n",
       "      <td>0</td>\n",
       "      <td>0</td>\n",
       "      <td>0</td>\n",
       "      <td>0</td>\n",
       "      <td>0</td>\n",
       "      <td>0</td>\n",
       "      <td>1</td>\n",
       "      <td>0</td>\n",
       "      <td>40160</td>\n",
       "      <td>AL</td>\n",
       "      <td>Florence, AL</td>\n",
       "    </tr>\n",
       "    <tr>\n",
       "      <th>4</th>\n",
       "      <td>9</td>\n",
       "      <td>Alabama</td>\n",
       "      <td>Cities</td>\n",
       "      <td>Foley</td>\n",
       "      <td>1</td>\n",
       "      <td>0</td>\n",
       "      <td>0</td>\n",
       "      <td>0</td>\n",
       "      <td>0</td>\n",
       "      <td>0</td>\n",
       "      <td>0</td>\n",
       "      <td>1</td>\n",
       "      <td>0</td>\n",
       "      <td>0</td>\n",
       "      <td>17639</td>\n",
       "      <td>AL</td>\n",
       "      <td>Foley, AL</td>\n",
       "    </tr>\n",
       "    <tr>\n",
       "      <th>5</th>\n",
       "      <td>10</td>\n",
       "      <td>Alabama</td>\n",
       "      <td>Cities</td>\n",
       "      <td>Hoover</td>\n",
       "      <td>3</td>\n",
       "      <td>0</td>\n",
       "      <td>0</td>\n",
       "      <td>0</td>\n",
       "      <td>0</td>\n",
       "      <td>0</td>\n",
       "      <td>1</td>\n",
       "      <td>0</td>\n",
       "      <td>1</td>\n",
       "      <td>1</td>\n",
       "      <td>85601</td>\n",
       "      <td>AL</td>\n",
       "      <td>Hoover, AL</td>\n",
       "    </tr>\n",
       "    <tr>\n",
       "      <th>8</th>\n",
       "      <td>13</td>\n",
       "      <td>Alaska</td>\n",
       "      <td>Cities</td>\n",
       "      <td>Anchorage</td>\n",
       "      <td>4</td>\n",
       "      <td>0</td>\n",
       "      <td>0</td>\n",
       "      <td>0</td>\n",
       "      <td>0</td>\n",
       "      <td>0</td>\n",
       "      <td>1</td>\n",
       "      <td>0</td>\n",
       "      <td>2</td>\n",
       "      <td>1</td>\n",
       "      <td>299097</td>\n",
       "      <td>AK</td>\n",
       "      <td>Anchorage, AK</td>\n",
       "    </tr>\n",
       "  </tbody>\n",
       "</table>\n",
       "</div>"
      ],
      "text/plain": [
       "   index    State Agency_Type Agency_Name Race Religion Sexual_Orientation  \\\n",
       "2      7  Alabama      Cities  Birmingham    7        1                  1   \n",
       "3      8  Alabama      Cities    Florence    1        0                  0   \n",
       "4      9  Alabama      Cities       Foley    1        0                  0   \n",
       "5     10  Alabama      Cities      Hoover    3        0                  0   \n",
       "8     13   Alaska      Cities   Anchorage    4        0                  0   \n",
       "\n",
       "  Disability Gender Gender_ID Q1 Q2 Q3 Q4     Pop Abbreviation      City_State  \n",
       "2          0      0         0  3  2  2  2  212549           AL  Birmingham, AL  \n",
       "3          0      0         0  0  0  1  0   40160           AL    Florence, AL  \n",
       "4          0      0         0  0  1  0  0   17639           AL       Foley, AL  \n",
       "5          0      0         0  1  0  1  1   85601           AL      Hoover, AL  \n",
       "8          0      0         0  1  0  2  1  299097           AK   Anchorage, AK  "
      ]
     },
     "execution_count": 8,
     "metadata": {},
     "output_type": "execute_result"
    }
   ],
   "source": [
    "#### Now we get rid of every entry that's not a city (b/c we only want to examine cities)\n",
    "### And we get rid of all the total agencies, as we won't use that information for out analysis\n",
    "\n",
    "df2_cities = df2_abb[df2_abb.Agency_Type == 'Cities']\n",
    "\n",
    "df2_cities = df2_cities[df2_cities.Agency_Name != 'Total']\n",
    "\n",
    "df2_cities.head()"
   ]
  },
  {
   "cell_type": "code",
   "execution_count": 10,
   "metadata": {},
   "outputs": [
    {
     "data": {
      "text/plain": [
       "754"
      ]
     },
     "execution_count": 10,
     "metadata": {},
     "output_type": "execute_result"
    }
   ],
   "source": [
    "# Now we want to see how many datapoints were removed by taking out the cities and totals\n",
    "\n",
    "len(df2_abb) - len(df2_cities)"
   ]
  },
  {
   "cell_type": "code",
   "execution_count": 9,
   "metadata": {},
   "outputs": [
    {
     "data": {
      "text/html": [
       "<div>\n",
       "<style scoped>\n",
       "    .dataframe tbody tr th:only-of-type {\n",
       "        vertical-align: middle;\n",
       "    }\n",
       "\n",
       "    .dataframe tbody tr th {\n",
       "        vertical-align: top;\n",
       "    }\n",
       "\n",
       "    .dataframe thead th {\n",
       "        text-align: right;\n",
       "    }\n",
       "</style>\n",
       "<table border=\"1\" class=\"dataframe\">\n",
       "  <thead>\n",
       "    <tr style=\"text-align: right;\">\n",
       "      <th></th>\n",
       "      <th>city</th>\n",
       "      <th>city_ascii</th>\n",
       "      <th>state_id</th>\n",
       "      <th>state_name</th>\n",
       "      <th>county_fips</th>\n",
       "      <th>county_name</th>\n",
       "      <th>lat</th>\n",
       "      <th>lng</th>\n",
       "      <th>population</th>\n",
       "      <th>population_proper</th>\n",
       "      <th>density</th>\n",
       "      <th>source</th>\n",
       "      <th>incorporated</th>\n",
       "      <th>timezone</th>\n",
       "      <th>zips</th>\n",
       "      <th>id</th>\n",
       "    </tr>\n",
       "  </thead>\n",
       "  <tbody>\n",
       "    <tr>\n",
       "      <th>0</th>\n",
       "      <td>Prairie Ridge</td>\n",
       "      <td>Prairie Ridge</td>\n",
       "      <td>WA</td>\n",
       "      <td>Washington</td>\n",
       "      <td>53053</td>\n",
       "      <td>Pierce</td>\n",
       "      <td>47.1443</td>\n",
       "      <td>-122.1408</td>\n",
       "      <td>NaN</td>\n",
       "      <td>NaN</td>\n",
       "      <td>1349.8</td>\n",
       "      <td>polygon</td>\n",
       "      <td>False</td>\n",
       "      <td>America/Los_Angeles</td>\n",
       "      <td>98360 98391</td>\n",
       "      <td>1840037882</td>\n",
       "    </tr>\n",
       "    <tr>\n",
       "      <th>1</th>\n",
       "      <td>Edison</td>\n",
       "      <td>Edison</td>\n",
       "      <td>WA</td>\n",
       "      <td>Washington</td>\n",
       "      <td>53057</td>\n",
       "      <td>Skagit</td>\n",
       "      <td>48.5602</td>\n",
       "      <td>-122.4311</td>\n",
       "      <td>NaN</td>\n",
       "      <td>NaN</td>\n",
       "      <td>127.4</td>\n",
       "      <td>polygon</td>\n",
       "      <td>False</td>\n",
       "      <td>America/Los_Angeles</td>\n",
       "      <td>98232</td>\n",
       "      <td>1840017314</td>\n",
       "    </tr>\n",
       "    <tr>\n",
       "      <th>2</th>\n",
       "      <td>Packwood</td>\n",
       "      <td>Packwood</td>\n",
       "      <td>WA</td>\n",
       "      <td>Washington</td>\n",
       "      <td>53041</td>\n",
       "      <td>Lewis</td>\n",
       "      <td>46.6085</td>\n",
       "      <td>-121.6702</td>\n",
       "      <td>NaN</td>\n",
       "      <td>NaN</td>\n",
       "      <td>213.9</td>\n",
       "      <td>polygon</td>\n",
       "      <td>False</td>\n",
       "      <td>America/Los_Angeles</td>\n",
       "      <td>98361</td>\n",
       "      <td>1840025265</td>\n",
       "    </tr>\n",
       "    <tr>\n",
       "      <th>3</th>\n",
       "      <td>Wautauga Beach</td>\n",
       "      <td>Wautauga Beach</td>\n",
       "      <td>WA</td>\n",
       "      <td>Washington</td>\n",
       "      <td>53035</td>\n",
       "      <td>Kitsap</td>\n",
       "      <td>47.5862</td>\n",
       "      <td>-122.5482</td>\n",
       "      <td>NaN</td>\n",
       "      <td>NaN</td>\n",
       "      <td>261.7</td>\n",
       "      <td>point</td>\n",
       "      <td>False</td>\n",
       "      <td>America/Los_Angeles</td>\n",
       "      <td>98366</td>\n",
       "      <td>1840037725</td>\n",
       "    </tr>\n",
       "    <tr>\n",
       "      <th>4</th>\n",
       "      <td>Harper</td>\n",
       "      <td>Harper</td>\n",
       "      <td>WA</td>\n",
       "      <td>Washington</td>\n",
       "      <td>53035</td>\n",
       "      <td>Kitsap</td>\n",
       "      <td>47.5207</td>\n",
       "      <td>-122.5196</td>\n",
       "      <td>NaN</td>\n",
       "      <td>NaN</td>\n",
       "      <td>342.1</td>\n",
       "      <td>point</td>\n",
       "      <td>False</td>\n",
       "      <td>America/Los_Angeles</td>\n",
       "      <td>98366</td>\n",
       "      <td>1840037659</td>\n",
       "    </tr>\n",
       "  </tbody>\n",
       "</table>\n",
       "</div>"
      ],
      "text/plain": [
       "             city      city_ascii state_id  state_name  county_fips  \\\n",
       "0   Prairie Ridge   Prairie Ridge       WA  Washington        53053   \n",
       "1          Edison          Edison       WA  Washington        53057   \n",
       "2        Packwood        Packwood       WA  Washington        53041   \n",
       "3  Wautauga Beach  Wautauga Beach       WA  Washington        53035   \n",
       "4          Harper          Harper       WA  Washington        53035   \n",
       "\n",
       "  county_name      lat       lng  population  population_proper  density  \\\n",
       "0      Pierce  47.1443 -122.1408         NaN                NaN   1349.8   \n",
       "1      Skagit  48.5602 -122.4311         NaN                NaN    127.4   \n",
       "2       Lewis  46.6085 -121.6702         NaN                NaN    213.9   \n",
       "3      Kitsap  47.5862 -122.5482         NaN                NaN    261.7   \n",
       "4      Kitsap  47.5207 -122.5196         NaN                NaN    342.1   \n",
       "\n",
       "    source  incorporated             timezone         zips          id  \n",
       "0  polygon         False  America/Los_Angeles  98360 98391  1840037882  \n",
       "1  polygon         False  America/Los_Angeles        98232  1840017314  \n",
       "2  polygon         False  America/Los_Angeles        98361  1840025265  \n",
       "3    point         False  America/Los_Angeles        98366  1840037725  \n",
       "4    point         False  America/Los_Angeles        98366  1840037659  "
      ]
     },
     "execution_count": 9,
     "metadata": {},
     "output_type": "execute_result"
    }
   ],
   "source": [
    "##### Now we read in the dataset with the information about the counties, which we will use to match the\n",
    "##### Hate Crime dataset with the dataset containing political and demographic information\n",
    "\n",
    "county_file = '/Users/Laurasaur/Desktop/Springboard/Datasets/uscitiesv1.4.csv'\n",
    "\n",
    "counties = pd.read_csv(county_file)\n",
    "\n",
    "counties.head()"
   ]
  },
  {
   "cell_type": "code",
   "execution_count": 10,
   "metadata": {},
   "outputs": [
    {
     "data": {
      "text/html": [
       "<div>\n",
       "<style scoped>\n",
       "    .dataframe tbody tr th:only-of-type {\n",
       "        vertical-align: middle;\n",
       "    }\n",
       "\n",
       "    .dataframe tbody tr th {\n",
       "        vertical-align: top;\n",
       "    }\n",
       "\n",
       "    .dataframe thead th {\n",
       "        text-align: right;\n",
       "    }\n",
       "</style>\n",
       "<table border=\"1\" class=\"dataframe\">\n",
       "  <thead>\n",
       "    <tr style=\"text-align: right;\">\n",
       "      <th></th>\n",
       "      <th>city</th>\n",
       "      <th>city_ascii</th>\n",
       "      <th>state_id</th>\n",
       "      <th>state_name</th>\n",
       "      <th>county_fips</th>\n",
       "      <th>county_name</th>\n",
       "      <th>lat</th>\n",
       "      <th>lng</th>\n",
       "      <th>population</th>\n",
       "      <th>population_proper</th>\n",
       "      <th>density</th>\n",
       "      <th>source</th>\n",
       "      <th>incorporated</th>\n",
       "      <th>timezone</th>\n",
       "      <th>zips</th>\n",
       "      <th>id</th>\n",
       "      <th>City_County</th>\n",
       "    </tr>\n",
       "  </thead>\n",
       "  <tbody>\n",
       "    <tr>\n",
       "      <th>0</th>\n",
       "      <td>Prairie Ridge</td>\n",
       "      <td>Prairie Ridge</td>\n",
       "      <td>WA</td>\n",
       "      <td>Washington</td>\n",
       "      <td>53053</td>\n",
       "      <td>Pierce</td>\n",
       "      <td>47.1443</td>\n",
       "      <td>-122.1408</td>\n",
       "      <td>NaN</td>\n",
       "      <td>NaN</td>\n",
       "      <td>1349.8</td>\n",
       "      <td>polygon</td>\n",
       "      <td>False</td>\n",
       "      <td>America/Los_Angeles</td>\n",
       "      <td>98360 98391</td>\n",
       "      <td>1840037882</td>\n",
       "      <td>WA, Prairie Ridge, Pierce</td>\n",
       "    </tr>\n",
       "    <tr>\n",
       "      <th>1</th>\n",
       "      <td>Edison</td>\n",
       "      <td>Edison</td>\n",
       "      <td>WA</td>\n",
       "      <td>Washington</td>\n",
       "      <td>53057</td>\n",
       "      <td>Skagit</td>\n",
       "      <td>48.5602</td>\n",
       "      <td>-122.4311</td>\n",
       "      <td>NaN</td>\n",
       "      <td>NaN</td>\n",
       "      <td>127.4</td>\n",
       "      <td>polygon</td>\n",
       "      <td>False</td>\n",
       "      <td>America/Los_Angeles</td>\n",
       "      <td>98232</td>\n",
       "      <td>1840017314</td>\n",
       "      <td>WA, Edison, Skagit</td>\n",
       "    </tr>\n",
       "    <tr>\n",
       "      <th>2</th>\n",
       "      <td>Packwood</td>\n",
       "      <td>Packwood</td>\n",
       "      <td>WA</td>\n",
       "      <td>Washington</td>\n",
       "      <td>53041</td>\n",
       "      <td>Lewis</td>\n",
       "      <td>46.6085</td>\n",
       "      <td>-121.6702</td>\n",
       "      <td>NaN</td>\n",
       "      <td>NaN</td>\n",
       "      <td>213.9</td>\n",
       "      <td>polygon</td>\n",
       "      <td>False</td>\n",
       "      <td>America/Los_Angeles</td>\n",
       "      <td>98361</td>\n",
       "      <td>1840025265</td>\n",
       "      <td>WA, Packwood, Lewis</td>\n",
       "    </tr>\n",
       "    <tr>\n",
       "      <th>3</th>\n",
       "      <td>Wautauga Beach</td>\n",
       "      <td>Wautauga Beach</td>\n",
       "      <td>WA</td>\n",
       "      <td>Washington</td>\n",
       "      <td>53035</td>\n",
       "      <td>Kitsap</td>\n",
       "      <td>47.5862</td>\n",
       "      <td>-122.5482</td>\n",
       "      <td>NaN</td>\n",
       "      <td>NaN</td>\n",
       "      <td>261.7</td>\n",
       "      <td>point</td>\n",
       "      <td>False</td>\n",
       "      <td>America/Los_Angeles</td>\n",
       "      <td>98366</td>\n",
       "      <td>1840037725</td>\n",
       "      <td>WA, Wautauga Beach, Kitsap</td>\n",
       "    </tr>\n",
       "    <tr>\n",
       "      <th>4</th>\n",
       "      <td>Harper</td>\n",
       "      <td>Harper</td>\n",
       "      <td>WA</td>\n",
       "      <td>Washington</td>\n",
       "      <td>53035</td>\n",
       "      <td>Kitsap</td>\n",
       "      <td>47.5207</td>\n",
       "      <td>-122.5196</td>\n",
       "      <td>NaN</td>\n",
       "      <td>NaN</td>\n",
       "      <td>342.1</td>\n",
       "      <td>point</td>\n",
       "      <td>False</td>\n",
       "      <td>America/Los_Angeles</td>\n",
       "      <td>98366</td>\n",
       "      <td>1840037659</td>\n",
       "      <td>WA, Harper, Kitsap</td>\n",
       "    </tr>\n",
       "  </tbody>\n",
       "</table>\n",
       "</div>"
      ],
      "text/plain": [
       "             city      city_ascii state_id  state_name  county_fips  \\\n",
       "0   Prairie Ridge   Prairie Ridge       WA  Washington        53053   \n",
       "1          Edison          Edison       WA  Washington        53057   \n",
       "2        Packwood        Packwood       WA  Washington        53041   \n",
       "3  Wautauga Beach  Wautauga Beach       WA  Washington        53035   \n",
       "4          Harper          Harper       WA  Washington        53035   \n",
       "\n",
       "  county_name      lat       lng  population  population_proper  density  \\\n",
       "0      Pierce  47.1443 -122.1408         NaN                NaN   1349.8   \n",
       "1      Skagit  48.5602 -122.4311         NaN                NaN    127.4   \n",
       "2       Lewis  46.6085 -121.6702         NaN                NaN    213.9   \n",
       "3      Kitsap  47.5862 -122.5482         NaN                NaN    261.7   \n",
       "4      Kitsap  47.5207 -122.5196         NaN                NaN    342.1   \n",
       "\n",
       "    source  incorporated             timezone         zips          id  \\\n",
       "0  polygon         False  America/Los_Angeles  98360 98391  1840037882   \n",
       "1  polygon         False  America/Los_Angeles        98232  1840017314   \n",
       "2  polygon         False  America/Los_Angeles        98361  1840025265   \n",
       "3    point         False  America/Los_Angeles        98366  1840037725   \n",
       "4    point         False  America/Los_Angeles        98366  1840037659   \n",
       "\n",
       "                  City_County  \n",
       "0   WA, Prairie Ridge, Pierce  \n",
       "1          WA, Edison, Skagit  \n",
       "2         WA, Packwood, Lewis  \n",
       "3  WA, Wautauga Beach, Kitsap  \n",
       "4          WA, Harper, Kitsap  "
      ]
     },
     "execution_count": 10,
     "metadata": {},
     "output_type": "execute_result"
    }
   ],
   "source": [
    "## Now I'll make a col containing the state, city, and county, and remove all duplicates\n",
    "## so that we have only unique sets (b/c there are duplicates in dataset because it also includes unique log and lat)\n",
    "\n",
    "counties['City_County'] = counties.state_id + \", \" + counties.city + \", \" + counties.county_name\n",
    "\n",
    "counties.head()"
   ]
  },
  {
   "cell_type": "code",
   "execution_count": 11,
   "metadata": {},
   "outputs": [
    {
     "data": {
      "text/html": [
       "<div>\n",
       "<style scoped>\n",
       "    .dataframe tbody tr th:only-of-type {\n",
       "        vertical-align: middle;\n",
       "    }\n",
       "\n",
       "    .dataframe tbody tr th {\n",
       "        vertical-align: top;\n",
       "    }\n",
       "\n",
       "    .dataframe thead th {\n",
       "        text-align: right;\n",
       "    }\n",
       "</style>\n",
       "<table border=\"1\" class=\"dataframe\">\n",
       "  <thead>\n",
       "    <tr style=\"text-align: right;\">\n",
       "      <th></th>\n",
       "      <th>State</th>\n",
       "      <th>City</th>\n",
       "      <th>County</th>\n",
       "      <th>City_State</th>\n",
       "    </tr>\n",
       "  </thead>\n",
       "  <tbody>\n",
       "    <tr>\n",
       "      <th>0</th>\n",
       "      <td>WA</td>\n",
       "      <td>Prairie Ridge</td>\n",
       "      <td>Pierce</td>\n",
       "      <td>Prairie Ridge, WA</td>\n",
       "    </tr>\n",
       "    <tr>\n",
       "      <th>1</th>\n",
       "      <td>WA</td>\n",
       "      <td>Edison</td>\n",
       "      <td>Skagit</td>\n",
       "      <td>Edison, WA</td>\n",
       "    </tr>\n",
       "    <tr>\n",
       "      <th>2</th>\n",
       "      <td>WA</td>\n",
       "      <td>Packwood</td>\n",
       "      <td>Lewis</td>\n",
       "      <td>Packwood, WA</td>\n",
       "    </tr>\n",
       "    <tr>\n",
       "      <th>3</th>\n",
       "      <td>WA</td>\n",
       "      <td>Wautauga Beach</td>\n",
       "      <td>Kitsap</td>\n",
       "      <td>Wautauga Beach, WA</td>\n",
       "    </tr>\n",
       "    <tr>\n",
       "      <th>4</th>\n",
       "      <td>WA</td>\n",
       "      <td>Harper</td>\n",
       "      <td>Kitsap</td>\n",
       "      <td>Harper, WA</td>\n",
       "    </tr>\n",
       "  </tbody>\n",
       "</table>\n",
       "</div>"
      ],
      "text/plain": [
       "  State            City  County          City_State\n",
       "0    WA   Prairie Ridge  Pierce   Prairie Ridge, WA\n",
       "1    WA          Edison  Skagit          Edison, WA\n",
       "2    WA        Packwood   Lewis        Packwood, WA\n",
       "3    WA  Wautauga Beach  Kitsap  Wautauga Beach, WA\n",
       "4    WA          Harper  Kitsap          Harper, WA"
      ]
     },
     "execution_count": 11,
     "metadata": {},
     "output_type": "execute_result"
    }
   ],
   "source": [
    "### Now we create the seperate city, state, and county cols, and get rid of all the other info we don't need\n",
    "\n",
    "counties3 = counties['City_County'].str.split(pat=', ', expand = True)\n",
    "\n",
    "counties3.columns = ['State', 'City', 'County']\n",
    "\n",
    "counties3['City_State'] = counties3.City + \", \" + counties3.State\n",
    "\n",
    "counties3.head()"
   ]
  },
  {
   "cell_type": "code",
   "execution_count": 12,
   "metadata": {},
   "outputs": [],
   "source": [
    "#### Now we're going to make a dictionary, to match the city_state col with the county col\n",
    "\n",
    "counties_dict1 = pd.Series(counties3.County.values, index=counties3.City_State).to_dict()\n",
    "\n",
    "#print(counties_dict1)"
   ]
  },
  {
   "cell_type": "code",
   "execution_count": 15,
   "metadata": {},
   "outputs": [
    {
     "name": "stdout",
     "output_type": "stream",
     "text": [
      "   index    State Agency_Type Agency_Name Race Religion Sexual_Orientation  \\\n",
      "2      7  Alabama      Cities  Birmingham    7        1                  1   \n",
      "3      8  Alabama      Cities    Florence    1        0                  0   \n",
      "4      9  Alabama      Cities       Foley    1        0                  0   \n",
      "5     10  Alabama      Cities      Hoover    3        0                  0   \n",
      "8     13   Alaska      Cities   Anchorage    4        0                  0   \n",
      "\n",
      "  Disability Gender Gender_ID Q1 Q2 Q3 Q4     Pop Abbreviation  \\\n",
      "2          0      0         0  3  2  2  2  212549           AL   \n",
      "3          0      0         0  0  0  1  0   40160           AL   \n",
      "4          0      0         0  0  1  0  0   17639           AL   \n",
      "5          0      0         0  1  0  1  1   85601           AL   \n",
      "8          0      0         0  1  0  2  1  299097           AK   \n",
      "\n",
      "       City_State      County  \n",
      "2  Birmingham, AL   Jefferson  \n",
      "3    Florence, AL  Lauderdale  \n",
      "4       Foley, AL     Baldwin  \n",
      "5      Hoover, AL   Jefferson  \n",
      "8   Anchorage, AK   Anchorage  \n"
     ]
    }
   ],
   "source": [
    "#### So now we have a dataset with all the cities and counties, which should help us determine the county for each city in our original dataframe\n",
    "\n",
    "df2_counties = df2_cities.copy()\n",
    "\n",
    "df2_counties['County'] = df2_counties['City_State'].map(counties_dict1)\n",
    "\n",
    "print(df2_counties.head())"
   ]
  },
  {
   "cell_type": "code",
   "execution_count": 18,
   "metadata": {},
   "outputs": [
    {
     "data": {
      "text/plain": [
       "1265"
      ]
     },
     "execution_count": 18,
     "metadata": {},
     "output_type": "execute_result"
    }
   ],
   "source": [
    "### Now we want to know how many matches we can find, and thus how much information we can match\n",
    "\n",
    "len(df2_counties)"
   ]
  },
  {
   "cell_type": "code",
   "execution_count": 19,
   "metadata": {},
   "outputs": [
    {
     "data": {
      "text/plain": [
       "196"
      ]
     },
     "execution_count": 19,
     "metadata": {},
     "output_type": "execute_result"
    }
   ],
   "source": [
    "df2_counties['County'].isnull().sum()"
   ]
  },
  {
   "cell_type": "code",
   "execution_count": 20,
   "metadata": {},
   "outputs": [
    {
     "data": {
      "text/plain": [
       "0.8450592885375494"
      ]
     },
     "execution_count": 20,
     "metadata": {},
     "output_type": "execute_result"
    }
   ],
   "source": [
    "(1265 - 196)/1265 # so we have the county info for about 85% of the cities, or 1069"
   ]
  },
  {
   "cell_type": "code",
   "execution_count": 21,
   "metadata": {},
   "outputs": [
    {
     "name": "stdout",
     "output_type": "stream",
     "text": [
      "  county fips             cand  st  pct_report       votes  total_votes  \\\n",
      "0    NaN   US     Donald Trump  US      0.9951  60350241.0  127592176.0   \n",
      "1    NaN   US  Hillary Clinton  US      0.9951  60981118.0  127592176.0   \n",
      "2    NaN   US     Gary Johnson  US      0.9951   4164589.0  127592176.0   \n",
      "3    NaN   US       Jill Stein  US      0.9951   1255968.0  127592176.0   \n",
      "4    NaN   US    Evan McMullin  US      0.9951    451636.0  127592176.0   \n",
      "\n",
      "        pct          lead  \n",
      "0  0.472993  Donald Trump  \n",
      "1  0.477938  Donald Trump  \n",
      "2  0.032640  Donald Trump  \n",
      "3  0.009844  Donald Trump  \n",
      "4  0.003540  Donald Trump  \n"
     ]
    }
   ],
   "source": [
    "############ Now we read in the datasets that contain the election results\n",
    "# clean that, rehape so each candidate is a col, and organize it by county\n",
    "\n",
    "prez_file = '/Users/Laurasaur/Desktop/Springboard/Datasets/pres16results.csv'\n",
    "\n",
    "prez_df = pd.read_csv(prez_file)\n",
    "\n",
    "print(prez_df.head())"
   ]
  },
  {
   "cell_type": "code",
   "execution_count": 22,
   "metadata": {},
   "outputs": [
    {
     "name": "stdout",
     "output_type": "stream",
     "text": [
      "                 county             cand  st       pct\n",
      "159  Los Angeles County  Hillary Clinton  CA  0.714965\n",
      "160  Los Angeles County     Donald Trump  CA  0.234454\n",
      "161  Los Angeles County     Gary Johnson  CA  0.024589\n",
      "162  Los Angeles County       Jill Stein  CA  0.020171\n",
      "163  Los Angeles County   Gloria La Riva  CA  0.005821\n"
     ]
    }
   ],
   "source": [
    "# removing the cols we're not going to use, and dropping ann NAs (because they indicate a total count, not per county)\n",
    "\n",
    "prez_df1 = prez_df[['county', 'cand', 'st', 'pct']]\n",
    "\n",
    "prez_df2 = prez_df1.dropna()\n",
    "\n",
    "print(prez_df2.head())"
   ]
  },
  {
   "cell_type": "code",
   "execution_count": 23,
   "metadata": {},
   "outputs": [
    {
     "name": "stdout",
     "output_type": "stream",
     "text": [
      "          county             cand  st       pct\n",
      "159  Los Angeles  Hillary Clinton  CA  0.714965\n",
      "160  Los Angeles     Donald Trump  CA  0.234454\n",
      "161  Los Angeles     Gary Johnson  CA  0.024589\n",
      "162  Los Angeles       Jill Stein  CA  0.020171\n",
      "163  Los Angeles   Gloria La Riva  CA  0.005821\n"
     ]
    },
    {
     "name": "stderr",
     "output_type": "stream",
     "text": [
      "/anaconda3/lib/python3.6/site-packages/ipykernel_launcher.py:3: SettingWithCopyWarning: \n",
      "A value is trying to be set on a copy of a slice from a DataFrame.\n",
      "Try using .loc[row_indexer,col_indexer] = value instead\n",
      "\n",
      "See the caveats in the documentation: http://pandas.pydata.org/pandas-docs/stable/indexing.html#indexing-view-versus-copy\n",
      "  This is separate from the ipykernel package so we can avoid doing imports until\n"
     ]
    }
   ],
   "source": [
    "### Now we remove the word county from the counties, so they can be matched\n",
    "\n",
    "prez_df2['county'] = prez_df2.county.str.replace(' County', '')\n",
    "\n",
    "print(prez_df2.head())"
   ]
  },
  {
   "cell_type": "code",
   "execution_count": 24,
   "metadata": {},
   "outputs": [
    {
     "name": "stdout",
     "output_type": "stream",
     "text": [
      "          county             cand  st       pct     County_State\n",
      "159  Los Angeles  Hillary Clinton  CA  0.714965  Los Angeles, CA\n",
      "160  Los Angeles     Donald Trump  CA  0.234454  Los Angeles, CA\n",
      "161  Los Angeles     Gary Johnson  CA  0.024589  Los Angeles, CA\n",
      "162  Los Angeles       Jill Stein  CA  0.020171  Los Angeles, CA\n",
      "163  Los Angeles   Gloria La Riva  CA  0.005821  Los Angeles, CA\n"
     ]
    },
    {
     "name": "stderr",
     "output_type": "stream",
     "text": [
      "/anaconda3/lib/python3.6/site-packages/ipykernel_launcher.py:3: SettingWithCopyWarning: \n",
      "A value is trying to be set on a copy of a slice from a DataFrame.\n",
      "Try using .loc[row_indexer,col_indexer] = value instead\n",
      "\n",
      "See the caveats in the documentation: http://pandas.pydata.org/pandas-docs/stable/indexing.html#indexing-view-versus-copy\n",
      "  This is separate from the ipykernel package so we can avoid doing imports until\n"
     ]
    }
   ],
   "source": [
    "### Now we create a county state col\n",
    "\n",
    "prez_df2['County_State'] = prez_df2.county + \", \" + prez_df2.st\n",
    "\n",
    "print(prez_df2.head())"
   ]
  },
  {
   "cell_type": "code",
   "execution_count": 25,
   "metadata": {},
   "outputs": [
    {
     "name": "stdout",
     "output_type": "stream",
     "text": [
      "cand                None of these candidates  Alyson Kennedy  Bradford Lyttle  \\\n",
      "County_State                                                                    \n",
      "Abbeville, SC                            NaN             NaN              NaN   \n",
      "Acadia Parish, LA                        NaN        0.000292              NaN   \n",
      "Accomack, VA                             NaN             NaN              NaN   \n",
      "Ada, ID                                  NaN             NaN              NaN   \n",
      "Adair, IA                                NaN             NaN              NaN   \n",
      "\n",
      "cand               Chris Keniston  Dan Vacek  Darrell Castle  Donald Trump  \\\n",
      "County_State                                                                 \n",
      "Abbeville, SC                 NaN        NaN        0.003543      0.628683   \n",
      "Acadia Parish, LA        0.001022        NaN        0.001826      0.772621   \n",
      "Accomack, VA                  NaN        NaN             NaN      0.544716   \n",
      "Ada, ID                       NaN        NaN        0.005200      0.479316   \n",
      "Adair, IA                     NaN    0.00266        0.002660      0.653365   \n",
      "\n",
      "cand               Emidio Soltysik  Evan McMullin  Frank Atwood      ...       \\\n",
      "County_State                                                         ...        \n",
      "Abbeville, SC                  NaN       0.005222           NaN      ...        \n",
      "Acadia Parish, LA              NaN       0.002702           NaN      ...        \n",
      "Accomack, VA                   NaN       0.007109           NaN      ...        \n",
      "Ada, ID                        NaN       0.057284           NaN      ...        \n",
      "Adair, IA                      NaN       0.002660           NaN      ...        \n",
      "\n",
      "cand               Monica Moorehead  Peter Skewes  Princess Jacob  \\\n",
      "County_State                                                        \n",
      "Abbeville, SC                   NaN      0.001119             NaN   \n",
      "Acadia Parish, LA               NaN           NaN        0.000329   \n",
      "Accomack, VA                    NaN           NaN             NaN   \n",
      "Ada, ID                         NaN           NaN             NaN   \n",
      "Adair, IA                       NaN           NaN             NaN   \n",
      "\n",
      "cand               Richard Duncan  Rocky De La Fuente  Rocky Giordani  \\\n",
      "County_State                                                            \n",
      "Abbeville, SC                 NaN                 NaN             NaN   \n",
      "Acadia Parish, LA             NaN                 NaN             NaN   \n",
      "Accomack, VA                  NaN                 NaN             NaN   \n",
      "Ada, ID                       NaN            0.001784             NaN   \n",
      "Adair, IA                     NaN            0.000798             NaN   \n",
      "\n",
      "cand               Rod Silva  Ryan Scott  Scott Copeland  Tom Hoefling  \n",
      "County_State                                                            \n",
      "Abbeville, SC            NaN         NaN             NaN           NaN  \n",
      "Acadia Parish, LA        NaN         NaN             NaN      0.000365  \n",
      "Accomack, VA             NaN         NaN             NaN           NaN  \n",
      "Ada, ID                  NaN         NaN        0.002459           NaN  \n",
      "Adair, IA                NaN         NaN             NaN           NaN  \n",
      "\n",
      "[5 rows x 32 columns]\n"
     ]
    }
   ],
   "source": [
    "### now we reshape the data so that each candidate is a col\n",
    "\n",
    "prez_reshape = prez_df2.pivot(index = 'County_State', columns = 'cand', values = 'pct')\n",
    "\n",
    "print(prez_reshape.head())"
   ]
  },
  {
   "cell_type": "code",
   "execution_count": 26,
   "metadata": {},
   "outputs": [
    {
     "name": "stdout",
     "output_type": "stream",
     "text": [
      "Index([' None of these candidates', 'Alyson Kennedy', 'Bradford Lyttle',\n",
      "       'Chris Keniston', 'Dan Vacek', 'Darrell Castle', 'Donald Trump',\n",
      "       'Emidio Soltysik', 'Evan McMullin', 'Frank Atwood', 'Gary Johnson',\n",
      "       'Gloria La Riva', 'Hillary Clinton', 'Jerry White', 'Jill Stein',\n",
      "       'Jim Hedges', 'Joseph Maldonado', 'Kyle Kopitke', 'Laurence Kotlikoff',\n",
      "       'Lynn Kahn', 'Michael Maturen', 'Mike Smith', 'Monica Moorehead',\n",
      "       'Peter Skewes', 'Princess Jacob', 'Richard Duncan',\n",
      "       'Rocky De La Fuente', 'Rocky Giordani', 'Rod Silva', 'Ryan Scott',\n",
      "       'Scott Copeland', 'Tom Hoefling'],\n",
      "      dtype='object', name='cand')\n"
     ]
    }
   ],
   "source": [
    "# Next we check the names of the cols, to see how to proceed\n",
    "\n",
    "print(prez_reshape.columns)"
   ]
  },
  {
   "cell_type": "code",
   "execution_count": 27,
   "metadata": {},
   "outputs": [
    {
     "name": "stdout",
     "output_type": "stream",
     "text": [
      "cand               Donald Trump  Hillary Clinton   None of these candidates  \\\n",
      "County_State                                                                  \n",
      "Abbeville, SC          0.628683         0.346140                        NaN   \n",
      "Acadia Parish, LA      0.772621         0.205872                        NaN   \n",
      "Accomack, VA           0.544716         0.427610                        NaN   \n",
      "Ada, ID                0.479316         0.386917                        NaN   \n",
      "Adair, IA              0.653365         0.299814                        NaN   \n",
      "\n",
      "cand               Alyson Kennedy  Bradford Lyttle  Chris Keniston  Dan Vacek  \\\n",
      "County_State                                                                    \n",
      "Abbeville, SC                 NaN              NaN             NaN        NaN   \n",
      "Acadia Parish, LA        0.000292              NaN        0.001022        NaN   \n",
      "Accomack, VA                  NaN              NaN             NaN        NaN   \n",
      "Ada, ID                       NaN              NaN             NaN        NaN   \n",
      "Adair, IA                     NaN              NaN             NaN    0.00266   \n",
      "\n",
      "cand               Darrell Castle  Emidio Soltysik  Evan McMullin  \\\n",
      "County_State                                                        \n",
      "Abbeville, SC            0.003543              NaN       0.005222   \n",
      "Acadia Parish, LA        0.001826              NaN       0.002702   \n",
      "Accomack, VA                  NaN              NaN       0.007109   \n",
      "Ada, ID                  0.005200              NaN       0.057284   \n",
      "Adair, IA                0.002660              NaN       0.002660   \n",
      "\n",
      "cand                   ...       Monica Moorehead  Peter Skewes  \\\n",
      "County_State           ...                                        \n",
      "Abbeville, SC          ...                    NaN      0.001119   \n",
      "Acadia Parish, LA      ...                    NaN           NaN   \n",
      "Accomack, VA           ...                    NaN           NaN   \n",
      "Ada, ID                ...                    NaN           NaN   \n",
      "Adair, IA              ...                    NaN           NaN   \n",
      "\n",
      "cand               Princess Jacob  Richard Duncan  Rocky De La Fuente  \\\n",
      "County_State                                                            \n",
      "Abbeville, SC                 NaN             NaN                 NaN   \n",
      "Acadia Parish, LA        0.000329             NaN                 NaN   \n",
      "Accomack, VA                  NaN             NaN                 NaN   \n",
      "Ada, ID                       NaN             NaN            0.001784   \n",
      "Adair, IA                     NaN             NaN            0.000798   \n",
      "\n",
      "cand               Rocky Giordani  Rod Silva  Ryan Scott  Scott Copeland  \\\n",
      "County_State                                                               \n",
      "Abbeville, SC                 NaN        NaN         NaN             NaN   \n",
      "Acadia Parish, LA             NaN        NaN         NaN             NaN   \n",
      "Accomack, VA                  NaN        NaN         NaN             NaN   \n",
      "Ada, ID                       NaN        NaN         NaN        0.002459   \n",
      "Adair, IA                     NaN        NaN         NaN             NaN   \n",
      "\n",
      "cand               Tom Hoefling  \n",
      "County_State                     \n",
      "Abbeville, SC               NaN  \n",
      "Acadia Parish, LA      0.000365  \n",
      "Accomack, VA                NaN  \n",
      "Ada, ID                     NaN  \n",
      "Adair, IA                   NaN  \n",
      "\n",
      "[5 rows x 32 columns]\n"
     ]
    }
   ],
   "source": [
    "## Now we're going to reorder some of the cols\n",
    "\n",
    "prez_reshape = prez_reshape[['Donald Trump', 'Hillary Clinton', ' None of these candidates', 'Alyson Kennedy', 'Bradford Lyttle',\n",
    "       'Chris Keniston', 'Dan Vacek', 'Darrell Castle',\n",
    "       'Emidio Soltysik', 'Evan McMullin', 'Frank Atwood', 'Gary Johnson',\n",
    "       'Gloria La Riva', 'Jerry White', 'Jill Stein',\n",
    "       'Jim Hedges', 'Joseph Maldonado', 'Kyle Kopitke', 'Laurence Kotlikoff',\n",
    "       'Lynn Kahn', 'Michael Maturen', 'Mike Smith', 'Monica Moorehead',\n",
    "       'Peter Skewes', 'Princess Jacob', 'Richard Duncan',\n",
    "       'Rocky De La Fuente', 'Rocky Giordani', 'Rod Silva', 'Ryan Scott',\n",
    "       'Scott Copeland', 'Tom Hoefling']]\n",
    "\n",
    "print(prez_reshape.head())"
   ]
  },
  {
   "cell_type": "code",
   "execution_count": 29,
   "metadata": {},
   "outputs": [
    {
     "name": "stdout",
     "output_type": "stream",
     "text": [
      "cand               Donald Trump  Hillary Clinton  Independent\n",
      "County_State                                                 \n",
      "Abbeville, SC          0.628683         0.346140     0.050354\n",
      "Acadia Parish, LA      0.772621         0.205872     0.043015\n",
      "Accomack, VA           0.544716         0.427610     0.055348\n",
      "Ada, ID                0.479316         0.386917     0.267533\n",
      "Adair, IA              0.653365         0.299814     0.093642\n"
     ]
    }
   ],
   "source": [
    "## Now we're going to create another dataset that doesn't contain Trump or Clinton, so we can then use a summation and\n",
    "## create another col, Independent, for the independents\n",
    "\n",
    "col_list = list(prez_reshape)\n",
    "\n",
    "col_list.remove('Donald Trump')\n",
    "col_list.remove('Hillary Clinton')\n",
    "\n",
    "prez_reshape['Independent'] = prez_reshape[col_list].sum(axis=1)\n",
    "\n",
    "pres_reshaped_final = prez_reshape[['Donald Trump', 'Hillary Clinton', 'Independent']]\n",
    "\n",
    "print(pres_reshaped_final.head())"
   ]
  },
  {
   "cell_type": "code",
   "execution_count": 30,
   "metadata": {},
   "outputs": [
    {
     "data": {
      "text/html": [
       "<div>\n",
       "<style scoped>\n",
       "    .dataframe tbody tr th:only-of-type {\n",
       "        vertical-align: middle;\n",
       "    }\n",
       "\n",
       "    .dataframe tbody tr th {\n",
       "        vertical-align: top;\n",
       "    }\n",
       "\n",
       "    .dataframe thead th {\n",
       "        text-align: right;\n",
       "    }\n",
       "</style>\n",
       "<table border=\"1\" class=\"dataframe\">\n",
       "  <thead>\n",
       "    <tr style=\"text-align: right;\">\n",
       "      <th></th>\n",
       "      <th>index</th>\n",
       "      <th>State</th>\n",
       "      <th>Agency_Type</th>\n",
       "      <th>Agency_Name</th>\n",
       "      <th>Race</th>\n",
       "      <th>Religion</th>\n",
       "      <th>Sexual_Orientation</th>\n",
       "      <th>Disability</th>\n",
       "      <th>Gender</th>\n",
       "      <th>Gender_ID</th>\n",
       "      <th>Q1</th>\n",
       "      <th>Q2</th>\n",
       "      <th>Q3</th>\n",
       "      <th>Q4</th>\n",
       "      <th>Pop</th>\n",
       "      <th>Abbreviation</th>\n",
       "      <th>City_State</th>\n",
       "      <th>County</th>\n",
       "      <th>County_State</th>\n",
       "    </tr>\n",
       "  </thead>\n",
       "  <tbody>\n",
       "    <tr>\n",
       "      <th>2</th>\n",
       "      <td>7</td>\n",
       "      <td>Alabama</td>\n",
       "      <td>Cities</td>\n",
       "      <td>Birmingham</td>\n",
       "      <td>7</td>\n",
       "      <td>1</td>\n",
       "      <td>1</td>\n",
       "      <td>0</td>\n",
       "      <td>0</td>\n",
       "      <td>0</td>\n",
       "      <td>3</td>\n",
       "      <td>2</td>\n",
       "      <td>2</td>\n",
       "      <td>2</td>\n",
       "      <td>212549</td>\n",
       "      <td>AL</td>\n",
       "      <td>Birmingham, AL</td>\n",
       "      <td>Jefferson</td>\n",
       "      <td>Jefferson, AL</td>\n",
       "    </tr>\n",
       "    <tr>\n",
       "      <th>3</th>\n",
       "      <td>8</td>\n",
       "      <td>Alabama</td>\n",
       "      <td>Cities</td>\n",
       "      <td>Florence</td>\n",
       "      <td>1</td>\n",
       "      <td>0</td>\n",
       "      <td>0</td>\n",
       "      <td>0</td>\n",
       "      <td>0</td>\n",
       "      <td>0</td>\n",
       "      <td>0</td>\n",
       "      <td>0</td>\n",
       "      <td>1</td>\n",
       "      <td>0</td>\n",
       "      <td>40160</td>\n",
       "      <td>AL</td>\n",
       "      <td>Florence, AL</td>\n",
       "      <td>Lauderdale</td>\n",
       "      <td>Lauderdale, AL</td>\n",
       "    </tr>\n",
       "    <tr>\n",
       "      <th>4</th>\n",
       "      <td>9</td>\n",
       "      <td>Alabama</td>\n",
       "      <td>Cities</td>\n",
       "      <td>Foley</td>\n",
       "      <td>1</td>\n",
       "      <td>0</td>\n",
       "      <td>0</td>\n",
       "      <td>0</td>\n",
       "      <td>0</td>\n",
       "      <td>0</td>\n",
       "      <td>0</td>\n",
       "      <td>1</td>\n",
       "      <td>0</td>\n",
       "      <td>0</td>\n",
       "      <td>17639</td>\n",
       "      <td>AL</td>\n",
       "      <td>Foley, AL</td>\n",
       "      <td>Baldwin</td>\n",
       "      <td>Baldwin, AL</td>\n",
       "    </tr>\n",
       "    <tr>\n",
       "      <th>5</th>\n",
       "      <td>10</td>\n",
       "      <td>Alabama</td>\n",
       "      <td>Cities</td>\n",
       "      <td>Hoover</td>\n",
       "      <td>3</td>\n",
       "      <td>0</td>\n",
       "      <td>0</td>\n",
       "      <td>0</td>\n",
       "      <td>0</td>\n",
       "      <td>0</td>\n",
       "      <td>1</td>\n",
       "      <td>0</td>\n",
       "      <td>1</td>\n",
       "      <td>1</td>\n",
       "      <td>85601</td>\n",
       "      <td>AL</td>\n",
       "      <td>Hoover, AL</td>\n",
       "      <td>Jefferson</td>\n",
       "      <td>Jefferson, AL</td>\n",
       "    </tr>\n",
       "    <tr>\n",
       "      <th>8</th>\n",
       "      <td>13</td>\n",
       "      <td>Alaska</td>\n",
       "      <td>Cities</td>\n",
       "      <td>Anchorage</td>\n",
       "      <td>4</td>\n",
       "      <td>0</td>\n",
       "      <td>0</td>\n",
       "      <td>0</td>\n",
       "      <td>0</td>\n",
       "      <td>0</td>\n",
       "      <td>1</td>\n",
       "      <td>0</td>\n",
       "      <td>2</td>\n",
       "      <td>1</td>\n",
       "      <td>299097</td>\n",
       "      <td>AK</td>\n",
       "      <td>Anchorage, AK</td>\n",
       "      <td>Anchorage</td>\n",
       "      <td>Anchorage, AK</td>\n",
       "    </tr>\n",
       "  </tbody>\n",
       "</table>\n",
       "</div>"
      ],
      "text/plain": [
       "   index    State Agency_Type Agency_Name Race Religion Sexual_Orientation  \\\n",
       "2      7  Alabama      Cities  Birmingham    7        1                  1   \n",
       "3      8  Alabama      Cities    Florence    1        0                  0   \n",
       "4      9  Alabama      Cities       Foley    1        0                  0   \n",
       "5     10  Alabama      Cities      Hoover    3        0                  0   \n",
       "8     13   Alaska      Cities   Anchorage    4        0                  0   \n",
       "\n",
       "  Disability Gender Gender_ID Q1 Q2 Q3 Q4     Pop Abbreviation  \\\n",
       "2          0      0         0  3  2  2  2  212549           AL   \n",
       "3          0      0         0  0  0  1  0   40160           AL   \n",
       "4          0      0         0  0  1  0  0   17639           AL   \n",
       "5          0      0         0  1  0  1  1   85601           AL   \n",
       "8          0      0         0  1  0  2  1  299097           AK   \n",
       "\n",
       "       City_State      County    County_State  \n",
       "2  Birmingham, AL   Jefferson   Jefferson, AL  \n",
       "3    Florence, AL  Lauderdale  Lauderdale, AL  \n",
       "4       Foley, AL     Baldwin     Baldwin, AL  \n",
       "5      Hoover, AL   Jefferson   Jefferson, AL  \n",
       "8   Anchorage, AK   Anchorage   Anchorage, AK  "
      ]
     },
     "execution_count": 30,
     "metadata": {},
     "output_type": "execute_result"
    }
   ],
   "source": [
    "#### Now we're gonna merge the political information with the hate crime dataset\n",
    "\n",
    "# here, we create the county state variable to merge on, since each county name might be repeated across states\n",
    "df2_counties['County_State'] = df2_counties.County + \", \" + df2_counties.Abbreviation\n",
    "\n",
    "df2_counties.head()"
   ]
  },
  {
   "cell_type": "code",
   "execution_count": 31,
   "metadata": {},
   "outputs": [
    {
     "name": "stdout",
     "output_type": "stream",
     "text": [
      "   index    State Agency_Type Agency_Name Race Religion Sexual_Orientation  \\\n",
      "2      7  Alabama      Cities  Birmingham    7        1                  1   \n",
      "3      8  Alabama      Cities    Florence    1        0                  0   \n",
      "4      9  Alabama      Cities       Foley    1        0                  0   \n",
      "5     10  Alabama      Cities      Hoover    3        0                  0   \n",
      "8     13   Alaska      Cities   Anchorage    4        0                  0   \n",
      "\n",
      "  Disability Gender Gender_ID     ...      Q3 Q4     Pop Abbreviation  \\\n",
      "2          0      0         0     ...       2  2  212549           AL   \n",
      "3          0      0         0     ...       1  0   40160           AL   \n",
      "4          0      0         0     ...       0  0   17639           AL   \n",
      "5          0      0         0     ...       1  1   85601           AL   \n",
      "8          0      0         0     ...       2  1  299097           AK   \n",
      "\n",
      "       City_State      County    County_State Donald Trump Hillary Clinton  \\\n",
      "2  Birmingham, AL   Jefferson   Jefferson, AL     0.450221        0.522493   \n",
      "3    Florence, AL  Lauderdale  Lauderdale, AL     0.714580        0.254477   \n",
      "4       Foley, AL     Baldwin     Baldwin, AL     0.773515        0.195653   \n",
      "5      Hoover, AL   Jefferson   Jefferson, AL     0.450221        0.522493   \n",
      "8   Anchorage, AK   Anchorage   Anchorage, AK          NaN             NaN   \n",
      "\n",
      "   Independent  \n",
      "2     0.054572  \n",
      "3     0.061886  \n",
      "4     0.061664  \n",
      "5     0.054572  \n",
      "8          NaN  \n",
      "\n",
      "[5 rows x 22 columns]\n"
     ]
    }
   ],
   "source": [
    "### Now we do the merge, using the ID and the County_State cols, and we use a left merge because we're only interested in info from the hate crimes dataset\n",
    "merge1 = pd.merge(df2_counties, pres_reshaped_final, right_index = True, left_on = 'County_State', how='left')\n",
    "\n",
    "print(merge1.head())"
   ]
  },
  {
   "cell_type": "code",
   "execution_count": null,
   "metadata": {},
   "outputs": [],
   "source": [
    "### now we look at the missing datapoints\n",
    "\n",
    "merge1['Donald Trump'].isnull().sum() \n"
   ]
  },
  {
   "cell_type": "markdown",
   "metadata": {},
   "source": [
    "We don't have political information for aprox 218 counties, BUT 196 of the cities don't have county info, so that makes sense"
   ]
  },
  {
   "cell_type": "code",
   "execution_count": 33,
   "metadata": {},
   "outputs": [
    {
     "name": "stdout",
     "output_type": "stream",
     "text": [
      "   fips      area_name state_abbreviation  PST045214  PST040210  PST120214  \\\n",
      "0     0  United States                NaN  318857056  308758105        3.3   \n",
      "1  1000        Alabama                NaN    4849377    4780127        1.4   \n",
      "2  1001        Autauga                 AL      55395      54571        1.5   \n",
      "3  1003        Baldwin                 AL     200111     182265        9.8   \n",
      "4  1005        Barbour                 AL      26887      27457       -2.1   \n",
      "\n",
      "   POP010210  AGE135214  AGE295214  AGE775214    ...      SBO415207  \\\n",
      "0  308745538        6.2       23.1       14.5    ...            8.3   \n",
      "1    4779736        6.1       22.8       15.3    ...            1.2   \n",
      "2      54571        6.0       25.2       13.8    ...            0.7   \n",
      "3     182265        5.6       22.2       18.7    ...            1.3   \n",
      "4      27457        5.7       21.2       16.5    ...            0.0   \n",
      "\n",
      "   SBO015207   MAN450207   WTN220207   RTN130207  RTN131207  AFN120207  \\\n",
      "0       28.8  5319456312  4174286516  3917663456      12990  613795732   \n",
      "1       28.1   112858843    52252752    57344851      12364    6426342   \n",
      "2       31.7           0           0      598175      12003      88157   \n",
      "3       27.3     1410273           0     2966489      17166     436955   \n",
      "4       27.0           0           0      188337       6334          0   \n",
      "\n",
      "   BPS030214   LND110210  POP060210  \n",
      "0    1046363  3531905.43       87.4  \n",
      "1      13369    50645.33       94.4  \n",
      "2        131      594.44       91.8  \n",
      "3       1384     1589.78      114.6  \n",
      "4          8      884.88       31.0  \n",
      "\n",
      "[5 rows x 54 columns]\n"
     ]
    }
   ],
   "source": [
    "############### Next, we import and clean the dataset with the demographic informaton about each political county\n",
    "\n",
    "facts_file = '/Users/Laurasaur/Desktop/Springboard/Datasets/2016-us-election/county_facts.csv'\n",
    "\n",
    "facts_df = pd.read_csv(facts_file)\n",
    "\n",
    "### Removes the word county from the area name, so it can be matched with state\n",
    "\n",
    "facts_df['area_name'] = facts_df.area_name.str.replace(' County', '')\n",
    "\n",
    "print(facts_df.head())"
   ]
  },
  {
   "cell_type": "code",
   "execution_count": 34,
   "metadata": {},
   "outputs": [
    {
     "name": "stdout",
     "output_type": "stream",
     "text": [
      "   fips      area_name state_abbreviation    pop2014  pop2010base  pop_change  \\\n",
      "0     0  United States                NaN  318857056    308758105         3.3   \n",
      "1  1000        Alabama                NaN    4849377      4780127         1.4   \n",
      "2  1001        Autauga                 AL      55395        54571         1.5   \n",
      "3  1003        Baldwin                 AL     200111       182265         9.8   \n",
      "4  1005        Barbour                 AL      26887        27457        -2.1   \n",
      "\n",
      "     pop2010  under5  under18  over65       ...         hispanic_firms  \\\n",
      "0  308745538     6.2     23.1    14.5       ...                    8.3   \n",
      "1    4779736     6.1     22.8    15.3       ...                    1.2   \n",
      "2      54571     6.0     25.2    13.8       ...                    0.7   \n",
      "3     182265     5.6     22.2    18.7       ...                    1.3   \n",
      "4      27457     5.7     21.2    16.5       ...                    0.0   \n",
      "\n",
      "   women_firms   shipments       sales  retail_sales  retail_sales_per_cap  \\\n",
      "0         28.8  5319456312  4174286516    3917663456                 12990   \n",
      "1         28.1   112858843    52252752      57344851                 12364   \n",
      "2         31.7           0           0        598175                 12003   \n",
      "3         27.3     1410273           0       2966489                 17166   \n",
      "4         27.0           0           0        188337                  6334   \n",
      "\n",
      "   acc_food_sales  building_permits   land_area  pop_per_sq_mile  \n",
      "0       613795732           1046363  3531905.43             87.4  \n",
      "1         6426342             13369    50645.33             94.4  \n",
      "2           88157               131      594.44             91.8  \n",
      "3          436955              1384     1589.78            114.6  \n",
      "4               0                 8      884.88             31.0  \n",
      "\n",
      "[5 rows x 54 columns]\n"
     ]
    }
   ],
   "source": [
    "### we're gonna rename the cols to make them more readable, and to pick which we want to use\n",
    "\n",
    "\n",
    "col_names_facts = ['fips', 'area_name', 'state_abbreviation', 'pop2014', 'pop2010base', 'pop_change', 'pop2010', 'under5', 'under18', 'over65', 'female_pct', 'white_pct', 'black_pct', \n",
    "                   'native_american_pct', 'asian_pct', 'pacific_pct', 'biracial_pct', 'hispanic_pct', 'white_not_hispanic', 'same_house_pct', 'foreign_born_pct', 'non-english_home_pct', 'hs_higher_pct',\n",
    "                   'college_pct', 'vetrans', 'time_to_work', 'housing_units', 'homeownership', 'housing_multiunits', 'housing_value', 'households', 'persons_per_household', \n",
    "                   'per_cap_income', 'median_household_income', 'below_pov_pct', 'nonfarms', 'nonfarm_employment', 'nonfarm_pct_change', 'nonemployments', 'num_firms', \n",
    "                   'black_owned_firms', 'native_firms', 'asian_firms', 'pacific_firms', 'hispanic_firms', 'women_firms', 'shipments', 'sales', 'retail_sales', 'retail_sales_per_cap',\n",
    "                   'acc_food_sales', 'building_permits', 'land_area', 'pop_per_sq_mile']\n",
    "\n",
    "facts_df.columns = col_names_facts\n",
    "\n",
    "print(facts_df.head())"
   ]
  },
  {
   "cell_type": "code",
   "execution_count": 35,
   "metadata": {},
   "outputs": [
    {
     "name": "stdout",
     "output_type": "stream",
     "text": [
      "   fips area_name state_abbreviation  pop2014  pop2010base  pop_change  \\\n",
      "2  1001   Autauga                 AL    55395        54571         1.5   \n",
      "3  1003   Baldwin                 AL   200111       182265         9.8   \n",
      "4  1005   Barbour                 AL    26887        27457        -2.1   \n",
      "5  1007      Bibb                 AL    22506        22919        -1.8   \n",
      "6  1009    Blount                 AL    57719        57322         0.7   \n",
      "\n",
      "   pop2010  under5  under18  over65      ...       women_firms  shipments  \\\n",
      "2    54571     6.0     25.2    13.8      ...              31.7          0   \n",
      "3   182265     5.6     22.2    18.7      ...              27.3    1410273   \n",
      "4    27457     5.7     21.2    16.5      ...              27.0          0   \n",
      "5    22915     5.3     21.0    14.8      ...               0.0          0   \n",
      "6    57322     6.1     23.6    17.0      ...              23.2     341544   \n",
      "\n",
      "   sales  retail_sales  retail_sales_per_cap  acc_food_sales  \\\n",
      "2      0        598175                 12003           88157   \n",
      "3      0       2966489                 17166          436955   \n",
      "4      0        188337                  6334               0   \n",
      "5      0        124707                  5804           10757   \n",
      "6      0        319700                  5622           20941   \n",
      "\n",
      "   building_permits  land_area  pop_per_sq_mile  County_State  \n",
      "2               131     594.44             91.8   Autauga, AL  \n",
      "3              1384    1589.78            114.6   Baldwin, AL  \n",
      "4                 8     884.88             31.0   Barbour, AL  \n",
      "5                19     622.58             36.8      Bibb, AL  \n",
      "6                 3     644.78             88.9    Blount, AL  \n",
      "\n",
      "[5 rows x 55 columns]\n"
     ]
    },
    {
     "name": "stderr",
     "output_type": "stream",
     "text": [
      "/anaconda3/lib/python3.6/site-packages/ipykernel_launcher.py:5: SettingWithCopyWarning: \n",
      "A value is trying to be set on a copy of a slice from a DataFrame.\n",
      "Try using .loc[row_indexer,col_indexer] = value instead\n",
      "\n",
      "See the caveats in the documentation: http://pandas.pydata.org/pandas-docs/stable/indexing.html#indexing-view-versus-copy\n",
      "  \"\"\"\n"
     ]
    }
   ],
   "source": [
    "### dropping nas and adding county state\n",
    "\n",
    "facts_df2 = facts_df.dropna()\n",
    "\n",
    "facts_df2['County_State'] = facts_df2.area_name + \", \" + facts_df2.state_abbreviation\n",
    "\n",
    "print(facts_df2.head())"
   ]
  },
  {
   "cell_type": "code",
   "execution_count": 36,
   "metadata": {},
   "outputs": [
    {
     "name": "stdout",
     "output_type": "stream",
     "text": [
      "   index    State Agency_Type Agency_Name Race Religion Sexual_Orientation  \\\n",
      "0      7  Alabama      Cities  Birmingham    7        1                  1   \n",
      "1      8  Alabama      Cities    Florence    1        0                  0   \n",
      "2      9  Alabama      Cities       Foley    1        0                  0   \n",
      "3     10  Alabama      Cities      Hoover    3        0                  0   \n",
      "4     13   Alaska      Cities   Anchorage    4        0                  0   \n",
      "\n",
      "  Disability Gender Gender_ID       ...        hispanic_firms women_firms  \\\n",
      "0          0      0         0       ...                   1.3        29.8   \n",
      "1          0      0         0       ...                   0.0        27.6   \n",
      "2          0      0         0       ...                   1.3        27.3   \n",
      "3          0      0         0       ...                   1.3        29.8   \n",
      "4          0      0         0       ...                   NaN         NaN   \n",
      "\n",
      "    shipments       sales retail_sales retail_sales_per_cap acc_food_sales  \\\n",
      "0  10260950.0  13756797.0   11066328.0              16730.0      1268154.0   \n",
      "1   1083658.0    514555.0    1131585.0              12783.0       136587.0   \n",
      "2   1410273.0         0.0    2966489.0              17166.0       436955.0   \n",
      "3  10260950.0  13756797.0   11066328.0              16730.0      1268154.0   \n",
      "4         NaN         NaN          NaN                  NaN            NaN   \n",
      "\n",
      "  building_permits land_area  pop_per_sq_mile  \n",
      "0           2280.0   1111.28            592.5  \n",
      "1             54.0    667.70            138.8  \n",
      "2           1384.0   1589.78            114.6  \n",
      "3           2280.0   1111.28            592.5  \n",
      "4              NaN       NaN              NaN  \n",
      "\n",
      "[5 rows x 76 columns]\n"
     ]
    }
   ],
   "source": [
    "##### Now we connect the political information, hate crime information, and demographic information to create the final dataset\n",
    "\n",
    "merge2 = pd.merge(merge1, facts_df2, right_on = 'County_State', left_on = 'County_State', how='left')\n",
    "\n",
    "print(merge2.head())"
   ]
  },
  {
   "cell_type": "code",
   "execution_count": 37,
   "metadata": {},
   "outputs": [
    {
     "data": {
      "text/plain": [
       "218"
      ]
     },
     "execution_count": 37,
     "metadata": {},
     "output_type": "execute_result"
    }
   ],
   "source": [
    "### Last, we check how many of the datapoints in the combined dataset are null. I picked the col randomly\n",
    "## we found 218 null values, the same as before, meaning that all the info for the datapoints that have county info\n",
    "## could be accounted for in the new dataset\n",
    "\n",
    "merge2['female_pct'].isnull().sum() "
   ]
  },
  {
   "cell_type": "code",
   "execution_count": 38,
   "metadata": {},
   "outputs": [
    {
     "name": "stdout",
     "output_type": "stream",
     "text": [
      "   index    State Agency_Type Agency_Name Race Religion Sexual_Orientation  \\\n",
      "0      7  Alabama      Cities  Birmingham    7        1                  1   \n",
      "1      8  Alabama      Cities    Florence    1        0                  0   \n",
      "2      9  Alabama      Cities       Foley    1        0                  0   \n",
      "3     10  Alabama      Cities      Hoover    3        0                  0   \n",
      "4     13   Alaska      Cities   Anchorage    4        0                  0   \n",
      "\n",
      "  Disability Gender Gender_ID        ...         women_firms   shipments  \\\n",
      "0          0      0         0        ...                29.8  10260950.0   \n",
      "1          0      0         0        ...                27.6   1083658.0   \n",
      "2          0      0         0        ...                27.3   1410273.0   \n",
      "3          0      0         0        ...                29.8  10260950.0   \n",
      "4          0      0         0        ...                 NaN         NaN   \n",
      "\n",
      "        sales retail_sales retail_sales_per_cap acc_food_sales  \\\n",
      "0  13756797.0   11066328.0              16730.0      1268154.0   \n",
      "1    514555.0    1131585.0              12783.0       136587.0   \n",
      "2         0.0    2966489.0              17166.0       436955.0   \n",
      "3  13756797.0   11066328.0              16730.0      1268154.0   \n",
      "4         NaN          NaN                  NaN            NaN   \n",
      "\n",
      "  building_permits land_area pop_per_sq_mile  Total_Hate_Crimes  \n",
      "0           2280.0   1111.28           592.5                  9  \n",
      "1             54.0    667.70           138.8                  1  \n",
      "2           1384.0   1589.78           114.6                  1  \n",
      "3           2280.0   1111.28           592.5                  3  \n",
      "4              NaN       NaN             NaN                  4  \n",
      "\n",
      "[5 rows x 77 columns]\n"
     ]
    }
   ],
   "source": [
    "# Lastly, I want to create a col that records the total number of hate crimes acorss quarters\n",
    "\n",
    "merge2['Total_Hate_Crimes'] = merge2.Q1 + merge2.Q2 + merge2.Q3 + merge2.Q4\n",
    "\n",
    "print(merge2.head())"
   ]
  },
  {
   "cell_type": "code",
   "execution_count": 39,
   "metadata": {},
   "outputs": [
    {
     "data": {
      "text/plain": [
       "Index(['index', 'State', 'Agency_Type', 'Agency_Name', 'Race', 'Religion',\n",
       "       'Sexual_Orientation', 'Disability', 'Gender', 'Gender_ID', 'Q1', 'Q2',\n",
       "       'Q3', 'Q4', 'Pop', 'Abbreviation', 'City_State', 'County',\n",
       "       'County_State', 'Donald Trump', 'Hillary Clinton', 'Independent',\n",
       "       'fips', 'area_name', 'state_abbreviation', 'pop2014', 'pop2010base',\n",
       "       'pop_change', 'pop2010', 'under5', 'under18', 'over65', 'female_pct',\n",
       "       'white_pct', 'black_pct', 'native_american_pct', 'asian_pct',\n",
       "       'pacific_pct', 'biracial_pct', 'hispanic_pct', 'white_not_hispanic',\n",
       "       'same_house_pct', 'foreign_born_pct', 'non-english_home_pct',\n",
       "       'hs_higher_pct', 'college_pct', 'vetrans', 'time_to_work',\n",
       "       'housing_units', 'homeownership', 'housing_multiunits', 'housing_value',\n",
       "       'households', 'persons_per_household', 'per_cap_income',\n",
       "       'median_household_income', 'below_pov_pct', 'nonfarms',\n",
       "       'nonfarm_employment', 'nonfarm_pct_change', 'nonemployments',\n",
       "       'num_firms', 'black_owned_firms', 'native_firms', 'asian_firms',\n",
       "       'pacific_firms', 'hispanic_firms', 'women_firms', 'shipments', 'sales',\n",
       "       'retail_sales', 'retail_sales_per_cap', 'acc_food_sales',\n",
       "       'building_permits', 'land_area', 'pop_per_sq_mile',\n",
       "       'Total_Hate_Crimes'],\n",
       "      dtype='object')"
      ]
     },
     "execution_count": 39,
     "metadata": {},
     "output_type": "execute_result"
    }
   ],
   "source": [
    "## First we're going to examine the cols, to see what we're working with and get some ideas for visualizations\n",
    "## (and also import some packages we might need)\n",
    "import matplotlib.pyplot as plt\n",
    "\n",
    "import seaborn as sns\n",
    "\n",
    "merge2.columns"
   ]
  },
  {
   "cell_type": "code",
   "execution_count": 43,
   "metadata": {},
   "outputs": [
    {
     "data": {
      "text/plain": [
       "<matplotlib.collections.PathCollection at 0x1a1ab33da0>"
      ]
     },
     "execution_count": 43,
     "metadata": {},
     "output_type": "execute_result"
    },
    {
     "data": {
      "image/png": "[encoded data removed]",
      "text/plain": [
       "<matplotlib.figure.Figure at 0x1a1761d320>"
      ]
     },
     "metadata": {},
     "output_type": "display_data"
    }
   ],
   "source": [
    "## First, we want to look at the relationship between total hate crimes and pct Trump votes\n",
    "\n",
    "plt.scatter(x=merge2['Donald Trump'], y=merge2['Total_Hate_Crimes'], color = 'red')"
   ]
  },
  {
   "cell_type": "code",
   "execution_count": 41,
   "metadata": {},
   "outputs": [
    {
     "data": {
      "text/plain": [
       "(0, 50)"
      ]
     },
     "execution_count": 41,
     "metadata": {},
     "output_type": "execute_result"
    },
    {
     "data": {
      "image/png": "[encoded data removed]",
      "text/plain": [
       "<matplotlib.figure.Figure at 0x1a176e8e80>"
      ]
     },
     "metadata": {},
     "output_type": "display_data"
    }
   ],
   "source": [
    "# let's re-adjust the x axis, to make the scatterplot clearer\n",
    "\n",
    "plt.scatter(x=merge2['Donald Trump'], y=merge2['Total_Hate_Crimes'], color = 'red')\n",
    "\n",
    "plt.ylim(0, 50)"
   ]
  },
  {
   "cell_type": "markdown",
   "metadata": {},
   "source": [
    "It looks like the total number of hate crimes is highest in areas with 20-40% republican voters"
   ]
  },
  {
   "cell_type": "code",
   "execution_count": 44,
   "metadata": {},
   "outputs": [
    {
     "data": {
      "text/plain": [
       "(0, 50)"
      ]
     },
     "execution_count": 44,
     "metadata": {},
     "output_type": "execute_result"
    },
    {
     "data": {
      "image/png": "[encoded data removed]",
      "text/plain": [
       "<matplotlib.figure.Figure at 0x1a1ab13b70>"
      ]
     },
     "metadata": {},
     "output_type": "display_data"
    }
   ],
   "source": [
    "## Now for Hillary\n",
    "\n",
    "plt.scatter(x=merge2['Hillary Clinton'], y=merge2['Total_Hate_Crimes'], color = 'blue')\n",
    "\n",
    "plt.ylim(0, 50)"
   ]
  },
  {
   "cell_type": "raw",
   "metadata": {},
   "source": [
    "Here, we see the opposite. There are a larger number of hate crimes in areas with 50-80% Clinton voters. Although, there's a lot of clustering around the 0, so it's hard to say whether these points are significant of just outliers. More statistical analysis is needed to determine whether this pattern is statistically significant."
   ]
  },
  {
   "cell_type": "code",
   "execution_count": 45,
   "metadata": {},
   "outputs": [
    {
     "data": {
      "text/plain": [
       "(0, 50)"
      ]
     },
     "execution_count": 45,
     "metadata": {},
     "output_type": "execute_result"
    },
    {
     "data": {
      "image/png": "[encoded data removed]",
      "text/plain": [
       "<matplotlib.figure.Figure at 0x1a1aaaadd8>"
      ]
     },
     "metadata": {},
     "output_type": "display_data"
    }
   ],
   "source": [
    "# Independents\n",
    "\n",
    "plt.scatter(x=merge2['Independent'], y=merge2['Total_Hate_Crimes'], color = 'green')\n",
    "\n",
    "plt.ylim(0, 50)"
   ]
  },
  {
   "cell_type": "raw",
   "metadata": {},
   "source": [
    "Here, we see a large cluster over the .1, but that may be due to the relativly small amount of independent voters per county"
   ]
  },
  {
   "cell_type": "code",
   "execution_count": 46,
   "metadata": {},
   "outputs": [
    {
     "data": {
      "text/plain": [
       "(0, 50)"
      ]
     },
     "execution_count": 46,
     "metadata": {},
     "output_type": "execute_result"
    },
    {
     "data": {
      "image/png": "[encoded data removed]",
      "text/plain": [
       "<matplotlib.figure.Figure at 0x1a1ac470f0>"
      ]
     },
     "metadata": {},
     "output_type": "display_data"
    }
   ],
   "source": [
    "## Now we're going to look at education:\n",
    "\n",
    "plt.scatter(x=merge2['college_pct'], y=merge2['Total_Hate_Crimes'], color = 'blue')\n",
    "\n",
    "plt.ylim(0, 50)"
   ]
  },
  {
   "cell_type": "markdown",
   "metadata": {},
   "source": [
    "There doesn't appear to be a clear connection between the total number of hate crimes per county and the percent of the county that is college educated (although we did only examine cities)"
   ]
  },
  {
   "cell_type": "code",
   "execution_count": 47,
   "metadata": {},
   "outputs": [
    {
     "data": {
      "text/plain": [
       "(0, 50)"
      ]
     },
     "execution_count": 47,
     "metadata": {},
     "output_type": "execute_result"
    },
    {
     "data": {
      "image/png": "[encoded data removed]",
      "text/plain": [
       "<matplotlib.figure.Figure at 0x1a1ad03240>"
      ]
     },
     "metadata": {},
     "output_type": "display_data"
    }
   ],
   "source": [
    "## Now we're going to look at home ownership:\n",
    "\n",
    "plt.scatter(x=merge2['homeownership'], y=merge2['Total_Hate_Crimes'], color = 'blue')\n",
    "\n",
    "plt.ylim(0, 50)"
   ]
  },
  {
   "cell_type": "markdown",
   "metadata": {},
   "source": [
    "Here, it does appear that counties with a lower pct of homeowners tend to also have more total hate crimes, although again because of the amount of clustering around 0, this trend may not be statistically significant"
   ]
  },
  {
   "cell_type": "code",
   "execution_count": 48,
   "metadata": {},
   "outputs": [
    {
     "data": {
      "text/plain": [
       "(0, 50)"
      ]
     },
     "execution_count": 48,
     "metadata": {},
     "output_type": "execute_result"
    },
    {
     "data": {
      "image/png": "[encoded data removed]",
      "text/plain": [
       "<matplotlib.figure.Figure at 0x1a1ae4e048>"
      ]
     },
     "metadata": {},
     "output_type": "display_data"
    }
   ],
   "source": [
    "## Percent White:\n",
    "\n",
    "plt.scatter(x=merge2['white_pct'], y=merge2['Total_Hate_Crimes'], color = 'blue')\n",
    "\n",
    "plt.ylim(0, 50)"
   ]
  },
  {
   "cell_type": "markdown",
   "metadata": {},
   "source": [
    "Surprisingly, there does not appear to be an apparent relationship between the percent white a county is and the total number of hate crimes"
   ]
  },
  {
   "cell_type": "code",
   "execution_count": 49,
   "metadata": {},
   "outputs": [
    {
     "data": {
      "text/plain": [
       "(0, 50)"
      ]
     },
     "execution_count": 49,
     "metadata": {},
     "output_type": "execute_result"
    },
    {
     "data": {
      "image/png": "[encoded data removed]",
      "text/plain": [
       "<matplotlib.figure.Figure at 0x1a1ae70da0>"
      ]
     },
     "metadata": {},
     "output_type": "display_data"
    }
   ],
   "source": [
    "## Foreign Born\n",
    "\n",
    "plt.scatter(x=merge2['foreign_born_pct'], y=merge2['Total_Hate_Crimes'], color = 'blue')\n",
    "\n",
    "plt.ylim(0, 50)"
   ]
  },
  {
   "cell_type": "markdown",
   "metadata": {},
   "source": [
    "Likewise, there does not appear to be a clear relationship between the pct of the population that is foreign born and the number of hate crimes"
   ]
  },
  {
   "cell_type": "code",
   "execution_count": 50,
   "metadata": {},
   "outputs": [
    {
     "data": {
      "text/plain": [
       "(0, 50)"
      ]
     },
     "execution_count": 50,
     "metadata": {},
     "output_type": "execute_result"
    },
    {
     "data": {
      "image/png": "[encoded data removed]",
      "text/plain": [
       "<matplotlib.figure.Figure at 0x1a1af9c3c8>"
      ]
     },
     "metadata": {},
     "output_type": "display_data"
    }
   ],
   "source": [
    "## Median Household Income\n",
    "\n",
    "plt.scatter(x=merge2['median_household_income'], y=merge2['Total_Hate_Crimes'], color = 'blue')\n",
    "\n",
    "plt.ylim(0, 50)"
   ]
  },
  {
   "cell_type": "markdown",
   "metadata": {},
   "source": [
    "There may be a weak relationship between the median household income and the total hate crimes per county. The wealthiest outliers seem to have a very low number of hate crimes, while the scatterplot peaks at around 50k"
   ]
  },
  {
   "cell_type": "code",
   "execution_count": 51,
   "metadata": {},
   "outputs": [
    {
     "data": {
      "text/plain": [
       "(0, 20)"
      ]
     },
     "execution_count": 51,
     "metadata": {},
     "output_type": "execute_result"
    },
    {
     "data": {
      "image/png": "[encoded data removed]",
      "text/plain": [
       "<matplotlib.figure.Figure at 0x1a1af0ae48>"
      ]
     },
     "metadata": {},
     "output_type": "display_data"
    }
   ],
   "source": [
    "## Next, we're going to compare the number of hate crimes per quarter:\n",
    "\n",
    "Qs = merge2.iloc[:, 10:14] #selecting the Q1-Q4 cols\n",
    "\n",
    "QArray = np.array(Qs)\n",
    "\n",
    "QArray1 = np.nan_to_num(QArray) #making NaNs into 0\n",
    "\n",
    "QBox = sns.boxplot(data = QArray1, orient = \"v\", palette = \"Set2\", notch = True)\n",
    "\n",
    "plt.ylim(0, 20) #limiting the Y axis, so we can see the boxlots"
   ]
  },
  {
   "cell_type": "markdown",
   "metadata": {},
   "source": [
    "The boxplot here is still too small, so I'll adjust the Y axis further:"
   ]
  },
  {
   "cell_type": "code",
   "execution_count": 52,
   "metadata": {},
   "outputs": [
    {
     "data": {
      "text/plain": [
       "(0, 5)"
      ]
     },
     "execution_count": 52,
     "metadata": {},
     "output_type": "execute_result"
    },
    {
     "data": {
      "image/png": "[encoded data removed]",
      "text/plain": [
       "<matplotlib.figure.Figure at 0x1a1afe0748>"
      ]
     },
     "metadata": {},
     "output_type": "display_data"
    }
   ],
   "source": [
    "QBox = sns.boxplot(data = QArray1, orient = \"v\", palette = \"Set2\", notch = True)\n",
    "\n",
    "plt.ylim(0, 5)"
   ]
  },
  {
   "cell_type": "markdown",
   "metadata": {},
   "source": [
    "Here we can see that the quarters aren't statistically signifcantly different from one another in terms of number of hate crimes "
   ]
  },
  {
   "cell_type": "code",
   "execution_count": 53,
   "metadata": {},
   "outputs": [
    {
     "data": {
      "text/plain": [
       "(0, 20)"
      ]
     },
     "execution_count": 53,
     "metadata": {},
     "output_type": "execute_result"
    },
    {
     "data": {
      "image/png": "[encoded data removed]",
      "text/plain": [
       "<matplotlib.figure.Figure at 0x1a1afe0a20>"
      ]
     },
     "metadata": {},
     "output_type": "display_data"
    }
   ],
   "source": [
    "## Now, we're going to make boxplots comparing the different biases in hate crimes:\n",
    "\n",
    "Motives = merge2.iloc[:, 4:10]\n",
    "\n",
    "QBox = sns.boxplot(data = Motives, orient = \"v\", palette = \"Set2\", notch = True)\n",
    "\n",
    "plt.ylim(0, 20)"
   ]
  },
  {
   "cell_type": "markdown",
   "metadata": {},
   "source": [
    "This is again too small to see, so I'll adjust the Y axis again"
   ]
  },
  {
   "cell_type": "code",
   "execution_count": 54,
   "metadata": {},
   "outputs": [
    {
     "data": {
      "text/plain": [
       "(0, 5.5)"
      ]
     },
     "execution_count": 54,
     "metadata": {},
     "output_type": "execute_result"
    },
    {
     "data": {
      "image/png": "[encoded data removed]",
      "text/plain": [
       "<matplotlib.figure.Figure at 0x1a1b37f160>"
      ]
     },
     "metadata": {},
     "output_type": "display_data"
    }
   ],
   "source": [
    "QBox = sns.boxplot(data = Motives, orient = \"v\", palette = \"Set2\", notch = True)\n",
    "\n",
    "plt.ylim(0, 5.5)"
   ]
  },
  {
   "cell_type": "markdown",
   "metadata": {},
   "source": [
    "Here, we can see that most hate crimes are committed based on race, which is expected, with Religion and Sexual Orientation following. The notches do not overlap between race and the other biases, indicating that the difference is statistically significant. Disability, Gender, and Gender Identity are less common biases"
   ]
  },
  {
   "cell_type": "code",
   "execution_count": null,
   "metadata": {},
   "outputs": [],
   "source": []
  },
  {
   "cell_type": "code",
   "execution_count": null,
   "metadata": {},
   "outputs": [],
   "source": []
  }
 ],
 "metadata": {
  "kernelspec": {
   "display_name": "Python 3",
   "language": "python",
   "name": "python3"
  },
  "language_info": {
   "codemirror_mode": {
    "name": "ipython",
    "version": 3
   },
   "file_extension": ".py",
   "mimetype": "text/x-python",
   "name": "python",
   "nbconvert_exporter": "python",
   "pygments_lexer": "ipython3",
   "version": "3.6.4"
  }
 },
 "nbformat": 4,
 "nbformat_minor": 2
}
