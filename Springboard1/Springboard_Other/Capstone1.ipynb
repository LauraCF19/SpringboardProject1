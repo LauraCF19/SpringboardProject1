{
 "cells": [
  {
   "cell_type": "code",
   "execution_count": 4,
   "metadata": {},
   "outputs": [
    {
     "name": "stdout",
     "output_type": "stream",
     "text": [
      "   index    State Agency_Type Agency_Name Race Religion Sexual_Orientation  \\\n",
      "0      5  Alabama       Total       Total   12        1                  1   \n",
      "1      6  Alabama      Cities       Total   12        1                  1   \n",
      "2      7  Alabama      Cities  Birmingham    7        1                  1   \n",
      "3      8  Alabama      Cities    Florence    1        0                  0   \n",
      "4      9  Alabama      Cities       Foley    1        0                  0   \n",
      "\n",
      "  Disability Gender Gender_ID   Q1   Q2   Q3   Q4     Pop  \n",
      "0          0      0         0  NaN  NaN  NaN  NaN     NaN  \n",
      "1          0      0         0  NaN  NaN  NaN  NaN     NaN  \n",
      "2          0      0         0    3    2    2    2  212549  \n",
      "3          0      0         0    0    0    1    0   40160  \n",
      "4          0      0         0    0    1    0    0   17639  \n"
     ]
    },
    {
     "name": "stderr",
     "output_type": "stream",
     "text": [
      "/anaconda3/lib/python3.6/site-packages/pandas/core/frame.py:2540: SettingWithCopyWarning: \n",
      "A value is trying to be set on a copy of a slice from a DataFrame.\n",
      "Try using .loc[row_indexer,col_indexer] = value instead\n",
      "\n",
      "See the caveats in the documentation: http://pandas.pydata.org/pandas-docs/stable/indexing.html#indexing-view-versus-copy\n",
      "  self[k1] = value[k2]\n"
     ]
    }
   ],
   "source": [
    "import pandas as pd\n",
    "\n",
    "import numpy as np\n",
    "\n",
    "# Read in excel file of 2016 data\n",
    "file = './Datasets/2016/Table_13_Hate_Crime_Incidents_per_Bias_Motivation_and_Quarter_by_State_and_Agency_2016.xls'\n",
    "\n",
    "xl = pd.ExcelFile(file)\n",
    "\n",
    "# We want the first and only sheet\n",
    "df2 = xl.parse(0)\n",
    "\n",
    "# remove the first 4 rows, which contain the title\n",
    "df2_sliced = df2.loc[5:]\n",
    "\n",
    "# rename the cols\n",
    "df2_sliced.columns = ['State', 'Agency_Type', 'Agency_Name', 'Race', 'Religion', 'Sexual_Orientation', 'Disability', 'Gender', 'Gender_ID', 'Q1', 'Q2', 'Q3', 'Q4', 'Pop']\n",
    "\n",
    "# copy df, and then forward fill the state and agency type cols\n",
    "df2_filled = df2_sliced\n",
    "\n",
    "df2_filled[['State', 'Agency_Type']] = df2_filled[['State', 'Agency_Type']].ffill()\n",
    "\n",
    "# copy and replace the NAs in df2_totals Agency Name col with the word total, because the NAs are only in cols w/ total\n",
    "df2_totals = df2_filled\n",
    "\n",
    "df2_totals = df2_totals.fillna(value={'Agency_Name' : 'Total'})\n",
    "   \n",
    "# reset index, so it starts at 1 not 5 \n",
    "df2_indexed = df2_totals.reset_index()\n",
    "\n",
    "print(df2_indexed.head())"
   ]
  },
  {
   "cell_type": "code",
   "execution_count": 5,
   "metadata": {},
   "outputs": [
    {
     "data": {
      "text/html": [
       "<div>\n",
       "<style scoped>\n",
       "    .dataframe tbody tr th:only-of-type {\n",
       "        vertical-align: middle;\n",
       "    }\n",
       "\n",
       "    .dataframe tbody tr th {\n",
       "        vertical-align: top;\n",
       "    }\n",
       "\n",
       "    .dataframe thead th {\n",
       "        text-align: right;\n",
       "    }\n",
       "</style>\n",
       "<table border=\"1\" class=\"dataframe\">\n",
       "  <thead>\n",
       "    <tr style=\"text-align: right;\">\n",
       "      <th></th>\n",
       "      <th>index</th>\n",
       "      <th>State</th>\n",
       "      <th>Agency_Type</th>\n",
       "      <th>Agency_Name</th>\n",
       "      <th>Race</th>\n",
       "      <th>Religion</th>\n",
       "      <th>Sexual_Orientation</th>\n",
       "      <th>Disability</th>\n",
       "      <th>Gender</th>\n",
       "      <th>Gender_ID</th>\n",
       "      <th>Q1</th>\n",
       "      <th>Q2</th>\n",
       "      <th>Q3</th>\n",
       "      <th>Q4</th>\n",
       "      <th>Pop</th>\n",
       "    </tr>\n",
       "  </thead>\n",
       "  <tbody>\n",
       "    <tr>\n",
       "      <th>0</th>\n",
       "      <td>5</td>\n",
       "      <td>Alabama</td>\n",
       "      <td>Total</td>\n",
       "      <td>Total</td>\n",
       "      <td>12</td>\n",
       "      <td>1</td>\n",
       "      <td>1</td>\n",
       "      <td>0</td>\n",
       "      <td>0</td>\n",
       "      <td>0</td>\n",
       "      <td>NaN</td>\n",
       "      <td>NaN</td>\n",
       "      <td>NaN</td>\n",
       "      <td>NaN</td>\n",
       "      <td>NaN</td>\n",
       "    </tr>\n",
       "    <tr>\n",
       "      <th>1</th>\n",
       "      <td>6</td>\n",
       "      <td>Alabama</td>\n",
       "      <td>Cities</td>\n",
       "      <td>Total</td>\n",
       "      <td>12</td>\n",
       "      <td>1</td>\n",
       "      <td>1</td>\n",
       "      <td>0</td>\n",
       "      <td>0</td>\n",
       "      <td>0</td>\n",
       "      <td>NaN</td>\n",
       "      <td>NaN</td>\n",
       "      <td>NaN</td>\n",
       "      <td>NaN</td>\n",
       "      <td>NaN</td>\n",
       "    </tr>\n",
       "    <tr>\n",
       "      <th>2</th>\n",
       "      <td>7</td>\n",
       "      <td>Alabama</td>\n",
       "      <td>Cities</td>\n",
       "      <td>Birmingham</td>\n",
       "      <td>7</td>\n",
       "      <td>1</td>\n",
       "      <td>1</td>\n",
       "      <td>0</td>\n",
       "      <td>0</td>\n",
       "      <td>0</td>\n",
       "      <td>3</td>\n",
       "      <td>2</td>\n",
       "      <td>2</td>\n",
       "      <td>2</td>\n",
       "      <td>212549</td>\n",
       "    </tr>\n",
       "    <tr>\n",
       "      <th>3</th>\n",
       "      <td>8</td>\n",
       "      <td>Alabama</td>\n",
       "      <td>Cities</td>\n",
       "      <td>Florence</td>\n",
       "      <td>1</td>\n",
       "      <td>0</td>\n",
       "      <td>0</td>\n",
       "      <td>0</td>\n",
       "      <td>0</td>\n",
       "      <td>0</td>\n",
       "      <td>0</td>\n",
       "      <td>0</td>\n",
       "      <td>1</td>\n",
       "      <td>0</td>\n",
       "      <td>40160</td>\n",
       "    </tr>\n",
       "    <tr>\n",
       "      <th>4</th>\n",
       "      <td>9</td>\n",
       "      <td>Alabama</td>\n",
       "      <td>Cities</td>\n",
       "      <td>Foley</td>\n",
       "      <td>1</td>\n",
       "      <td>0</td>\n",
       "      <td>0</td>\n",
       "      <td>0</td>\n",
       "      <td>0</td>\n",
       "      <td>0</td>\n",
       "      <td>0</td>\n",
       "      <td>1</td>\n",
       "      <td>0</td>\n",
       "      <td>0</td>\n",
       "      <td>17639</td>\n",
       "    </tr>\n",
       "  </tbody>\n",
       "</table>\n",
       "</div>"
      ],
      "text/plain": [
       "   index    State Agency_Type Agency_Name Race Religion Sexual_Orientation  \\\n",
       "0      5  Alabama       Total       Total   12        1                  1   \n",
       "1      6  Alabama      Cities       Total   12        1                  1   \n",
       "2      7  Alabama      Cities  Birmingham    7        1                  1   \n",
       "3      8  Alabama      Cities    Florence    1        0                  0   \n",
       "4      9  Alabama      Cities       Foley    1        0                  0   \n",
       "\n",
       "  Disability Gender Gender_ID   Q1   Q2   Q3   Q4     Pop  \n",
       "0          0      0         0  NaN  NaN  NaN  NaN     NaN  \n",
       "1          0      0         0  NaN  NaN  NaN  NaN     NaN  \n",
       "2          0      0         0    3    2    2    2  212549  \n",
       "3          0      0         0    0    0    1    0   40160  \n",
       "4          0      0         0    0    1    0    0   17639  "
      ]
     },
     "execution_count": 5,
     "metadata": {},
     "output_type": "execute_result"
    }
   ],
   "source": [
    "#### I noticed some of the agency names contained numbers left over from subscript on the original data. I want to remove those.\n",
    "\n",
    "df2_indexed['Agency_Name'] = df2_indexed.Agency_Name.str.replace('2', '')\n",
    "\n",
    "df2_indexed['Agency_Name'] = df2_indexed.Agency_Name.str.replace('1', '')\n",
    "\n",
    "df2_indexed.head()"
   ]
  },
  {
   "cell_type": "code",
   "execution_count": 6,
   "metadata": {},
   "outputs": [
    {
     "name": "stdout",
     "output_type": "stream",
     "text": [
      "{'Alabama': 'AL', 'Alaska': 'AK', 'Arizona': 'AZ', 'Arkansas': 'AR', 'California': 'CA', 'Colorado': 'CO', 'Connecticut': 'CT', 'Delaware': 'DE', 'District of Columbia': 'DC', 'Florida': 'FL', 'Georgia': 'GA', 'Hawaii': 'HI', 'Idaho': 'ID', 'Illinois': 'IL', 'Indiana': 'IN', 'Iowa': 'IA', 'Kansas': 'KS', 'Kentucky': 'KY', 'Louisiana': 'LA', 'Maine': 'ME', 'Montana': 'MT', 'Nebraska': 'NE', 'Nevada': 'NV', 'New Hampshire': 'NH', 'New Jersey': 'NJ', 'New Mexico': 'NM', 'New York': 'NY', 'North Carolina': 'NC', 'North Dakota': 'ND', 'Ohio': 'OH', 'Oklahoma': 'OK', 'Oregon': 'OR', 'Maryland': 'MD', 'Massachusetts': 'MA', 'Michigan': 'MI', 'Minnesota': 'MN', 'Mississippi': 'MS', 'Missouri': 'MO', 'Pennsylvania': 'PA', 'Rhode Island': 'RI', 'South Carolina': 'SC', 'South Dakota': 'SD', 'Tennessee': 'TN', 'Texas': 'TX', 'Utah': 'UT', 'Vermont': 'VT', 'Virginia': 'VA', 'Washington': 'WA', 'West Virginia': 'WV', 'Wisconsin': 'WI', 'Wyoming': 'WY'}\n"
     ]
    }
   ],
   "source": [
    "## We're going to get the state abbreviations in order to match some of the datasets later\n",
    "## we then make a dictionary, with the state names as keys and the abbreviations as values\n",
    "\n",
    "state_file = './Datasets/states.csv'\n",
    "\n",
    "states = pd.read_csv(state_file)\n",
    "\n",
    "states_dict = pd.Series(states.Abbreviation.values, index=states.State).to_dict()\n",
    "\n",
    "print(states_dict)"
   ]
  },
  {
   "cell_type": "code",
   "execution_count": 7,
   "metadata": {},
   "outputs": [
    {
     "name": "stdout",
     "output_type": "stream",
     "text": [
      "   index    State Agency_Type Agency_Name Race Religion Sexual_Orientation  \\\n",
      "0      5  Alabama       Total       Total   12        1                  1   \n",
      "1      6  Alabama      Cities       Total   12        1                  1   \n",
      "2      7  Alabama      Cities  Birmingham    7        1                  1   \n",
      "3      8  Alabama      Cities    Florence    1        0                  0   \n",
      "4      9  Alabama      Cities       Foley    1        0                  0   \n",
      "\n",
      "  Disability Gender Gender_ID   Q1   Q2   Q3   Q4     Pop Abbreviation  \n",
      "0          0      0         0  NaN  NaN  NaN  NaN     NaN           AL  \n",
      "1          0      0         0  NaN  NaN  NaN  NaN     NaN           AL  \n",
      "2          0      0         0    3    2    2    2  212549           AL  \n",
      "3          0      0         0    0    0    1    0   40160           AL  \n",
      "4          0      0         0    0    1    0    0   17639           AL  \n"
     ]
    }
   ],
   "source": [
    "## Now we create a new col in the dataset, containing the state abbreviations:\n",
    "\n",
    "df2_abb= df2_indexed.copy()\n",
    "\n",
    "df2_abb['Abbreviation'] = df2_abb['State'].map(states_dict)\n",
    "\n",
    "print(df2_abb.head())"
   ]
  },
  {
   "cell_type": "code",
   "execution_count": 8,
   "metadata": {},
   "outputs": [
    {
     "name": "stdout",
     "output_type": "stream",
     "text": [
      "   index    State Agency_Type Agency_Name Race Religion Sexual_Orientation  \\\n",
      "0      5  Alabama       Total       Total   12        1                  1   \n",
      "1      6  Alabama      Cities       Total   12        1                  1   \n",
      "2      7  Alabama      Cities  Birmingham    7        1                  1   \n",
      "3      8  Alabama      Cities    Florence    1        0                  0   \n",
      "4      9  Alabama      Cities       Foley    1        0                  0   \n",
      "\n",
      "  Disability Gender Gender_ID   Q1   Q2   Q3   Q4     Pop Abbreviation  \\\n",
      "0          0      0         0  NaN  NaN  NaN  NaN     NaN           AL   \n",
      "1          0      0         0  NaN  NaN  NaN  NaN     NaN           AL   \n",
      "2          0      0         0    3    2    2    2  212549           AL   \n",
      "3          0      0         0    0    0    1    0   40160           AL   \n",
      "4          0      0         0    0    1    0    0   17639           AL   \n",
      "\n",
      "       City_State  \n",
      "0       Total, AL  \n",
      "1       Total, AL  \n",
      "2  Birmingham, AL  \n",
      "3    Florence, AL  \n",
      "4       Foley, AL  \n"
     ]
    }
   ],
   "source": [
    "## Next, we create another col that contains a string of the city name and the state abbreviation\n",
    "\n",
    "df2_abb['City_State'] = df2_abb['Agency_Name'] + \", \"  + df2_abb['Abbreviation']\n",
    "\n",
    "print(df2_abb.head())"
   ]
  },
  {
   "cell_type": "code",
   "execution_count": 9,
   "metadata": {},
   "outputs": [
    {
     "data": {
      "text/html": [
       "<div>\n",
       "<style scoped>\n",
       "    .dataframe tbody tr th:only-of-type {\n",
       "        vertical-align: middle;\n",
       "    }\n",
       "\n",
       "    .dataframe tbody tr th {\n",
       "        vertical-align: top;\n",
       "    }\n",
       "\n",
       "    .dataframe thead th {\n",
       "        text-align: right;\n",
       "    }\n",
       "</style>\n",
       "<table border=\"1\" class=\"dataframe\">\n",
       "  <thead>\n",
       "    <tr style=\"text-align: right;\">\n",
       "      <th></th>\n",
       "      <th>index</th>\n",
       "      <th>State</th>\n",
       "      <th>Agency_Type</th>\n",
       "      <th>Agency_Name</th>\n",
       "      <th>Race</th>\n",
       "      <th>Religion</th>\n",
       "      <th>Sexual_Orientation</th>\n",
       "      <th>Disability</th>\n",
       "      <th>Gender</th>\n",
       "      <th>Gender_ID</th>\n",
       "      <th>Q1</th>\n",
       "      <th>Q2</th>\n",
       "      <th>Q3</th>\n",
       "      <th>Q4</th>\n",
       "      <th>Pop</th>\n",
       "      <th>Abbreviation</th>\n",
       "      <th>City_State</th>\n",
       "    </tr>\n",
       "  </thead>\n",
       "  <tbody>\n",
       "    <tr>\n",
       "      <th>2</th>\n",
       "      <td>7</td>\n",
       "      <td>Alabama</td>\n",
       "      <td>Cities</td>\n",
       "      <td>Birmingham</td>\n",
       "      <td>7</td>\n",
       "      <td>1</td>\n",
       "      <td>1</td>\n",
       "      <td>0</td>\n",
       "      <td>0</td>\n",
       "      <td>0</td>\n",
       "      <td>3</td>\n",
       "      <td>2</td>\n",
       "      <td>2</td>\n",
       "      <td>2</td>\n",
       "      <td>212549</td>\n",
       "      <td>AL</td>\n",
       "      <td>Birmingham, AL</td>\n",
       "    </tr>\n",
       "    <tr>\n",
       "      <th>3</th>\n",
       "      <td>8</td>\n",
       "      <td>Alabama</td>\n",
       "      <td>Cities</td>\n",
       "      <td>Florence</td>\n",
       "      <td>1</td>\n",
       "      <td>0</td>\n",
       "      <td>0</td>\n",
       "      <td>0</td>\n",
       "      <td>0</td>\n",
       "      <td>0</td>\n",
       "      <td>0</td>\n",
       "      <td>0</td>\n",
       "      <td>1</td>\n",
       "      <td>0</td>\n",
       "      <td>40160</td>\n",
       "      <td>AL</td>\n",
       "      <td>Florence, AL</td>\n",
       "    </tr>\n",
       "    <tr>\n",
       "      <th>4</th>\n",
       "      <td>9</td>\n",
       "      <td>Alabama</td>\n",
       "      <td>Cities</td>\n",
       "      <td>Foley</td>\n",
       "      <td>1</td>\n",
       "      <td>0</td>\n",
       "      <td>0</td>\n",
       "      <td>0</td>\n",
       "      <td>0</td>\n",
       "      <td>0</td>\n",
       "      <td>0</td>\n",
       "      <td>1</td>\n",
       "      <td>0</td>\n",
       "      <td>0</td>\n",
       "      <td>17639</td>\n",
       "      <td>AL</td>\n",
       "      <td>Foley, AL</td>\n",
       "    </tr>\n",
       "    <tr>\n",
       "      <th>5</th>\n",
       "      <td>10</td>\n",
       "      <td>Alabama</td>\n",
       "      <td>Cities</td>\n",
       "      <td>Hoover</td>\n",
       "      <td>3</td>\n",
       "      <td>0</td>\n",
       "      <td>0</td>\n",
       "      <td>0</td>\n",
       "      <td>0</td>\n",
       "      <td>0</td>\n",
       "      <td>1</td>\n",
       "      <td>0</td>\n",
       "      <td>1</td>\n",
       "      <td>1</td>\n",
       "      <td>85601</td>\n",
       "      <td>AL</td>\n",
       "      <td>Hoover, AL</td>\n",
       "    </tr>\n",
       "    <tr>\n",
       "      <th>8</th>\n",
       "      <td>13</td>\n",
       "      <td>Alaska</td>\n",
       "      <td>Cities</td>\n",
       "      <td>Anchorage</td>\n",
       "      <td>4</td>\n",
       "      <td>0</td>\n",
       "      <td>0</td>\n",
       "      <td>0</td>\n",
       "      <td>0</td>\n",
       "      <td>0</td>\n",
       "      <td>1</td>\n",
       "      <td>0</td>\n",
       "      <td>2</td>\n",
       "      <td>1</td>\n",
       "      <td>299097</td>\n",
       "      <td>AK</td>\n",
       "      <td>Anchorage, AK</td>\n",
       "    </tr>\n",
       "  </tbody>\n",
       "</table>\n",
       "</div>"
      ],
      "text/plain": [
       "   index    State Agency_Type Agency_Name Race Religion Sexual_Orientation  \\\n",
       "2      7  Alabama      Cities  Birmingham    7        1                  1   \n",
       "3      8  Alabama      Cities    Florence    1        0                  0   \n",
       "4      9  Alabama      Cities       Foley    1        0                  0   \n",
       "5     10  Alabama      Cities      Hoover    3        0                  0   \n",
       "8     13   Alaska      Cities   Anchorage    4        0                  0   \n",
       "\n",
       "  Disability Gender Gender_ID Q1 Q2 Q3 Q4     Pop Abbreviation      City_State  \n",
       "2          0      0         0  3  2  2  2  212549           AL  Birmingham, AL  \n",
       "3          0      0         0  0  0  1  0   40160           AL    Florence, AL  \n",
       "4          0      0         0  0  1  0  0   17639           AL       Foley, AL  \n",
       "5          0      0         0  1  0  1  1   85601           AL      Hoover, AL  \n",
       "8          0      0         0  1  0  2  1  299097           AK   Anchorage, AK  "
      ]
     },
     "execution_count": 9,
     "metadata": {},
     "output_type": "execute_result"
    }
   ],
   "source": [
    "#### Now we get rid of every entry that's not a city (b/c we only want to examine cities)\n",
    "### And we get rid of all the total agencies, as we won't use that information for out analysis\n",
    "\n",
    "df2_cities = df2_abb[df2_abb.Agency_Type == 'Cities']\n",
    "\n",
    "df2_cities = df2_cities[df2_cities.Agency_Name != 'Total']\n",
    "\n",
    "df2_cities.head()"
   ]
  },
  {
   "cell_type": "code",
   "execution_count": 10,
   "metadata": {},
   "outputs": [
    {
     "data": {
      "text/plain": [
       "754"
      ]
     },
     "execution_count": 10,
     "metadata": {},
     "output_type": "execute_result"
    }
   ],
   "source": [
    "# Now we want to see how many datapoints were removed by taking out the cities and totals\n",
    "\n",
    "len(df2_abb) - len(df2_cities)"
   ]
  },
  {
   "cell_type": "code",
   "execution_count": 11,
   "metadata": {},
   "outputs": [
    {
     "data": {
      "text/html": [
       "<div>\n",
       "<style scoped>\n",
       "    .dataframe tbody tr th:only-of-type {\n",
       "        vertical-align: middle;\n",
       "    }\n",
       "\n",
       "    .dataframe tbody tr th {\n",
       "        vertical-align: top;\n",
       "    }\n",
       "\n",
       "    .dataframe thead th {\n",
       "        text-align: right;\n",
       "    }\n",
       "</style>\n",
       "<table border=\"1\" class=\"dataframe\">\n",
       "  <thead>\n",
       "    <tr style=\"text-align: right;\">\n",
       "      <th></th>\n",
       "      <th>city</th>\n",
       "      <th>city_ascii</th>\n",
       "      <th>state_id</th>\n",
       "      <th>state_name</th>\n",
       "      <th>county_fips</th>\n",
       "      <th>county_name</th>\n",
       "      <th>lat</th>\n",
       "      <th>lng</th>\n",
       "      <th>population</th>\n",
       "      <th>population_proper</th>\n",
       "      <th>density</th>\n",
       "      <th>source</th>\n",
       "      <th>incorporated</th>\n",
       "      <th>timezone</th>\n",
       "      <th>zips</th>\n",
       "      <th>id</th>\n",
       "    </tr>\n",
       "  </thead>\n",
       "  <tbody>\n",
       "    <tr>\n",
       "      <th>0</th>\n",
       "      <td>Prairie Ridge</td>\n",
       "      <td>Prairie Ridge</td>\n",
       "      <td>WA</td>\n",
       "      <td>Washington</td>\n",
       "      <td>53053</td>\n",
       "      <td>Pierce</td>\n",
       "      <td>47.1443</td>\n",
       "      <td>-122.1408</td>\n",
       "      <td>NaN</td>\n",
       "      <td>NaN</td>\n",
       "      <td>1349.8</td>\n",
       "      <td>polygon</td>\n",
       "      <td>False</td>\n",
       "      <td>America/Los_Angeles</td>\n",
       "      <td>98360 98391</td>\n",
       "      <td>1840037882</td>\n",
       "    </tr>\n",
       "    <tr>\n",
       "      <th>1</th>\n",
       "      <td>Edison</td>\n",
       "      <td>Edison</td>\n",
       "      <td>WA</td>\n",
       "      <td>Washington</td>\n",
       "      <td>53057</td>\n",
       "      <td>Skagit</td>\n",
       "      <td>48.5602</td>\n",
       "      <td>-122.4311</td>\n",
       "      <td>NaN</td>\n",
       "      <td>NaN</td>\n",
       "      <td>127.4</td>\n",
       "      <td>polygon</td>\n",
       "      <td>False</td>\n",
       "      <td>America/Los_Angeles</td>\n",
       "      <td>98232</td>\n",
       "      <td>1840017314</td>\n",
       "    </tr>\n",
       "    <tr>\n",
       "      <th>2</th>\n",
       "      <td>Packwood</td>\n",
       "      <td>Packwood</td>\n",
       "      <td>WA</td>\n",
       "      <td>Washington</td>\n",
       "      <td>53041</td>\n",
       "      <td>Lewis</td>\n",
       "      <td>46.6085</td>\n",
       "      <td>-121.6702</td>\n",
       "      <td>NaN</td>\n",
       "      <td>NaN</td>\n",
       "      <td>213.9</td>\n",
       "      <td>polygon</td>\n",
       "      <td>False</td>\n",
       "      <td>America/Los_Angeles</td>\n",
       "      <td>98361</td>\n",
       "      <td>1840025265</td>\n",
       "    </tr>\n",
       "    <tr>\n",
       "      <th>3</th>\n",
       "      <td>Wautauga Beach</td>\n",
       "      <td>Wautauga Beach</td>\n",
       "      <td>WA</td>\n",
       "      <td>Washington</td>\n",
       "      <td>53035</td>\n",
       "      <td>Kitsap</td>\n",
       "      <td>47.5862</td>\n",
       "      <td>-122.5482</td>\n",
       "      <td>NaN</td>\n",
       "      <td>NaN</td>\n",
       "      <td>261.7</td>\n",
       "      <td>point</td>\n",
       "      <td>False</td>\n",
       "      <td>America/Los_Angeles</td>\n",
       "      <td>98366</td>\n",
       "      <td>1840037725</td>\n",
       "    </tr>\n",
       "    <tr>\n",
       "      <th>4</th>\n",
       "      <td>Harper</td>\n",
       "      <td>Harper</td>\n",
       "      <td>WA</td>\n",
       "      <td>Washington</td>\n",
       "      <td>53035</td>\n",
       "      <td>Kitsap</td>\n",
       "      <td>47.5207</td>\n",
       "      <td>-122.5196</td>\n",
       "      <td>NaN</td>\n",
       "      <td>NaN</td>\n",
       "      <td>342.1</td>\n",
       "      <td>point</td>\n",
       "      <td>False</td>\n",
       "      <td>America/Los_Angeles</td>\n",
       "      <td>98366</td>\n",
       "      <td>1840037659</td>\n",
       "    </tr>\n",
       "  </tbody>\n",
       "</table>\n",
       "</div>"
      ],
      "text/plain": [
       "             city      city_ascii state_id  state_name  county_fips  \\\n",
       "0   Prairie Ridge   Prairie Ridge       WA  Washington        53053   \n",
       "1          Edison          Edison       WA  Washington        53057   \n",
       "2        Packwood        Packwood       WA  Washington        53041   \n",
       "3  Wautauga Beach  Wautauga Beach       WA  Washington        53035   \n",
       "4          Harper          Harper       WA  Washington        53035   \n",
       "\n",
       "  county_name      lat       lng  population  population_proper  density  \\\n",
       "0      Pierce  47.1443 -122.1408         NaN                NaN   1349.8   \n",
       "1      Skagit  48.5602 -122.4311         NaN                NaN    127.4   \n",
       "2       Lewis  46.6085 -121.6702         NaN                NaN    213.9   \n",
       "3      Kitsap  47.5862 -122.5482         NaN                NaN    261.7   \n",
       "4      Kitsap  47.5207 -122.5196         NaN                NaN    342.1   \n",
       "\n",
       "    source  incorporated             timezone         zips          id  \n",
       "0  polygon         False  America/Los_Angeles  98360 98391  1840037882  \n",
       "1  polygon         False  America/Los_Angeles        98232  1840017314  \n",
       "2  polygon         False  America/Los_Angeles        98361  1840025265  \n",
       "3    point         False  America/Los_Angeles        98366  1840037725  \n",
       "4    point         False  America/Los_Angeles        98366  1840037659  "
      ]
     },
     "execution_count": 11,
     "metadata": {},
     "output_type": "execute_result"
    }
   ],
   "source": [
    "##### Now we read in the dataset with the information about the counties, which we will use to match the\n",
    "##### Hate Crime dataset with the dataset containing political and demographic information\n",
    "\n",
    "county_file = './Datasets/uscitiesv1.4.csv'\n",
    "\n",
    "counties = pd.read_csv(county_file)\n",
    "\n",
    "counties.head()"
   ]
  },
  {
   "cell_type": "code",
   "execution_count": 12,
   "metadata": {},
   "outputs": [
    {
     "data": {
      "text/html": [
       "<div>\n",
       "<style scoped>\n",
       "    .dataframe tbody tr th:only-of-type {\n",
       "        vertical-align: middle;\n",
       "    }\n",
       "\n",
       "    .dataframe tbody tr th {\n",
       "        vertical-align: top;\n",
       "    }\n",
       "\n",
       "    .dataframe thead th {\n",
       "        text-align: right;\n",
       "    }\n",
       "</style>\n",
       "<table border=\"1\" class=\"dataframe\">\n",
       "  <thead>\n",
       "    <tr style=\"text-align: right;\">\n",
       "      <th></th>\n",
       "      <th>city</th>\n",
       "      <th>city_ascii</th>\n",
       "      <th>state_id</th>\n",
       "      <th>state_name</th>\n",
       "      <th>county_fips</th>\n",
       "      <th>county_name</th>\n",
       "      <th>lat</th>\n",
       "      <th>lng</th>\n",
       "      <th>population</th>\n",
       "      <th>population_proper</th>\n",
       "      <th>density</th>\n",
       "      <th>source</th>\n",
       "      <th>incorporated</th>\n",
       "      <th>timezone</th>\n",
       "      <th>zips</th>\n",
       "      <th>id</th>\n",
       "      <th>City_County</th>\n",
       "    </tr>\n",
       "  </thead>\n",
       "  <tbody>\n",
       "    <tr>\n",
       "      <th>0</th>\n",
       "      <td>Prairie Ridge</td>\n",
       "      <td>Prairie Ridge</td>\n",
       "      <td>WA</td>\n",
       "      <td>Washington</td>\n",
       "      <td>53053</td>\n",
       "      <td>Pierce</td>\n",
       "      <td>47.1443</td>\n",
       "      <td>-122.1408</td>\n",
       "      <td>NaN</td>\n",
       "      <td>NaN</td>\n",
       "      <td>1349.8</td>\n",
       "      <td>polygon</td>\n",
       "      <td>False</td>\n",
       "      <td>America/Los_Angeles</td>\n",
       "      <td>98360 98391</td>\n",
       "      <td>1840037882</td>\n",
       "      <td>WA, Prairie Ridge, Pierce</td>\n",
       "    </tr>\n",
       "    <tr>\n",
       "      <th>1</th>\n",
       "      <td>Edison</td>\n",
       "      <td>Edison</td>\n",
       "      <td>WA</td>\n",
       "      <td>Washington</td>\n",
       "      <td>53057</td>\n",
       "      <td>Skagit</td>\n",
       "      <td>48.5602</td>\n",
       "      <td>-122.4311</td>\n",
       "      <td>NaN</td>\n",
       "      <td>NaN</td>\n",
       "      <td>127.4</td>\n",
       "      <td>polygon</td>\n",
       "      <td>False</td>\n",
       "      <td>America/Los_Angeles</td>\n",
       "      <td>98232</td>\n",
       "      <td>1840017314</td>\n",
       "      <td>WA, Edison, Skagit</td>\n",
       "    </tr>\n",
       "    <tr>\n",
       "      <th>2</th>\n",
       "      <td>Packwood</td>\n",
       "      <td>Packwood</td>\n",
       "      <td>WA</td>\n",
       "      <td>Washington</td>\n",
       "      <td>53041</td>\n",
       "      <td>Lewis</td>\n",
       "      <td>46.6085</td>\n",
       "      <td>-121.6702</td>\n",
       "      <td>NaN</td>\n",
       "      <td>NaN</td>\n",
       "      <td>213.9</td>\n",
       "      <td>polygon</td>\n",
       "      <td>False</td>\n",
       "      <td>America/Los_Angeles</td>\n",
       "      <td>98361</td>\n",
       "      <td>1840025265</td>\n",
       "      <td>WA, Packwood, Lewis</td>\n",
       "    </tr>\n",
       "    <tr>\n",
       "      <th>3</th>\n",
       "      <td>Wautauga Beach</td>\n",
       "      <td>Wautauga Beach</td>\n",
       "      <td>WA</td>\n",
       "      <td>Washington</td>\n",
       "      <td>53035</td>\n",
       "      <td>Kitsap</td>\n",
       "      <td>47.5862</td>\n",
       "      <td>-122.5482</td>\n",
       "      <td>NaN</td>\n",
       "      <td>NaN</td>\n",
       "      <td>261.7</td>\n",
       "      <td>point</td>\n",
       "      <td>False</td>\n",
       "      <td>America/Los_Angeles</td>\n",
       "      <td>98366</td>\n",
       "      <td>1840037725</td>\n",
       "      <td>WA, Wautauga Beach, Kitsap</td>\n",
       "    </tr>\n",
       "    <tr>\n",
       "      <th>4</th>\n",
       "      <td>Harper</td>\n",
       "      <td>Harper</td>\n",
       "      <td>WA</td>\n",
       "      <td>Washington</td>\n",
       "      <td>53035</td>\n",
       "      <td>Kitsap</td>\n",
       "      <td>47.5207</td>\n",
       "      <td>-122.5196</td>\n",
       "      <td>NaN</td>\n",
       "      <td>NaN</td>\n",
       "      <td>342.1</td>\n",
       "      <td>point</td>\n",
       "      <td>False</td>\n",
       "      <td>America/Los_Angeles</td>\n",
       "      <td>98366</td>\n",
       "      <td>1840037659</td>\n",
       "      <td>WA, Harper, Kitsap</td>\n",
       "    </tr>\n",
       "  </tbody>\n",
       "</table>\n",
       "</div>"
      ],
      "text/plain": [
       "             city      city_ascii state_id  state_name  county_fips  \\\n",
       "0   Prairie Ridge   Prairie Ridge       WA  Washington        53053   \n",
       "1          Edison          Edison       WA  Washington        53057   \n",
       "2        Packwood        Packwood       WA  Washington        53041   \n",
       "3  Wautauga Beach  Wautauga Beach       WA  Washington        53035   \n",
       "4          Harper          Harper       WA  Washington        53035   \n",
       "\n",
       "  county_name      lat       lng  population  population_proper  density  \\\n",
       "0      Pierce  47.1443 -122.1408         NaN                NaN   1349.8   \n",
       "1      Skagit  48.5602 -122.4311         NaN                NaN    127.4   \n",
       "2       Lewis  46.6085 -121.6702         NaN                NaN    213.9   \n",
       "3      Kitsap  47.5862 -122.5482         NaN                NaN    261.7   \n",
       "4      Kitsap  47.5207 -122.5196         NaN                NaN    342.1   \n",
       "\n",
       "    source  incorporated             timezone         zips          id  \\\n",
       "0  polygon         False  America/Los_Angeles  98360 98391  1840037882   \n",
       "1  polygon         False  America/Los_Angeles        98232  1840017314   \n",
       "2  polygon         False  America/Los_Angeles        98361  1840025265   \n",
       "3    point         False  America/Los_Angeles        98366  1840037725   \n",
       "4    point         False  America/Los_Angeles        98366  1840037659   \n",
       "\n",
       "                  City_County  \n",
       "0   WA, Prairie Ridge, Pierce  \n",
       "1          WA, Edison, Skagit  \n",
       "2         WA, Packwood, Lewis  \n",
       "3  WA, Wautauga Beach, Kitsap  \n",
       "4          WA, Harper, Kitsap  "
      ]
     },
     "execution_count": 12,
     "metadata": {},
     "output_type": "execute_result"
    }
   ],
   "source": [
    "## Now I'll make a col containing the state, city, and county, and remove all duplicates\n",
    "## so that we have only unique sets (b/c there are duplicates in dataset because it also includes unique log and lat)\n",
    "\n",
    "counties['City_County'] = counties.state_id + \", \" + counties.city + \", \" + counties.county_name\n",
    "\n",
    "counties.head()"
   ]
  },
  {
   "cell_type": "code",
   "execution_count": 13,
   "metadata": {},
   "outputs": [
    {
     "data": {
      "text/html": [
       "<div>\n",
       "<style scoped>\n",
       "    .dataframe tbody tr th:only-of-type {\n",
       "        vertical-align: middle;\n",
       "    }\n",
       "\n",
       "    .dataframe tbody tr th {\n",
       "        vertical-align: top;\n",
       "    }\n",
       "\n",
       "    .dataframe thead th {\n",
       "        text-align: right;\n",
       "    }\n",
       "</style>\n",
       "<table border=\"1\" class=\"dataframe\">\n",
       "  <thead>\n",
       "    <tr style=\"text-align: right;\">\n",
       "      <th></th>\n",
       "      <th>State</th>\n",
       "      <th>City</th>\n",
       "      <th>County</th>\n",
       "      <th>City_State</th>\n",
       "    </tr>\n",
       "  </thead>\n",
       "  <tbody>\n",
       "    <tr>\n",
       "      <th>0</th>\n",
       "      <td>WA</td>\n",
       "      <td>Prairie Ridge</td>\n",
       "      <td>Pierce</td>\n",
       "      <td>Prairie Ridge, WA</td>\n",
       "    </tr>\n",
       "    <tr>\n",
       "      <th>1</th>\n",
       "      <td>WA</td>\n",
       "      <td>Edison</td>\n",
       "      <td>Skagit</td>\n",
       "      <td>Edison, WA</td>\n",
       "    </tr>\n",
       "    <tr>\n",
       "      <th>2</th>\n",
       "      <td>WA</td>\n",
       "      <td>Packwood</td>\n",
       "      <td>Lewis</td>\n",
       "      <td>Packwood, WA</td>\n",
       "    </tr>\n",
       "    <tr>\n",
       "      <th>3</th>\n",
       "      <td>WA</td>\n",
       "      <td>Wautauga Beach</td>\n",
       "      <td>Kitsap</td>\n",
       "      <td>Wautauga Beach, WA</td>\n",
       "    </tr>\n",
       "    <tr>\n",
       "      <th>4</th>\n",
       "      <td>WA</td>\n",
       "      <td>Harper</td>\n",
       "      <td>Kitsap</td>\n",
       "      <td>Harper, WA</td>\n",
       "    </tr>\n",
       "  </tbody>\n",
       "</table>\n",
       "</div>"
      ],
      "text/plain": [
       "  State            City  County          City_State\n",
       "0    WA   Prairie Ridge  Pierce   Prairie Ridge, WA\n",
       "1    WA          Edison  Skagit          Edison, WA\n",
       "2    WA        Packwood   Lewis        Packwood, WA\n",
       "3    WA  Wautauga Beach  Kitsap  Wautauga Beach, WA\n",
       "4    WA          Harper  Kitsap          Harper, WA"
      ]
     },
     "execution_count": 13,
     "metadata": {},
     "output_type": "execute_result"
    }
   ],
   "source": [
    "### Now we create the seperate city, state, and county cols, and get rid of all the other info we don't need\n",
    "\n",
    "counties3 = counties['City_County'].str.split(pat=', ', expand = True)\n",
    "\n",
    "counties3.columns = ['State', 'City', 'County']\n",
    "\n",
    "counties3['City_State'] = counties3.City + \", \" + counties3.State\n",
    "\n",
    "counties3.head()"
   ]
  },
  {
   "cell_type": "code",
   "execution_count": 14,
   "metadata": {},
   "outputs": [],
   "source": [
    "#### Now we're going to make a dictionary, to match the city_state col with the county col\n",
    "\n",
    "counties_dict1 = pd.Series(counties3.County.values, index=counties3.City_State).to_dict()\n",
    "\n",
    "#print(counties_dict1)"
   ]
  },
  {
   "cell_type": "code",
   "execution_count": 15,
   "metadata": {},
   "outputs": [
    {
     "name": "stdout",
     "output_type": "stream",
     "text": [
      "   index    State Agency_Type Agency_Name Race Religion Sexual_Orientation  \\\n",
      "2      7  Alabama      Cities  Birmingham    7        1                  1   \n",
      "3      8  Alabama      Cities    Florence    1        0                  0   \n",
      "4      9  Alabama      Cities       Foley    1        0                  0   \n",
      "5     10  Alabama      Cities      Hoover    3        0                  0   \n",
      "8     13   Alaska      Cities   Anchorage    4        0                  0   \n",
      "\n",
      "  Disability Gender Gender_ID Q1 Q2 Q3 Q4     Pop Abbreviation  \\\n",
      "2          0      0         0  3  2  2  2  212549           AL   \n",
      "3          0      0         0  0  0  1  0   40160           AL   \n",
      "4          0      0         0  0  1  0  0   17639           AL   \n",
      "5          0      0         0  1  0  1  1   85601           AL   \n",
      "8          0      0         0  1  0  2  1  299097           AK   \n",
      "\n",
      "       City_State      County  \n",
      "2  Birmingham, AL   Jefferson  \n",
      "3    Florence, AL  Lauderdale  \n",
      "4       Foley, AL     Baldwin  \n",
      "5      Hoover, AL   Jefferson  \n",
      "8   Anchorage, AK   Anchorage  \n"
     ]
    }
   ],
   "source": [
    "#### So now we have a dataset with all the cities and counties, which should help us determine the county for each city in our original dataframe\n",
    "\n",
    "df2_counties = df2_cities.copy()\n",
    "\n",
    "df2_counties['County'] = df2_counties['City_State'].map(counties_dict1)\n",
    "\n",
    "print(df2_counties.head())"
   ]
  },
  {
   "cell_type": "code",
   "execution_count": 16,
   "metadata": {},
   "outputs": [
    {
     "data": {
      "text/plain": [
       "1265"
      ]
     },
     "execution_count": 16,
     "metadata": {},
     "output_type": "execute_result"
    }
   ],
   "source": [
    "### Now we want to know how many matches we can find, and thus how much information we can match\n",
    "\n",
    "len(df2_counties)"
   ]
  },
  {
   "cell_type": "code",
   "execution_count": 17,
   "metadata": {},
   "outputs": [
    {
     "data": {
      "text/plain": [
       "196"
      ]
     },
     "execution_count": 17,
     "metadata": {},
     "output_type": "execute_result"
    }
   ],
   "source": [
    "df2_counties['County'].isnull().sum()"
   ]
  },
  {
   "cell_type": "code",
   "execution_count": 18,
   "metadata": {},
   "outputs": [
    {
     "data": {
      "text/plain": [
       "0.8450592885375494"
      ]
     },
     "execution_count": 18,
     "metadata": {},
     "output_type": "execute_result"
    }
   ],
   "source": [
    "(1265 - 196)/1265 # so we have the county info for about 85% of the cities, or 1069"
   ]
  },
  {
   "cell_type": "code",
   "execution_count": 19,
   "metadata": {},
   "outputs": [
    {
     "name": "stdout",
     "output_type": "stream",
     "text": [
      "  county fips             cand  st  pct_report       votes  total_votes  \\\n",
      "0    NaN   US     Donald Trump  US      0.9951  60350241.0  127592176.0   \n",
      "1    NaN   US  Hillary Clinton  US      0.9951  60981118.0  127592176.0   \n",
      "2    NaN   US     Gary Johnson  US      0.9951   4164589.0  127592176.0   \n",
      "3    NaN   US       Jill Stein  US      0.9951   1255968.0  127592176.0   \n",
      "4    NaN   US    Evan McMullin  US      0.9951    451636.0  127592176.0   \n",
      "\n",
      "        pct          lead  \n",
      "0  0.472993  Donald Trump  \n",
      "1  0.477938  Donald Trump  \n",
      "2  0.032640  Donald Trump  \n",
      "3  0.009844  Donald Trump  \n",
      "4  0.003540  Donald Trump  \n"
     ]
    }
   ],
   "source": [
    "############ Now we read in the datasets that contain the election results\n",
    "# clean that, rehape so each candidate is a col, and organize it by county\n",
    "\n",
    "prez_file = './Datasets/pres16results.csv'\n",
    "\n",
    "prez_df = pd.read_csv(prez_file)\n",
    "\n",
    "print(prez_df.head())"
   ]
  },
  {
   "cell_type": "code",
   "execution_count": 20,
   "metadata": {},
   "outputs": [
    {
     "name": "stdout",
     "output_type": "stream",
     "text": [
      "                 county             cand  st       pct\n",
      "159  Los Angeles County  Hillary Clinton  CA  0.714965\n",
      "160  Los Angeles County     Donald Trump  CA  0.234454\n",
      "161  Los Angeles County     Gary Johnson  CA  0.024589\n",
      "162  Los Angeles County       Jill Stein  CA  0.020171\n",
      "163  Los Angeles County   Gloria La Riva  CA  0.005821\n"
     ]
    }
   ],
   "source": [
    "# removing the cols we're not going to use, and dropping ann NAs (because they indicate a total count, not per county)\n",
    "\n",
    "prez_df1 = prez_df[['county', 'cand', 'st', 'pct']]\n",
    "\n",
    "prez_df2 = prez_df1.dropna()\n",
    "\n",
    "print(prez_df2.head())"
   ]
  },
  {
   "cell_type": "code",
   "execution_count": 21,
   "metadata": {},
   "outputs": [
    {
     "name": "stdout",
     "output_type": "stream",
     "text": [
      "          county             cand  st       pct\n",
      "159  Los Angeles  Hillary Clinton  CA  0.714965\n",
      "160  Los Angeles     Donald Trump  CA  0.234454\n",
      "161  Los Angeles     Gary Johnson  CA  0.024589\n",
      "162  Los Angeles       Jill Stein  CA  0.020171\n",
      "163  Los Angeles   Gloria La Riva  CA  0.005821\n"
     ]
    },
    {
     "name": "stderr",
     "output_type": "stream",
     "text": [
      "/anaconda3/lib/python3.6/site-packages/ipykernel_launcher.py:3: SettingWithCopyWarning: \n",
      "A value is trying to be set on a copy of a slice from a DataFrame.\n",
      "Try using .loc[row_indexer,col_indexer] = value instead\n",
      "\n",
      "See the caveats in the documentation: http://pandas.pydata.org/pandas-docs/stable/indexing.html#indexing-view-versus-copy\n",
      "  This is separate from the ipykernel package so we can avoid doing imports until\n"
     ]
    }
   ],
   "source": [
    "### Now we remove the word county from the counties, so they can be matched\n",
    "\n",
    "prez_df2['county'] = prez_df2.county.str.replace(' County', '')\n",
    "\n",
    "print(prez_df2.head())"
   ]
  },
  {
   "cell_type": "code",
   "execution_count": 22,
   "metadata": {},
   "outputs": [
    {
     "name": "stdout",
     "output_type": "stream",
     "text": [
      "          county             cand  st       pct     County_State\n",
      "159  Los Angeles  Hillary Clinton  CA  0.714965  Los Angeles, CA\n",
      "160  Los Angeles     Donald Trump  CA  0.234454  Los Angeles, CA\n",
      "161  Los Angeles     Gary Johnson  CA  0.024589  Los Angeles, CA\n",
      "162  Los Angeles       Jill Stein  CA  0.020171  Los Angeles, CA\n",
      "163  Los Angeles   Gloria La Riva  CA  0.005821  Los Angeles, CA\n"
     ]
    },
    {
     "name": "stderr",
     "output_type": "stream",
     "text": [
      "/anaconda3/lib/python3.6/site-packages/ipykernel_launcher.py:3: SettingWithCopyWarning: \n",
      "A value is trying to be set on a copy of a slice from a DataFrame.\n",
      "Try using .loc[row_indexer,col_indexer] = value instead\n",
      "\n",
      "See the caveats in the documentation: http://pandas.pydata.org/pandas-docs/stable/indexing.html#indexing-view-versus-copy\n",
      "  This is separate from the ipykernel package so we can avoid doing imports until\n"
     ]
    }
   ],
   "source": [
    "### Now we create a county state col\n",
    "\n",
    "prez_df2['County_State'] = prez_df2.county + \", \" + prez_df2.st\n",
    "\n",
    "print(prez_df2.head())"
   ]
  },
  {
   "cell_type": "code",
   "execution_count": 23,
   "metadata": {},
   "outputs": [
    {
     "name": "stdout",
     "output_type": "stream",
     "text": [
      "cand                None of these candidates  Alyson Kennedy  Bradford Lyttle  \\\n",
      "County_State                                                                    \n",
      "Abbeville, SC                            NaN             NaN              NaN   \n",
      "Acadia Parish, LA                        NaN        0.000292              NaN   \n",
      "Accomack, VA                             NaN             NaN              NaN   \n",
      "Ada, ID                                  NaN             NaN              NaN   \n",
      "Adair, IA                                NaN             NaN              NaN   \n",
      "\n",
      "cand               Chris Keniston  Dan Vacek  Darrell Castle  Donald Trump  \\\n",
      "County_State                                                                 \n",
      "Abbeville, SC                 NaN        NaN        0.003543      0.628683   \n",
      "Acadia Parish, LA        0.001022        NaN        0.001826      0.772621   \n",
      "Accomack, VA                  NaN        NaN             NaN      0.544716   \n",
      "Ada, ID                       NaN        NaN        0.005200      0.479316   \n",
      "Adair, IA                     NaN    0.00266        0.002660      0.653365   \n",
      "\n",
      "cand               Emidio Soltysik  Evan McMullin  Frank Atwood      ...       \\\n",
      "County_State                                                         ...        \n",
      "Abbeville, SC                  NaN       0.005222           NaN      ...        \n",
      "Acadia Parish, LA              NaN       0.002702           NaN      ...        \n",
      "Accomack, VA                   NaN       0.007109           NaN      ...        \n",
      "Ada, ID                        NaN       0.057284           NaN      ...        \n",
      "Adair, IA                      NaN       0.002660           NaN      ...        \n",
      "\n",
      "cand               Monica Moorehead  Peter Skewes  Princess Jacob  \\\n",
      "County_State                                                        \n",
      "Abbeville, SC                   NaN      0.001119             NaN   \n",
      "Acadia Parish, LA               NaN           NaN        0.000329   \n",
      "Accomack, VA                    NaN           NaN             NaN   \n",
      "Ada, ID                         NaN           NaN             NaN   \n",
      "Adair, IA                       NaN           NaN             NaN   \n",
      "\n",
      "cand               Richard Duncan  Rocky De La Fuente  Rocky Giordani  \\\n",
      "County_State                                                            \n",
      "Abbeville, SC                 NaN                 NaN             NaN   \n",
      "Acadia Parish, LA             NaN                 NaN             NaN   \n",
      "Accomack, VA                  NaN                 NaN             NaN   \n",
      "Ada, ID                       NaN            0.001784             NaN   \n",
      "Adair, IA                     NaN            0.000798             NaN   \n",
      "\n",
      "cand               Rod Silva  Ryan Scott  Scott Copeland  Tom Hoefling  \n",
      "County_State                                                            \n",
      "Abbeville, SC            NaN         NaN             NaN           NaN  \n",
      "Acadia Parish, LA        NaN         NaN             NaN      0.000365  \n",
      "Accomack, VA             NaN         NaN             NaN           NaN  \n",
      "Ada, ID                  NaN         NaN        0.002459           NaN  \n",
      "Adair, IA                NaN         NaN             NaN           NaN  \n",
      "\n",
      "[5 rows x 32 columns]\n"
     ]
    }
   ],
   "source": [
    "### now we reshape the data so that each candidate is a col\n",
    "\n",
    "prez_reshape = prez_df2.pivot(index = 'County_State', columns = 'cand', values = 'pct')\n",
    "\n",
    "print(prez_reshape.head())"
   ]
  },
  {
   "cell_type": "code",
   "execution_count": 24,
   "metadata": {},
   "outputs": [
    {
     "name": "stdout",
     "output_type": "stream",
     "text": [
      "Index([' None of these candidates', 'Alyson Kennedy', 'Bradford Lyttle',\n",
      "       'Chris Keniston', 'Dan Vacek', 'Darrell Castle', 'Donald Trump',\n",
      "       'Emidio Soltysik', 'Evan McMullin', 'Frank Atwood', 'Gary Johnson',\n",
      "       'Gloria La Riva', 'Hillary Clinton', 'Jerry White', 'Jill Stein',\n",
      "       'Jim Hedges', 'Joseph Maldonado', 'Kyle Kopitke', 'Laurence Kotlikoff',\n",
      "       'Lynn Kahn', 'Michael Maturen', 'Mike Smith', 'Monica Moorehead',\n",
      "       'Peter Skewes', 'Princess Jacob', 'Richard Duncan',\n",
      "       'Rocky De La Fuente', 'Rocky Giordani', 'Rod Silva', 'Ryan Scott',\n",
      "       'Scott Copeland', 'Tom Hoefling'],\n",
      "      dtype='object', name='cand')\n"
     ]
    }
   ],
   "source": [
    "# Next we check the names of the cols, to see how to proceed\n",
    "\n",
    "print(prez_reshape.columns)"
   ]
  },
  {
   "cell_type": "code",
   "execution_count": 70,
   "metadata": {},
   "outputs": [
    {
     "ename": "KeyError",
     "evalue": "\"['Donald_Trump' 'Hillary_Clinton'] not in index\"",
     "output_type": "error",
     "traceback": [
      "\u001b[0;31m---------------------------------------------------------------------------\u001b[0m",
      "\u001b[0;31mKeyError\u001b[0m                                  Traceback (most recent call last)",
      "\u001b[0;32m<ipython-input-70-0ada7e59dc39>\u001b[0m in \u001b[0;36m<module>\u001b[0;34m()\u001b[0m\n\u001b[1;32m      9\u001b[0m        \u001b[0;34m'Peter Skewes'\u001b[0m\u001b[0;34m,\u001b[0m \u001b[0;34m'Princess Jacob'\u001b[0m\u001b[0;34m,\u001b[0m \u001b[0;34m'Richard Duncan'\u001b[0m\u001b[0;34m,\u001b[0m\u001b[0;34m\u001b[0m\u001b[0m\n\u001b[1;32m     10\u001b[0m        \u001b[0;34m'Rocky De La Fuente'\u001b[0m\u001b[0;34m,\u001b[0m \u001b[0;34m'Rocky Giordani'\u001b[0m\u001b[0;34m,\u001b[0m \u001b[0;34m'Rod Silva'\u001b[0m\u001b[0;34m,\u001b[0m \u001b[0;34m'Ryan Scott'\u001b[0m\u001b[0;34m,\u001b[0m\u001b[0;34m\u001b[0m\u001b[0m\n\u001b[0;32m---> 11\u001b[0;31m        'Scott Copeland', 'Tom Hoefling']]\n\u001b[0m\u001b[1;32m     12\u001b[0m \u001b[0;34m\u001b[0m\u001b[0m\n\u001b[1;32m     13\u001b[0m \u001b[0mprint\u001b[0m\u001b[0;34m(\u001b[0m\u001b[0mprez_reshape\u001b[0m\u001b[0;34m.\u001b[0m\u001b[0mhead\u001b[0m\u001b[0;34m(\u001b[0m\u001b[0;34m)\u001b[0m\u001b[0;34m)\u001b[0m\u001b[0;34m\u001b[0m\u001b[0m\n",
      "\u001b[0;32m/anaconda3/lib/python3.6/site-packages/pandas/core/frame.py\u001b[0m in \u001b[0;36m__getitem__\u001b[0;34m(self, key)\u001b[0m\n\u001b[1;32m   2131\u001b[0m         \u001b[0;32mif\u001b[0m \u001b[0misinstance\u001b[0m\u001b[0;34m(\u001b[0m\u001b[0mkey\u001b[0m\u001b[0;34m,\u001b[0m \u001b[0;34m(\u001b[0m\u001b[0mSeries\u001b[0m\u001b[0;34m,\u001b[0m \u001b[0mnp\u001b[0m\u001b[0;34m.\u001b[0m\u001b[0mndarray\u001b[0m\u001b[0;34m,\u001b[0m \u001b[0mIndex\u001b[0m\u001b[0;34m,\u001b[0m \u001b[0mlist\u001b[0m\u001b[0;34m)\u001b[0m\u001b[0;34m)\u001b[0m\u001b[0;34m:\u001b[0m\u001b[0;34m\u001b[0m\u001b[0m\n\u001b[1;32m   2132\u001b[0m             \u001b[0;31m# either boolean or fancy integer index\u001b[0m\u001b[0;34m\u001b[0m\u001b[0;34m\u001b[0m\u001b[0m\n\u001b[0;32m-> 2133\u001b[0;31m             \u001b[0;32mreturn\u001b[0m \u001b[0mself\u001b[0m\u001b[0;34m.\u001b[0m\u001b[0m_getitem_array\u001b[0m\u001b[0;34m(\u001b[0m\u001b[0mkey\u001b[0m\u001b[0;34m)\u001b[0m\u001b[0;34m\u001b[0m\u001b[0m\n\u001b[0m\u001b[1;32m   2134\u001b[0m         \u001b[0;32melif\u001b[0m \u001b[0misinstance\u001b[0m\u001b[0;34m(\u001b[0m\u001b[0mkey\u001b[0m\u001b[0;34m,\u001b[0m \u001b[0mDataFrame\u001b[0m\u001b[0;34m)\u001b[0m\u001b[0;34m:\u001b[0m\u001b[0;34m\u001b[0m\u001b[0m\n\u001b[1;32m   2135\u001b[0m             \u001b[0;32mreturn\u001b[0m \u001b[0mself\u001b[0m\u001b[0;34m.\u001b[0m\u001b[0m_getitem_frame\u001b[0m\u001b[0;34m(\u001b[0m\u001b[0mkey\u001b[0m\u001b[0;34m)\u001b[0m\u001b[0;34m\u001b[0m\u001b[0m\n",
      "\u001b[0;32m/anaconda3/lib/python3.6/site-packages/pandas/core/frame.py\u001b[0m in \u001b[0;36m_getitem_array\u001b[0;34m(self, key)\u001b[0m\n\u001b[1;32m   2175\u001b[0m             \u001b[0;32mreturn\u001b[0m \u001b[0mself\u001b[0m\u001b[0;34m.\u001b[0m\u001b[0m_take\u001b[0m\u001b[0;34m(\u001b[0m\u001b[0mindexer\u001b[0m\u001b[0;34m,\u001b[0m \u001b[0maxis\u001b[0m\u001b[0;34m=\u001b[0m\u001b[0;36m0\u001b[0m\u001b[0;34m,\u001b[0m \u001b[0mconvert\u001b[0m\u001b[0;34m=\u001b[0m\u001b[0;32mFalse\u001b[0m\u001b[0;34m)\u001b[0m\u001b[0;34m\u001b[0m\u001b[0m\n\u001b[1;32m   2176\u001b[0m         \u001b[0;32melse\u001b[0m\u001b[0;34m:\u001b[0m\u001b[0;34m\u001b[0m\u001b[0m\n\u001b[0;32m-> 2177\u001b[0;31m             \u001b[0mindexer\u001b[0m \u001b[0;34m=\u001b[0m \u001b[0mself\u001b[0m\u001b[0;34m.\u001b[0m\u001b[0mloc\u001b[0m\u001b[0;34m.\u001b[0m\u001b[0m_convert_to_indexer\u001b[0m\u001b[0;34m(\u001b[0m\u001b[0mkey\u001b[0m\u001b[0;34m,\u001b[0m \u001b[0maxis\u001b[0m\u001b[0;34m=\u001b[0m\u001b[0;36m1\u001b[0m\u001b[0;34m)\u001b[0m\u001b[0;34m\u001b[0m\u001b[0m\n\u001b[0m\u001b[1;32m   2178\u001b[0m             \u001b[0;32mreturn\u001b[0m \u001b[0mself\u001b[0m\u001b[0;34m.\u001b[0m\u001b[0m_take\u001b[0m\u001b[0;34m(\u001b[0m\u001b[0mindexer\u001b[0m\u001b[0;34m,\u001b[0m \u001b[0maxis\u001b[0m\u001b[0;34m=\u001b[0m\u001b[0;36m1\u001b[0m\u001b[0;34m,\u001b[0m \u001b[0mconvert\u001b[0m\u001b[0;34m=\u001b[0m\u001b[0;32mTrue\u001b[0m\u001b[0;34m)\u001b[0m\u001b[0;34m\u001b[0m\u001b[0m\n\u001b[1;32m   2179\u001b[0m \u001b[0;34m\u001b[0m\u001b[0m\n",
      "\u001b[0;32m/anaconda3/lib/python3.6/site-packages/pandas/core/indexing.py\u001b[0m in \u001b[0;36m_convert_to_indexer\u001b[0;34m(self, obj, axis, is_setter)\u001b[0m\n\u001b[1;32m   1267\u001b[0m                 \u001b[0;32mif\u001b[0m \u001b[0mmask\u001b[0m\u001b[0;34m.\u001b[0m\u001b[0many\u001b[0m\u001b[0;34m(\u001b[0m\u001b[0;34m)\u001b[0m\u001b[0;34m:\u001b[0m\u001b[0;34m\u001b[0m\u001b[0m\n\u001b[1;32m   1268\u001b[0m                     raise KeyError('{mask} not in index'\n\u001b[0;32m-> 1269\u001b[0;31m                                    .format(mask=objarr[mask]))\n\u001b[0m\u001b[1;32m   1270\u001b[0m \u001b[0;34m\u001b[0m\u001b[0m\n\u001b[1;32m   1271\u001b[0m                 \u001b[0;32mreturn\u001b[0m \u001b[0m_values_from_object\u001b[0m\u001b[0;34m(\u001b[0m\u001b[0mindexer\u001b[0m\u001b[0;34m)\u001b[0m\u001b[0;34m\u001b[0m\u001b[0m\n",
      "\u001b[0;31mKeyError\u001b[0m: \"['Donald_Trump' 'Hillary_Clinton'] not in index\""
     ]
    }
   ],
   "source": [
    "## Now we're going to reorder some of the cols\n",
    "\n",
    "prez_reshape = prez_reshape[['Donald Trump', 'Hillary Clinton', ' None of these candidates', 'Alyson Kennedy', 'Bradford Lyttle',\n",
    "       'Chris Keniston', 'Dan Vacek', 'Darrell Castle',\n",
    "       'Emidio Soltysik', 'Evan McMullin', 'Frank Atwood', 'Gary Johnson',\n",
    "       'Gloria La Riva', 'Jerry White', 'Jill Stein',\n",
    "       'Jim Hedges', 'Joseph Maldonado', 'Kyle Kopitke', 'Laurence Kotlikoff',\n",
    "       'Lynn Kahn', 'Michael Maturen', 'Mike Smith', 'Monica Moorehead',\n",
    "       'Peter Skewes', 'Princess Jacob', 'Richard Duncan',\n",
    "       'Rocky De La Fuente', 'Rocky Giordani', 'Rod Silva', 'Ryan Scott',\n",
    "       'Scott Copeland', 'Tom Hoefling']]\n",
    "\n",
    "print(prez_reshape.head())"
   ]
  },
  {
   "cell_type": "code",
   "execution_count": 26,
   "metadata": {},
   "outputs": [
    {
     "name": "stdout",
     "output_type": "stream",
     "text": [
      "cand               Donald Trump  Hillary Clinton  Independent\n",
      "County_State                                                 \n",
      "Abbeville, SC          0.628683         0.346140     0.025177\n",
      "Acadia Parish, LA      0.772621         0.205872     0.021507\n",
      "Accomack, VA           0.544716         0.427610     0.027674\n",
      "Ada, ID                0.479316         0.386917     0.133767\n",
      "Adair, IA              0.653365         0.299814     0.046821\n"
     ]
    }
   ],
   "source": [
    "## Now we're going to create another dataset that doesn't contain Trump or Clinton, so we can then use a summation and\n",
    "## create another col, Independent, for the independents\n",
    "\n",
    "col_list = list(prez_reshape)\n",
    "\n",
    "col_list.remove('Donald Trump')\n",
    "col_list.remove('Hillary Clinton')\n",
    "\n",
    "prez_reshape['Independent'] = prez_reshape[col_list].sum(axis=1)\n",
    "\n",
    "pres_reshaped_final = prez_reshape[['Donald Trump', 'Hillary Clinton', 'Independent']]\n",
    "\n",
    "print(pres_reshaped_final.head())"
   ]
  },
  {
   "cell_type": "code",
   "execution_count": 27,
   "metadata": {},
   "outputs": [
    {
     "data": {
      "text/html": [
       "<div>\n",
       "<style scoped>\n",
       "    .dataframe tbody tr th:only-of-type {\n",
       "        vertical-align: middle;\n",
       "    }\n",
       "\n",
       "    .dataframe tbody tr th {\n",
       "        vertical-align: top;\n",
       "    }\n",
       "\n",
       "    .dataframe thead th {\n",
       "        text-align: right;\n",
       "    }\n",
       "</style>\n",
       "<table border=\"1\" class=\"dataframe\">\n",
       "  <thead>\n",
       "    <tr style=\"text-align: right;\">\n",
       "      <th></th>\n",
       "      <th>index</th>\n",
       "      <th>State</th>\n",
       "      <th>Agency_Type</th>\n",
       "      <th>Agency_Name</th>\n",
       "      <th>Race</th>\n",
       "      <th>Religion</th>\n",
       "      <th>Sexual_Orientation</th>\n",
       "      <th>Disability</th>\n",
       "      <th>Gender</th>\n",
       "      <th>Gender_ID</th>\n",
       "      <th>Q1</th>\n",
       "      <th>Q2</th>\n",
       "      <th>Q3</th>\n",
       "      <th>Q4</th>\n",
       "      <th>Pop</th>\n",
       "      <th>Abbreviation</th>\n",
       "      <th>City_State</th>\n",
       "      <th>County</th>\n",
       "      <th>County_State</th>\n",
       "    </tr>\n",
       "  </thead>\n",
       "  <tbody>\n",
       "    <tr>\n",
       "      <th>2</th>\n",
       "      <td>7</td>\n",
       "      <td>Alabama</td>\n",
       "      <td>Cities</td>\n",
       "      <td>Birmingham</td>\n",
       "      <td>7</td>\n",
       "      <td>1</td>\n",
       "      <td>1</td>\n",
       "      <td>0</td>\n",
       "      <td>0</td>\n",
       "      <td>0</td>\n",
       "      <td>3</td>\n",
       "      <td>2</td>\n",
       "      <td>2</td>\n",
       "      <td>2</td>\n",
       "      <td>212549</td>\n",
       "      <td>AL</td>\n",
       "      <td>Birmingham, AL</td>\n",
       "      <td>Jefferson</td>\n",
       "      <td>Jefferson, AL</td>\n",
       "    </tr>\n",
       "    <tr>\n",
       "      <th>3</th>\n",
       "      <td>8</td>\n",
       "      <td>Alabama</td>\n",
       "      <td>Cities</td>\n",
       "      <td>Florence</td>\n",
       "      <td>1</td>\n",
       "      <td>0</td>\n",
       "      <td>0</td>\n",
       "      <td>0</td>\n",
       "      <td>0</td>\n",
       "      <td>0</td>\n",
       "      <td>0</td>\n",
       "      <td>0</td>\n",
       "      <td>1</td>\n",
       "      <td>0</td>\n",
       "      <td>40160</td>\n",
       "      <td>AL</td>\n",
       "      <td>Florence, AL</td>\n",
       "      <td>Lauderdale</td>\n",
       "      <td>Lauderdale, AL</td>\n",
       "    </tr>\n",
       "    <tr>\n",
       "      <th>4</th>\n",
       "      <td>9</td>\n",
       "      <td>Alabama</td>\n",
       "      <td>Cities</td>\n",
       "      <td>Foley</td>\n",
       "      <td>1</td>\n",
       "      <td>0</td>\n",
       "      <td>0</td>\n",
       "      <td>0</td>\n",
       "      <td>0</td>\n",
       "      <td>0</td>\n",
       "      <td>0</td>\n",
       "      <td>1</td>\n",
       "      <td>0</td>\n",
       "      <td>0</td>\n",
       "      <td>17639</td>\n",
       "      <td>AL</td>\n",
       "      <td>Foley, AL</td>\n",
       "      <td>Baldwin</td>\n",
       "      <td>Baldwin, AL</td>\n",
       "    </tr>\n",
       "    <tr>\n",
       "      <th>5</th>\n",
       "      <td>10</td>\n",
       "      <td>Alabama</td>\n",
       "      <td>Cities</td>\n",
       "      <td>Hoover</td>\n",
       "      <td>3</td>\n",
       "      <td>0</td>\n",
       "      <td>0</td>\n",
       "      <td>0</td>\n",
       "      <td>0</td>\n",
       "      <td>0</td>\n",
       "      <td>1</td>\n",
       "      <td>0</td>\n",
       "      <td>1</td>\n",
       "      <td>1</td>\n",
       "      <td>85601</td>\n",
       "      <td>AL</td>\n",
       "      <td>Hoover, AL</td>\n",
       "      <td>Jefferson</td>\n",
       "      <td>Jefferson, AL</td>\n",
       "    </tr>\n",
       "    <tr>\n",
       "      <th>8</th>\n",
       "      <td>13</td>\n",
       "      <td>Alaska</td>\n",
       "      <td>Cities</td>\n",
       "      <td>Anchorage</td>\n",
       "      <td>4</td>\n",
       "      <td>0</td>\n",
       "      <td>0</td>\n",
       "      <td>0</td>\n",
       "      <td>0</td>\n",
       "      <td>0</td>\n",
       "      <td>1</td>\n",
       "      <td>0</td>\n",
       "      <td>2</td>\n",
       "      <td>1</td>\n",
       "      <td>299097</td>\n",
       "      <td>AK</td>\n",
       "      <td>Anchorage, AK</td>\n",
       "      <td>Anchorage</td>\n",
       "      <td>Anchorage, AK</td>\n",
       "    </tr>\n",
       "  </tbody>\n",
       "</table>\n",
       "</div>"
      ],
      "text/plain": [
       "   index    State Agency_Type Agency_Name Race Religion Sexual_Orientation  \\\n",
       "2      7  Alabama      Cities  Birmingham    7        1                  1   \n",
       "3      8  Alabama      Cities    Florence    1        0                  0   \n",
       "4      9  Alabama      Cities       Foley    1        0                  0   \n",
       "5     10  Alabama      Cities      Hoover    3        0                  0   \n",
       "8     13   Alaska      Cities   Anchorage    4        0                  0   \n",
       "\n",
       "  Disability Gender Gender_ID Q1 Q2 Q3 Q4     Pop Abbreviation  \\\n",
       "2          0      0         0  3  2  2  2  212549           AL   \n",
       "3          0      0         0  0  0  1  0   40160           AL   \n",
       "4          0      0         0  0  1  0  0   17639           AL   \n",
       "5          0      0         0  1  0  1  1   85601           AL   \n",
       "8          0      0         0  1  0  2  1  299097           AK   \n",
       "\n",
       "       City_State      County    County_State  \n",
       "2  Birmingham, AL   Jefferson   Jefferson, AL  \n",
       "3    Florence, AL  Lauderdale  Lauderdale, AL  \n",
       "4       Foley, AL     Baldwin     Baldwin, AL  \n",
       "5      Hoover, AL   Jefferson   Jefferson, AL  \n",
       "8   Anchorage, AK   Anchorage   Anchorage, AK  "
      ]
     },
     "execution_count": 27,
     "metadata": {},
     "output_type": "execute_result"
    }
   ],
   "source": [
    "#### Now we're gonna merge the political information with the hate crime dataset\n",
    "\n",
    "# here, we create the county state variable to merge on, since each county name might be repeated across states\n",
    "df2_counties['County_State'] = df2_counties.County + \", \" + df2_counties.Abbreviation\n",
    "\n",
    "df2_counties.head()"
   ]
  },
  {
   "cell_type": "code",
   "execution_count": 28,
   "metadata": {},
   "outputs": [
    {
     "name": "stdout",
     "output_type": "stream",
     "text": [
      "   index    State Agency_Type Agency_Name Race Religion Sexual_Orientation  \\\n",
      "2      7  Alabama      Cities  Birmingham    7        1                  1   \n",
      "3      8  Alabama      Cities    Florence    1        0                  0   \n",
      "4      9  Alabama      Cities       Foley    1        0                  0   \n",
      "5     10  Alabama      Cities      Hoover    3        0                  0   \n",
      "8     13   Alaska      Cities   Anchorage    4        0                  0   \n",
      "\n",
      "  Disability Gender Gender_ID     ...      Q3 Q4     Pop Abbreviation  \\\n",
      "2          0      0         0     ...       2  2  212549           AL   \n",
      "3          0      0         0     ...       1  0   40160           AL   \n",
      "4          0      0         0     ...       0  0   17639           AL   \n",
      "5          0      0         0     ...       1  1   85601           AL   \n",
      "8          0      0         0     ...       2  1  299097           AK   \n",
      "\n",
      "       City_State      County    County_State Donald Trump Hillary Clinton  \\\n",
      "2  Birmingham, AL   Jefferson   Jefferson, AL     0.450221        0.522493   \n",
      "3    Florence, AL  Lauderdale  Lauderdale, AL     0.714580        0.254477   \n",
      "4       Foley, AL     Baldwin     Baldwin, AL     0.773515        0.195653   \n",
      "5      Hoover, AL   Jefferson   Jefferson, AL     0.450221        0.522493   \n",
      "8   Anchorage, AK   Anchorage   Anchorage, AK          NaN             NaN   \n",
      "\n",
      "   Independent  \n",
      "2     0.027286  \n",
      "3     0.030943  \n",
      "4     0.030832  \n",
      "5     0.027286  \n",
      "8          NaN  \n",
      "\n",
      "[5 rows x 22 columns]\n"
     ]
    }
   ],
   "source": [
    "### Now we do the merge, using the ID and the County_State cols, and we use a left merge because we're only interested in info from the hate crimes dataset\n",
    "merge1 = pd.merge(df2_counties, pres_reshaped_final, right_index = True, left_on = 'County_State', how='left')\n",
    "\n",
    "print(merge1.head())"
   ]
  },
  {
   "cell_type": "code",
   "execution_count": 29,
   "metadata": {},
   "outputs": [
    {
     "data": {
      "text/plain": [
       "218"
      ]
     },
     "execution_count": 29,
     "metadata": {},
     "output_type": "execute_result"
    }
   ],
   "source": [
    "### now we look at the missing datapoints\n",
    "\n",
    "merge1['Donald Trump'].isnull().sum() \n"
   ]
  },
  {
   "cell_type": "markdown",
   "metadata": {},
   "source": [
    "We don't have political information for aprox 218 counties, BUT 196 of the cities don't have county info, so that makes sense"
   ]
  },
  {
   "cell_type": "code",
   "execution_count": 30,
   "metadata": {},
   "outputs": [
    {
     "name": "stdout",
     "output_type": "stream",
     "text": [
      "   fips      area_name state_abbreviation  PST045214  PST040210  PST120214  \\\n",
      "0     0  United States                NaN  318857056  308758105        3.3   \n",
      "1  1000        Alabama                NaN    4849377    4780127        1.4   \n",
      "2  1001        Autauga                 AL      55395      54571        1.5   \n",
      "3  1003        Baldwin                 AL     200111     182265        9.8   \n",
      "4  1005        Barbour                 AL      26887      27457       -2.1   \n",
      "\n",
      "   POP010210  AGE135214  AGE295214  AGE775214    ...      SBO415207  \\\n",
      "0  308745538        6.2       23.1       14.5    ...            8.3   \n",
      "1    4779736        6.1       22.8       15.3    ...            1.2   \n",
      "2      54571        6.0       25.2       13.8    ...            0.7   \n",
      "3     182265        5.6       22.2       18.7    ...            1.3   \n",
      "4      27457        5.7       21.2       16.5    ...            0.0   \n",
      "\n",
      "   SBO015207   MAN450207   WTN220207   RTN130207  RTN131207  AFN120207  \\\n",
      "0       28.8  5319456312  4174286516  3917663456      12990  613795732   \n",
      "1       28.1   112858843    52252752    57344851      12364    6426342   \n",
      "2       31.7           0           0      598175      12003      88157   \n",
      "3       27.3     1410273           0     2966489      17166     436955   \n",
      "4       27.0           0           0      188337       6334          0   \n",
      "\n",
      "   BPS030214   LND110210  POP060210  \n",
      "0    1046363  3531905.43       87.4  \n",
      "1      13369    50645.33       94.4  \n",
      "2        131      594.44       91.8  \n",
      "3       1384     1589.78      114.6  \n",
      "4          8      884.88       31.0  \n",
      "\n",
      "[5 rows x 54 columns]\n"
     ]
    }
   ],
   "source": [
    "############### Next, we import and clean the dataset with the demographic informaton about each political county\n",
    "\n",
    "facts_file = './Datasets/2016-us-election/county_facts.csv'\n",
    "\n",
    "facts_df = pd.read_csv(facts_file)\n",
    "\n",
    "### Removes the word county from the area name, so it can be matched with state\n",
    "\n",
    "facts_df['area_name'] = facts_df.area_name.str.replace(' County', '')\n",
    "\n",
    "print(facts_df.head())"
   ]
  },
  {
   "cell_type": "code",
   "execution_count": 31,
   "metadata": {},
   "outputs": [
    {
     "name": "stdout",
     "output_type": "stream",
     "text": [
      "   fips      area_name state_abbreviation    pop2014  pop2010base  pop_change  \\\n",
      "0     0  United States                NaN  318857056    308758105         3.3   \n",
      "1  1000        Alabama                NaN    4849377      4780127         1.4   \n",
      "2  1001        Autauga                 AL      55395        54571         1.5   \n",
      "3  1003        Baldwin                 AL     200111       182265         9.8   \n",
      "4  1005        Barbour                 AL      26887        27457        -2.1   \n",
      "\n",
      "     pop2010  under5  under18  over65       ...         hispanic_firms  \\\n",
      "0  308745538     6.2     23.1    14.5       ...                    8.3   \n",
      "1    4779736     6.1     22.8    15.3       ...                    1.2   \n",
      "2      54571     6.0     25.2    13.8       ...                    0.7   \n",
      "3     182265     5.6     22.2    18.7       ...                    1.3   \n",
      "4      27457     5.7     21.2    16.5       ...                    0.0   \n",
      "\n",
      "   women_firms   shipments       sales  retail_sales  retail_sales_per_cap  \\\n",
      "0         28.8  5319456312  4174286516    3917663456                 12990   \n",
      "1         28.1   112858843    52252752      57344851                 12364   \n",
      "2         31.7           0           0        598175                 12003   \n",
      "3         27.3     1410273           0       2966489                 17166   \n",
      "4         27.0           0           0        188337                  6334   \n",
      "\n",
      "   acc_food_sales  building_permits   land_area  pop_per_sq_mile  \n",
      "0       613795732           1046363  3531905.43             87.4  \n",
      "1         6426342             13369    50645.33             94.4  \n",
      "2           88157               131      594.44             91.8  \n",
      "3          436955              1384     1589.78            114.6  \n",
      "4               0                 8      884.88             31.0  \n",
      "\n",
      "[5 rows x 54 columns]\n"
     ]
    }
   ],
   "source": [
    "### we're gonna rename the cols to make them more readable, and to pick which we want to use\n",
    "\n",
    "\n",
    "col_names_facts = ['fips', 'area_name', 'state_abbreviation', 'pop2014', 'pop2010base', 'pop_change', 'pop2010', 'under5', 'under18', 'over65', 'female_pct', 'white_pct', 'black_pct', \n",
    "                   'native_american_pct', 'asian_pct', 'pacific_pct', 'biracial_pct', 'hispanic_pct', 'white_not_hispanic', 'same_house_pct', 'foreign_born_pct', 'non-english_home_pct', 'hs_higher_pct',\n",
    "                   'college_pct', 'vetrans', 'time_to_work', 'housing_units', 'homeownership', 'housing_multiunits', 'housing_value', 'households', 'persons_per_household', \n",
    "                   'per_cap_income', 'median_household_income', 'below_pov_pct', 'nonfarms', 'nonfarm_employment', 'nonfarm_pct_change', 'nonemployments', 'num_firms', \n",
    "                   'black_owned_firms', 'native_firms', 'asian_firms', 'pacific_firms', 'hispanic_firms', 'women_firms', 'shipments', 'sales', 'retail_sales', 'retail_sales_per_cap',\n",
    "                   'acc_food_sales', 'building_permits', 'land_area', 'pop_per_sq_mile']\n",
    "\n",
    "facts_df.columns = col_names_facts\n",
    "\n",
    "print(facts_df.head())"
   ]
  },
  {
   "cell_type": "code",
   "execution_count": 32,
   "metadata": {},
   "outputs": [
    {
     "name": "stdout",
     "output_type": "stream",
     "text": [
      "   fips area_name state_abbreviation  pop2014  pop2010base  pop_change  \\\n",
      "2  1001   Autauga                 AL    55395        54571         1.5   \n",
      "3  1003   Baldwin                 AL   200111       182265         9.8   \n",
      "4  1005   Barbour                 AL    26887        27457        -2.1   \n",
      "5  1007      Bibb                 AL    22506        22919        -1.8   \n",
      "6  1009    Blount                 AL    57719        57322         0.7   \n",
      "\n",
      "   pop2010  under5  under18  over65      ...       women_firms  shipments  \\\n",
      "2    54571     6.0     25.2    13.8      ...              31.7          0   \n",
      "3   182265     5.6     22.2    18.7      ...              27.3    1410273   \n",
      "4    27457     5.7     21.2    16.5      ...              27.0          0   \n",
      "5    22915     5.3     21.0    14.8      ...               0.0          0   \n",
      "6    57322     6.1     23.6    17.0      ...              23.2     341544   \n",
      "\n",
      "   sales  retail_sales  retail_sales_per_cap  acc_food_sales  \\\n",
      "2      0        598175                 12003           88157   \n",
      "3      0       2966489                 17166          436955   \n",
      "4      0        188337                  6334               0   \n",
      "5      0        124707                  5804           10757   \n",
      "6      0        319700                  5622           20941   \n",
      "\n",
      "   building_permits  land_area  pop_per_sq_mile  County_State  \n",
      "2               131     594.44             91.8   Autauga, AL  \n",
      "3              1384    1589.78            114.6   Baldwin, AL  \n",
      "4                 8     884.88             31.0   Barbour, AL  \n",
      "5                19     622.58             36.8      Bibb, AL  \n",
      "6                 3     644.78             88.9    Blount, AL  \n",
      "\n",
      "[5 rows x 55 columns]\n"
     ]
    },
    {
     "name": "stderr",
     "output_type": "stream",
     "text": [
      "/anaconda3/lib/python3.6/site-packages/ipykernel_launcher.py:5: SettingWithCopyWarning: \n",
      "A value is trying to be set on a copy of a slice from a DataFrame.\n",
      "Try using .loc[row_indexer,col_indexer] = value instead\n",
      "\n",
      "See the caveats in the documentation: http://pandas.pydata.org/pandas-docs/stable/indexing.html#indexing-view-versus-copy\n",
      "  \"\"\"\n"
     ]
    }
   ],
   "source": [
    "### dropping nas and adding county state\n",
    "\n",
    "facts_df2 = facts_df.dropna()\n",
    "\n",
    "facts_df2['County_State'] = facts_df2.area_name + \", \" + facts_df2.state_abbreviation\n",
    "\n",
    "print(facts_df2.head())"
   ]
  },
  {
   "cell_type": "code",
   "execution_count": 33,
   "metadata": {},
   "outputs": [
    {
     "name": "stdout",
     "output_type": "stream",
     "text": [
      "   index    State Agency_Type Agency_Name Race Religion Sexual_Orientation  \\\n",
      "0      7  Alabama      Cities  Birmingham    7        1                  1   \n",
      "1      8  Alabama      Cities    Florence    1        0                  0   \n",
      "2      9  Alabama      Cities       Foley    1        0                  0   \n",
      "3     10  Alabama      Cities      Hoover    3        0                  0   \n",
      "4     13   Alaska      Cities   Anchorage    4        0                  0   \n",
      "\n",
      "  Disability Gender Gender_ID       ...        hispanic_firms women_firms  \\\n",
      "0          0      0         0       ...                   1.3        29.8   \n",
      "1          0      0         0       ...                   0.0        27.6   \n",
      "2          0      0         0       ...                   1.3        27.3   \n",
      "3          0      0         0       ...                   1.3        29.8   \n",
      "4          0      0         0       ...                   NaN         NaN   \n",
      "\n",
      "    shipments       sales retail_sales retail_sales_per_cap acc_food_sales  \\\n",
      "0  10260950.0  13756797.0   11066328.0              16730.0      1268154.0   \n",
      "1   1083658.0    514555.0    1131585.0              12783.0       136587.0   \n",
      "2   1410273.0         0.0    2966489.0              17166.0       436955.0   \n",
      "3  10260950.0  13756797.0   11066328.0              16730.0      1268154.0   \n",
      "4         NaN         NaN          NaN                  NaN            NaN   \n",
      "\n",
      "  building_permits land_area  pop_per_sq_mile  \n",
      "0           2280.0   1111.28            592.5  \n",
      "1             54.0    667.70            138.8  \n",
      "2           1384.0   1589.78            114.6  \n",
      "3           2280.0   1111.28            592.5  \n",
      "4              NaN       NaN              NaN  \n",
      "\n",
      "[5 rows x 76 columns]\n"
     ]
    }
   ],
   "source": [
    "##### Now we connect the political information, hate crime information, and demographic information to create the final dataset\n",
    "\n",
    "merge2 = pd.merge(merge1, facts_df2, right_on = 'County_State', left_on = 'County_State', how='left')\n",
    "\n",
    "print(merge2.head())"
   ]
  },
  {
   "cell_type": "code",
   "execution_count": 34,
   "metadata": {},
   "outputs": [
    {
     "data": {
      "text/plain": [
       "218"
      ]
     },
     "execution_count": 34,
     "metadata": {},
     "output_type": "execute_result"
    }
   ],
   "source": [
    "### Last, we check how many of the datapoints in the combined dataset are null. I picked the col randomly\n",
    "## we found 218 null values, the same as before, meaning that all the info for the datapoints that have county info\n",
    "## could be accounted for in the new dataset\n",
    "\n",
    "merge2['female_pct'].isnull().sum() "
   ]
  },
  {
   "cell_type": "code",
   "execution_count": 35,
   "metadata": {},
   "outputs": [
    {
     "data": {
      "text/html": [
       "<div>\n",
       "<style scoped>\n",
       "    .dataframe tbody tr th:only-of-type {\n",
       "        vertical-align: middle;\n",
       "    }\n",
       "\n",
       "    .dataframe tbody tr th {\n",
       "        vertical-align: top;\n",
       "    }\n",
       "\n",
       "    .dataframe thead th {\n",
       "        text-align: right;\n",
       "    }\n",
       "</style>\n",
       "<table border=\"1\" class=\"dataframe\">\n",
       "  <thead>\n",
       "    <tr style=\"text-align: right;\">\n",
       "      <th></th>\n",
       "      <th>Q1</th>\n",
       "      <th>Q2</th>\n",
       "      <th>Q3</th>\n",
       "      <th>Q4</th>\n",
       "    </tr>\n",
       "  </thead>\n",
       "  <tbody>\n",
       "    <tr>\n",
       "      <th>0</th>\n",
       "      <td>3</td>\n",
       "      <td>2</td>\n",
       "      <td>2</td>\n",
       "      <td>2</td>\n",
       "    </tr>\n",
       "    <tr>\n",
       "      <th>1</th>\n",
       "      <td>0</td>\n",
       "      <td>0</td>\n",
       "      <td>1</td>\n",
       "      <td>0</td>\n",
       "    </tr>\n",
       "    <tr>\n",
       "      <th>2</th>\n",
       "      <td>0</td>\n",
       "      <td>1</td>\n",
       "      <td>0</td>\n",
       "      <td>0</td>\n",
       "    </tr>\n",
       "    <tr>\n",
       "      <th>3</th>\n",
       "      <td>1</td>\n",
       "      <td>0</td>\n",
       "      <td>1</td>\n",
       "      <td>1</td>\n",
       "    </tr>\n",
       "    <tr>\n",
       "      <th>4</th>\n",
       "      <td>1</td>\n",
       "      <td>0</td>\n",
       "      <td>2</td>\n",
       "      <td>1</td>\n",
       "    </tr>\n",
       "    <tr>\n",
       "      <th>5</th>\n",
       "      <td>1</td>\n",
       "      <td>1</td>\n",
       "      <td>3</td>\n",
       "      <td>1</td>\n",
       "    </tr>\n",
       "    <tr>\n",
       "      <th>6</th>\n",
       "      <td>1</td>\n",
       "      <td>0</td>\n",
       "      <td>0</td>\n",
       "      <td>0</td>\n",
       "    </tr>\n",
       "    <tr>\n",
       "      <th>7</th>\n",
       "      <td>1</td>\n",
       "      <td>0</td>\n",
       "      <td>1</td>\n",
       "      <td>0</td>\n",
       "    </tr>\n",
       "    <tr>\n",
       "      <th>8</th>\n",
       "      <td>1</td>\n",
       "      <td>0</td>\n",
       "      <td>1</td>\n",
       "      <td>2</td>\n",
       "    </tr>\n",
       "    <tr>\n",
       "      <th>9</th>\n",
       "      <td>1</td>\n",
       "      <td>0</td>\n",
       "      <td>0</td>\n",
       "      <td>0</td>\n",
       "    </tr>\n",
       "    <tr>\n",
       "      <th>10</th>\n",
       "      <td>0</td>\n",
       "      <td>1</td>\n",
       "      <td>0</td>\n",
       "      <td>0</td>\n",
       "    </tr>\n",
       "    <tr>\n",
       "      <th>11</th>\n",
       "      <td>3</td>\n",
       "      <td>0</td>\n",
       "      <td>0</td>\n",
       "      <td>2</td>\n",
       "    </tr>\n",
       "    <tr>\n",
       "      <th>12</th>\n",
       "      <td>34</td>\n",
       "      <td>39</td>\n",
       "      <td>45</td>\n",
       "      <td>56</td>\n",
       "    </tr>\n",
       "    <tr>\n",
       "      <th>13</th>\n",
       "      <td>1</td>\n",
       "      <td>1</td>\n",
       "      <td>0</td>\n",
       "      <td>0</td>\n",
       "    </tr>\n",
       "    <tr>\n",
       "      <th>14</th>\n",
       "      <td>0</td>\n",
       "      <td>0</td>\n",
       "      <td>0</td>\n",
       "      <td>1</td>\n",
       "    </tr>\n",
       "    <tr>\n",
       "      <th>15</th>\n",
       "      <td>0</td>\n",
       "      <td>0</td>\n",
       "      <td>2</td>\n",
       "      <td>2</td>\n",
       "    </tr>\n",
       "    <tr>\n",
       "      <th>16</th>\n",
       "      <td>1</td>\n",
       "      <td>0</td>\n",
       "      <td>0</td>\n",
       "      <td>0</td>\n",
       "    </tr>\n",
       "    <tr>\n",
       "      <th>17</th>\n",
       "      <td>1</td>\n",
       "      <td>0</td>\n",
       "      <td>0</td>\n",
       "      <td>0</td>\n",
       "    </tr>\n",
       "    <tr>\n",
       "      <th>18</th>\n",
       "      <td>2</td>\n",
       "      <td>1</td>\n",
       "      <td>1</td>\n",
       "      <td>1</td>\n",
       "    </tr>\n",
       "    <tr>\n",
       "      <th>19</th>\n",
       "      <td>0</td>\n",
       "      <td>1</td>\n",
       "      <td>0</td>\n",
       "      <td>0</td>\n",
       "    </tr>\n",
       "  </tbody>\n",
       "</table>\n",
       "</div>"
      ],
      "text/plain": [
       "    Q1  Q2  Q3  Q4\n",
       "0    3   2   2   2\n",
       "1    0   0   1   0\n",
       "2    0   1   0   0\n",
       "3    1   0   1   1\n",
       "4    1   0   2   1\n",
       "5    1   1   3   1\n",
       "6    1   0   0   0\n",
       "7    1   0   1   0\n",
       "8    1   0   1   2\n",
       "9    1   0   0   0\n",
       "10   0   1   0   0\n",
       "11   3   0   0   2\n",
       "12  34  39  45  56\n",
       "13   1   1   0   0\n",
       "14   0   0   0   1\n",
       "15   0   0   2   2\n",
       "16   1   0   0   0\n",
       "17   1   0   0   0\n",
       "18   2   1   1   1\n",
       "19   0   1   0   0"
      ]
     },
     "execution_count": 35,
     "metadata": {},
     "output_type": "execute_result"
    }
   ],
   "source": [
    "## removing Nans from the Qs, so there are no Nan values for Total Hate Crimes, so the results aren't skewed\n",
    "\n",
    "merge2['Q1'] = merge2['Q1'].fillna(0)\n",
    "\n",
    "merge2['Q2'] = merge2['Q2'].fillna(0)\n",
    "\n",
    "merge2['Q3'] = merge2['Q3'].fillna(0)\n",
    "\n",
    "merge2['Q4'] = merge2['Q4'].fillna(0)\n",
    "\n",
    "merge2.iloc[:, 10:14].head(20)"
   ]
  },
  {
   "cell_type": "code",
   "execution_count": 36,
   "metadata": {},
   "outputs": [
    {
     "name": "stdout",
     "output_type": "stream",
     "text": [
      "   index    State Agency_Type Agency_Name Race Religion Sexual_Orientation  \\\n",
      "0      7  Alabama      Cities  Birmingham    7        1                  1   \n",
      "1      8  Alabama      Cities    Florence    1        0                  0   \n",
      "2      9  Alabama      Cities       Foley    1        0                  0   \n",
      "3     10  Alabama      Cities      Hoover    3        0                  0   \n",
      "4     13   Alaska      Cities   Anchorage    4        0                  0   \n",
      "\n",
      "  Disability Gender Gender_ID        ...          women_firms   shipments  \\\n",
      "0          0      0         0        ...                 29.8  10260950.0   \n",
      "1          0      0         0        ...                 27.6   1083658.0   \n",
      "2          0      0         0        ...                 27.3   1410273.0   \n",
      "3          0      0         0        ...                 29.8  10260950.0   \n",
      "4          0      0         0        ...                  NaN         NaN   \n",
      "\n",
      "        sales  retail_sales retail_sales_per_cap acc_food_sales  \\\n",
      "0  13756797.0    11066328.0              16730.0      1268154.0   \n",
      "1    514555.0     1131585.0              12783.0       136587.0   \n",
      "2         0.0     2966489.0              17166.0       436955.0   \n",
      "3  13756797.0    11066328.0              16730.0      1268154.0   \n",
      "4         NaN           NaN                  NaN            NaN   \n",
      "\n",
      "  building_permits land_area pop_per_sq_mile  Total_Hate_Crimes  \n",
      "0           2280.0   1111.28           592.5                  9  \n",
      "1             54.0    667.70           138.8                  1  \n",
      "2           1384.0   1589.78           114.6                  1  \n",
      "3           2280.0   1111.28           592.5                  3  \n",
      "4              NaN       NaN             NaN                  4  \n",
      "\n",
      "[5 rows x 77 columns]\n"
     ]
    }
   ],
   "source": [
    "# Lastly, I want to create a col that records the total number of hate crimes acorss quarters\n",
    "\n",
    "merge2['Total_Hate_Crimes'] = merge2.Q1 + merge2.Q2 + merge2.Q3 + merge2.Q4\n",
    "\n",
    "print(merge2.head())"
   ]
  },
  {
   "cell_type": "code",
   "execution_count": 37,
   "metadata": {},
   "outputs": [
    {
     "data": {
      "text/plain": [
       "Index(['index', 'State', 'Agency_Type', 'Agency_Name', 'Race', 'Religion',\n",
       "       'Sexual_Orientation', 'Disability', 'Gender', 'Gender_ID', 'Q1', 'Q2',\n",
       "       'Q3', 'Q4', 'Pop', 'Abbreviation', 'City_State', 'County',\n",
       "       'County_State', 'Donald Trump', 'Hillary Clinton', 'Independent',\n",
       "       'fips', 'area_name', 'state_abbreviation', 'pop2014', 'pop2010base',\n",
       "       'pop_change', 'pop2010', 'under5', 'under18', 'over65', 'female_pct',\n",
       "       'white_pct', 'black_pct', 'native_american_pct', 'asian_pct',\n",
       "       'pacific_pct', 'biracial_pct', 'hispanic_pct', 'white_not_hispanic',\n",
       "       'same_house_pct', 'foreign_born_pct', 'non-english_home_pct',\n",
       "       'hs_higher_pct', 'college_pct', 'vetrans', 'time_to_work',\n",
       "       'housing_units', 'homeownership', 'housing_multiunits', 'housing_value',\n",
       "       'households', 'persons_per_household', 'per_cap_income',\n",
       "       'median_household_income', 'below_pov_pct', 'nonfarms',\n",
       "       'nonfarm_employment', 'nonfarm_pct_change', 'nonemployments',\n",
       "       'num_firms', 'black_owned_firms', 'native_firms', 'asian_firms',\n",
       "       'pacific_firms', 'hispanic_firms', 'women_firms', 'shipments', 'sales',\n",
       "       'retail_sales', 'retail_sales_per_cap', 'acc_food_sales',\n",
       "       'building_permits', 'land_area', 'pop_per_sq_mile',\n",
       "       'Total_Hate_Crimes'],\n",
       "      dtype='object')"
      ]
     },
     "execution_count": 37,
     "metadata": {},
     "output_type": "execute_result"
    }
   ],
   "source": [
    "## First we're going to examine the cols, to see what we're working with and get some ideas for visualizations\n",
    "## (and also import some packages we might need)\n",
    "import matplotlib.pyplot as plt\n",
    "\n",
    "import seaborn as sns\n",
    "\n",
    "merge2.columns"
   ]
  },
  {
   "cell_type": "code",
   "execution_count": 38,
   "metadata": {},
   "outputs": [
    {
     "data": {
      "text/plain": [
       "<matplotlib.collections.PathCollection at 0x1a1306fe48>"
      ]
     },
     "execution_count": 38,
     "metadata": {},
     "output_type": "execute_result"
    },
    {
     "data": {
      "image/png": "[encoded data removed]",
      "text/plain": [
       "<matplotlib.figure.Figure at 0x1a1300a748>"
      ]
     },
     "metadata": {},
     "output_type": "display_data"
    }
   ],
   "source": [
    "## First, we want to look at the relationship between total hate crimes and pct Trump votes\n",
    "\n",
    "plt.scatter(x=merge2['Donald Trump'], y=merge2['Total_Hate_Crimes'], color = 'red')"
   ]
  },
  {
   "cell_type": "code",
   "execution_count": 39,
   "metadata": {},
   "outputs": [
    {
     "data": {
      "text/plain": [
       "(0, 50)"
      ]
     },
     "execution_count": 39,
     "metadata": {},
     "output_type": "execute_result"
    },
    {
     "data": {
      "image/png": "[encoded data removed]",
      "text/plain": [
       "<matplotlib.figure.Figure at 0x1a1303f550>"
      ]
     },
     "metadata": {},
     "output_type": "display_data"
    }
   ],
   "source": [
    "# let's re-adjust the x axis, to make the scatterplot clearer\n",
    "\n",
    "plt.scatter(x=merge2['Donald Trump'], y=merge2['Total_Hate_Crimes'], color = 'red')\n",
    "\n",
    "plt.ylim(0, 50)"
   ]
  },
  {
   "cell_type": "markdown",
   "metadata": {},
   "source": [
    "It looks like the total number of hate crimes is highest in areas with 20-40% republican voters"
   ]
  },
  {
   "cell_type": "code",
   "execution_count": 40,
   "metadata": {},
   "outputs": [
    {
     "data": {
      "text/plain": [
       "(0, 50)"
      ]
     },
     "execution_count": 40,
     "metadata": {},
     "output_type": "execute_result"
    },
    {
     "data": {
      "image/png": "[encoded data removed]",
      "text/plain": [
       "<matplotlib.figure.Figure at 0x1a163a8320>"
      ]
     },
     "metadata": {},
     "output_type": "display_data"
    }
   ],
   "source": [
    "## Now for Hillary\n",
    "\n",
    "plt.scatter(x=merge2['Hillary Clinton'], y=merge2['Total_Hate_Crimes'], color = 'blue')\n",
    "\n",
    "plt.ylim(0, 50)"
   ]
  },
  {
   "cell_type": "markdown",
   "metadata": {},
   "source": [
    "Here, we see the opposite. There are a larger number of hate crimes in areas with 50-80% Clinton voters. Although, there's a lot of clustering around the 0, so it's hard to say whether these points are significant of just outliers. More statistical analysis is needed to determine whether this pattern is statistically significant."
   ]
  },
  {
   "cell_type": "code",
   "execution_count": 41,
   "metadata": {},
   "outputs": [
    {
     "data": {
      "text/plain": [
       "(0, 50)"
      ]
     },
     "execution_count": 41,
     "metadata": {},
     "output_type": "execute_result"
    },
    {
     "data": {
      "image/png": "[encoded data removed]",
      "text/plain": [
       "<matplotlib.figure.Figure at 0x1a1641c0b8>"
      ]
     },
     "metadata": {},
     "output_type": "display_data"
    }
   ],
   "source": [
    "# Independents\n",
    "\n",
    "plt.scatter(x=merge2['Independent'], y=merge2['Total_Hate_Crimes'], color = 'green')\n",
    "\n",
    "plt.ylim(0, 50)"
   ]
  },
  {
   "cell_type": "markdown",
   "metadata": {},
   "source": [
    "Here, we see a large cluster over the .1, but that may be due to the relativly small amount of independent voters per county"
   ]
  },
  {
   "cell_type": "markdown",
   "metadata": {},
   "source": [
    "The graphs indicated that more hate crimes occured in cities where Trump received 20-40% of the vote, Hillary received 50-80%, and the Independents received roughly 5%. There are a few possible explanations for this, one of which is that in cities with close elections there is more social tension, and thus a higher probability for hate crimes to occur. "
   ]
  },
  {
   "cell_type": "code",
   "execution_count": 42,
   "metadata": {},
   "outputs": [
    {
     "data": {
      "text/plain": [
       "(0, 50)"
      ]
     },
     "execution_count": 42,
     "metadata": {},
     "output_type": "execute_result"
    },
    {
     "data": {
      "image/png": "[encoded data removed]",
      "text/plain": [
       "<matplotlib.figure.Figure at 0x1a16467748>"
      ]
     },
     "metadata": {},
     "output_type": "display_data"
    }
   ],
   "source": [
    "## Now we're going to look at education:\n",
    "\n",
    "plt.scatter(x=merge2['college_pct'], y=merge2['Total_Hate_Crimes'], color = 'blue')\n",
    "\n",
    "plt.ylim(0, 50)"
   ]
  },
  {
   "cell_type": "markdown",
   "metadata": {},
   "source": [
    "There doesn't appear to be a clear connection between the total number of hate crimes per county and the percent of the county that is college educated (although we did only examine cities)"
   ]
  },
  {
   "cell_type": "code",
   "execution_count": 43,
   "metadata": {},
   "outputs": [
    {
     "data": {
      "text/plain": [
       "(0, 50)"
      ]
     },
     "execution_count": 43,
     "metadata": {},
     "output_type": "execute_result"
    },
    {
     "data": {
      "image/png": "[encoded data removed]",
      "text/plain": [
       "<matplotlib.figure.Figure at 0x1a16594588>"
      ]
     },
     "metadata": {},
     "output_type": "display_data"
    }
   ],
   "source": [
    "## Now we're going to look at home ownership:\n",
    "\n",
    "plt.scatter(x=merge2['homeownership'], y=merge2['Total_Hate_Crimes'], color = 'blue')\n",
    "\n",
    "plt.ylim(0, 50)"
   ]
  },
  {
   "cell_type": "markdown",
   "metadata": {},
   "source": [
    "Here, it does appear that counties with a lower pct of homeowners tend to also have more total hate crimes, although again because of the amount of clustering around 0, this trend may not be statistically significant"
   ]
  },
  {
   "cell_type": "code",
   "execution_count": 44,
   "metadata": {},
   "outputs": [
    {
     "data": {
      "text/plain": [
       "(0, 50)"
      ]
     },
     "execution_count": 44,
     "metadata": {},
     "output_type": "execute_result"
    },
    {
     "data": {
      "image/png": "[encoded data removed]",
      "text/plain": [
       "<matplotlib.figure.Figure at 0x1a165ee630>"
      ]
     },
     "metadata": {},
     "output_type": "display_data"
    }
   ],
   "source": [
    "## Percent White:\n",
    "\n",
    "plt.scatter(x=merge2['white_pct'], y=merge2['Total_Hate_Crimes'], color = 'blue')\n",
    "\n",
    "plt.ylim(0, 50)"
   ]
  },
  {
   "cell_type": "markdown",
   "metadata": {},
   "source": [
    "Surprisingly, there does not appear to be an apparent relationship between the percent white a county is and the total number of hate crimes"
   ]
  },
  {
   "cell_type": "code",
   "execution_count": 45,
   "metadata": {},
   "outputs": [
    {
     "data": {
      "text/plain": [
       "(0, 50)"
      ]
     },
     "execution_count": 45,
     "metadata": {},
     "output_type": "execute_result"
    },
    {
     "data": {
      "image/png": "[encoded data removed]",
      "text/plain": [
       "<matplotlib.figure.Figure at 0x1a166946a0>"
      ]
     },
     "metadata": {},
     "output_type": "display_data"
    }
   ],
   "source": [
    "## Foreign Born\n",
    "\n",
    "plt.scatter(x=merge2['foreign_born_pct'], y=merge2['Total_Hate_Crimes'], color = 'blue')\n",
    "\n",
    "plt.ylim(0, 50)"
   ]
  },
  {
   "cell_type": "markdown",
   "metadata": {},
   "source": [
    "Likewise, there does not appear to be a clear relationship between the pct of the population that is foreign born and the number of hate crimes"
   ]
  },
  {
   "cell_type": "code",
   "execution_count": 46,
   "metadata": {},
   "outputs": [
    {
     "data": {
      "text/plain": [
       "(0, 50)"
      ]
     },
     "execution_count": 46,
     "metadata": {},
     "output_type": "execute_result"
    },
    {
     "data": {
      "image/png": "[encoded data removed]",
      "text/plain": [
       "<matplotlib.figure.Figure at 0x1a167506a0>"
      ]
     },
     "metadata": {},
     "output_type": "display_data"
    }
   ],
   "source": [
    "## Median Household Income\n",
    "\n",
    "plt.scatter(x=merge2['median_household_income'], y=merge2['Total_Hate_Crimes'], color = 'blue')\n",
    "\n",
    "plt.ylim(0, 50)"
   ]
  },
  {
   "cell_type": "markdown",
   "metadata": {},
   "source": [
    "There may be a weak relationship between the median household income and the total hate crimes per county. The wealthiest outliers seem to have a very low number of hate crimes, while the scatterplot peaks at around 50k"
   ]
  },
  {
   "cell_type": "markdown",
   "metadata": {},
   "source": [
    "There was no clear relationship between the percent of the population in college, the percent of the population that is white, and the percent of the population that is foreign born and the total number of hate crimes. There may be a weak relationship between home ownership and the median household income and the average number of hate crimes. This would indicate that cities with a lower than average socioeconomic level are more likely to have more hate crimes, although one could argue that those cities might have a higher crime rate in general. Further statistical analysis is needed to determine whether these findings are significant. There is some clustering at the bottom of these graphs, so it is possible that these observations are merely outliers and not indicative of a larger statistical trend."
   ]
  },
  {
   "cell_type": "code",
   "execution_count": 47,
   "metadata": {},
   "outputs": [
    {
     "data": {
      "text/plain": [
       "(0, 20)"
      ]
     },
     "execution_count": 47,
     "metadata": {},
     "output_type": "execute_result"
    },
    {
     "data": {
      "image/png": "[encoded data removed]",
      "text/plain": [
       "<matplotlib.figure.Figure at 0x1a16800128>"
      ]
     },
     "metadata": {},
     "output_type": "display_data"
    }
   ],
   "source": [
    "## Next, we're going to compare the number of hate crimes per quarter:\n",
    "\n",
    "Qs = merge2.iloc[:, 10:14] #selecting the Q1-Q4 cols\n",
    "\n",
    "QArray = np.array(Qs)\n",
    "\n",
    "QArray1 = np.nan_to_num(QArray) #making NaNs into 0\n",
    "\n",
    "QBox = sns.boxplot(data = QArray1, orient = \"v\", palette = \"Set2\", notch = True)\n",
    "\n",
    "plt.ylim(0, 20) #limiting the Y axis, so we can see the boxlots"
   ]
  },
  {
   "cell_type": "markdown",
   "metadata": {},
   "source": [
    "The boxplot here is still too small, so I'll adjust the Y axis further:"
   ]
  },
  {
   "cell_type": "code",
   "execution_count": 48,
   "metadata": {},
   "outputs": [
    {
     "data": {
      "text/plain": [
       "(0, 5)"
      ]
     },
     "execution_count": 48,
     "metadata": {},
     "output_type": "execute_result"
    },
    {
     "data": {
      "image/png": "[encoded data removed]",
      "text/plain": [
       "<matplotlib.figure.Figure at 0x1a168081d0>"
      ]
     },
     "metadata": {},
     "output_type": "display_data"
    }
   ],
   "source": [
    "QBox = sns.boxplot(data = QArray1, orient = \"v\", palette = \"Set2\", notch = True)\n",
    "\n",
    "plt.ylim(0, 5)"
   ]
  },
  {
   "cell_type": "markdown",
   "metadata": {},
   "source": [
    "Here we can see that the quarters aren't statistically signifcantly different from one another in terms of number of hate crimes "
   ]
  },
  {
   "cell_type": "code",
   "execution_count": 49,
   "metadata": {},
   "outputs": [
    {
     "data": {
      "text/plain": [
       "(0, 20)"
      ]
     },
     "execution_count": 49,
     "metadata": {},
     "output_type": "execute_result"
    },
    {
     "data": {
      "image/png": "[encoded data removed]",
      "text/plain": [
       "<matplotlib.figure.Figure at 0x1a168088d0>"
      ]
     },
     "metadata": {},
     "output_type": "display_data"
    }
   ],
   "source": [
    "## Now, we're going to make boxplots comparing the different biases in hate crimes:\n",
    "\n",
    "Motives = merge2.iloc[:, 4:10]\n",
    "\n",
    "QBox = sns.boxplot(data = Motives, orient = \"v\", palette = \"Set2\", notch = True)\n",
    "\n",
    "plt.ylim(0, 20)"
   ]
  },
  {
   "cell_type": "markdown",
   "metadata": {},
   "source": [
    "This is again too small to see, so I'll adjust the Y axis again"
   ]
  },
  {
   "cell_type": "code",
   "execution_count": 50,
   "metadata": {},
   "outputs": [
    {
     "data": {
      "text/plain": [
       "(0, 5.5)"
      ]
     },
     "execution_count": 50,
     "metadata": {},
     "output_type": "execute_result"
    },
    {
     "data": {
      "image/png": "[encoded data removed]",
      "text/plain": [
       "<matplotlib.figure.Figure at 0x1a16b1f128>"
      ]
     },
     "metadata": {},
     "output_type": "display_data"
    }
   ],
   "source": [
    "QBox = sns.boxplot(data = Motives, orient = \"v\", palette = \"Set2\", notch = True)\n",
    "\n",
    "plt.ylim(0, 5.5)"
   ]
  },
  {
   "cell_type": "markdown",
   "metadata": {},
   "source": [
    "Here, we can see that most hate crimes are committed based on race, which is expected, with Religion and Sexual Orientation following. The notches do not overlap between race and the other biases, indicating that the difference is statistically significant. Disability, Gender, and Gender Identity are less common biases"
   ]
  },
  {
   "cell_type": "code",
   "execution_count": 51,
   "metadata": {},
   "outputs": [
    {
     "data": {
      "text/html": [
       "<div>\n",
       "<style scoped>\n",
       "    .dataframe tbody tr th:only-of-type {\n",
       "        vertical-align: middle;\n",
       "    }\n",
       "\n",
       "    .dataframe tbody tr th {\n",
       "        vertical-align: top;\n",
       "    }\n",
       "\n",
       "    .dataframe thead th {\n",
       "        text-align: right;\n",
       "    }\n",
       "</style>\n",
       "<table border=\"1\" class=\"dataframe\">\n",
       "  <thead>\n",
       "    <tr style=\"text-align: right;\">\n",
       "      <th></th>\n",
       "      <th>index</th>\n",
       "      <th>State</th>\n",
       "      <th>Agency_Type</th>\n",
       "      <th>Agency_Name</th>\n",
       "      <th>Race</th>\n",
       "      <th>Religion</th>\n",
       "      <th>Sexual_Orientation</th>\n",
       "      <th>Disability</th>\n",
       "      <th>Gender</th>\n",
       "      <th>Gender_ID</th>\n",
       "      <th>...</th>\n",
       "      <th>shipments</th>\n",
       "      <th>sales</th>\n",
       "      <th>retail_sales</th>\n",
       "      <th>retail_sales_per_cap</th>\n",
       "      <th>acc_food_sales</th>\n",
       "      <th>building_permits</th>\n",
       "      <th>land_area</th>\n",
       "      <th>pop_per_sq_mile</th>\n",
       "      <th>Total_Hate_Crimes</th>\n",
       "      <th>El_Dif</th>\n",
       "    </tr>\n",
       "  </thead>\n",
       "  <tbody>\n",
       "    <tr>\n",
       "      <th>0</th>\n",
       "      <td>7</td>\n",
       "      <td>Alabama</td>\n",
       "      <td>Cities</td>\n",
       "      <td>Birmingham</td>\n",
       "      <td>7</td>\n",
       "      <td>1</td>\n",
       "      <td>1</td>\n",
       "      <td>0</td>\n",
       "      <td>0</td>\n",
       "      <td>0</td>\n",
       "      <td>...</td>\n",
       "      <td>10260950.0</td>\n",
       "      <td>13756797.0</td>\n",
       "      <td>11066328.0</td>\n",
       "      <td>16730.0</td>\n",
       "      <td>1268154.0</td>\n",
       "      <td>2280.0</td>\n",
       "      <td>1111.28</td>\n",
       "      <td>592.5</td>\n",
       "      <td>9</td>\n",
       "      <td>0.072272</td>\n",
       "    </tr>\n",
       "    <tr>\n",
       "      <th>1</th>\n",
       "      <td>8</td>\n",
       "      <td>Alabama</td>\n",
       "      <td>Cities</td>\n",
       "      <td>Florence</td>\n",
       "      <td>1</td>\n",
       "      <td>0</td>\n",
       "      <td>0</td>\n",
       "      <td>0</td>\n",
       "      <td>0</td>\n",
       "      <td>0</td>\n",
       "      <td>...</td>\n",
       "      <td>1083658.0</td>\n",
       "      <td>514555.0</td>\n",
       "      <td>1131585.0</td>\n",
       "      <td>12783.0</td>\n",
       "      <td>136587.0</td>\n",
       "      <td>54.0</td>\n",
       "      <td>667.70</td>\n",
       "      <td>138.8</td>\n",
       "      <td>1</td>\n",
       "      <td>0.460104</td>\n",
       "    </tr>\n",
       "    <tr>\n",
       "      <th>2</th>\n",
       "      <td>9</td>\n",
       "      <td>Alabama</td>\n",
       "      <td>Cities</td>\n",
       "      <td>Foley</td>\n",
       "      <td>1</td>\n",
       "      <td>0</td>\n",
       "      <td>0</td>\n",
       "      <td>0</td>\n",
       "      <td>0</td>\n",
       "      <td>0</td>\n",
       "      <td>...</td>\n",
       "      <td>1410273.0</td>\n",
       "      <td>0.0</td>\n",
       "      <td>2966489.0</td>\n",
       "      <td>17166.0</td>\n",
       "      <td>436955.0</td>\n",
       "      <td>1384.0</td>\n",
       "      <td>1589.78</td>\n",
       "      <td>114.6</td>\n",
       "      <td>1</td>\n",
       "      <td>0.577862</td>\n",
       "    </tr>\n",
       "    <tr>\n",
       "      <th>3</th>\n",
       "      <td>10</td>\n",
       "      <td>Alabama</td>\n",
       "      <td>Cities</td>\n",
       "      <td>Hoover</td>\n",
       "      <td>3</td>\n",
       "      <td>0</td>\n",
       "      <td>0</td>\n",
       "      <td>0</td>\n",
       "      <td>0</td>\n",
       "      <td>0</td>\n",
       "      <td>...</td>\n",
       "      <td>10260950.0</td>\n",
       "      <td>13756797.0</td>\n",
       "      <td>11066328.0</td>\n",
       "      <td>16730.0</td>\n",
       "      <td>1268154.0</td>\n",
       "      <td>2280.0</td>\n",
       "      <td>1111.28</td>\n",
       "      <td>592.5</td>\n",
       "      <td>3</td>\n",
       "      <td>0.072272</td>\n",
       "    </tr>\n",
       "    <tr>\n",
       "      <th>4</th>\n",
       "      <td>13</td>\n",
       "      <td>Alaska</td>\n",
       "      <td>Cities</td>\n",
       "      <td>Anchorage</td>\n",
       "      <td>4</td>\n",
       "      <td>0</td>\n",
       "      <td>0</td>\n",
       "      <td>0</td>\n",
       "      <td>0</td>\n",
       "      <td>0</td>\n",
       "      <td>...</td>\n",
       "      <td>NaN</td>\n",
       "      <td>NaN</td>\n",
       "      <td>NaN</td>\n",
       "      <td>NaN</td>\n",
       "      <td>NaN</td>\n",
       "      <td>NaN</td>\n",
       "      <td>NaN</td>\n",
       "      <td>NaN</td>\n",
       "      <td>4</td>\n",
       "      <td>NaN</td>\n",
       "    </tr>\n",
       "  </tbody>\n",
       "</table>\n",
       "<p>5 rows × 78 columns</p>\n",
       "</div>"
      ],
      "text/plain": [
       "   index    State Agency_Type Agency_Name Race Religion Sexual_Orientation  \\\n",
       "0      7  Alabama      Cities  Birmingham    7        1                  1   \n",
       "1      8  Alabama      Cities    Florence    1        0                  0   \n",
       "2      9  Alabama      Cities       Foley    1        0                  0   \n",
       "3     10  Alabama      Cities      Hoover    3        0                  0   \n",
       "4     13   Alaska      Cities   Anchorage    4        0                  0   \n",
       "\n",
       "  Disability Gender Gender_ID    ...      shipments       sales  retail_sales  \\\n",
       "0          0      0         0    ...     10260950.0  13756797.0    11066328.0   \n",
       "1          0      0         0    ...      1083658.0    514555.0     1131585.0   \n",
       "2          0      0         0    ...      1410273.0         0.0     2966489.0   \n",
       "3          0      0         0    ...     10260950.0  13756797.0    11066328.0   \n",
       "4          0      0         0    ...            NaN         NaN           NaN   \n",
       "\n",
       "   retail_sales_per_cap acc_food_sales building_permits land_area  \\\n",
       "0               16730.0      1268154.0           2280.0   1111.28   \n",
       "1               12783.0       136587.0             54.0    667.70   \n",
       "2               17166.0       436955.0           1384.0   1589.78   \n",
       "3               16730.0      1268154.0           2280.0   1111.28   \n",
       "4                   NaN            NaN              NaN       NaN   \n",
       "\n",
       "  pop_per_sq_mile Total_Hate_Crimes    El_Dif  \n",
       "0           592.5                 9  0.072272  \n",
       "1           138.8                 1  0.460104  \n",
       "2           114.6                 1  0.577862  \n",
       "3           592.5                 3  0.072272  \n",
       "4             NaN                 4       NaN  \n",
       "\n",
       "[5 rows x 78 columns]"
      ]
     },
     "execution_count": 51,
     "metadata": {},
     "output_type": "execute_result"
    }
   ],
   "source": [
    "## Now I'm going to create a factor around whether the election was close, and compare the total hate crimes\n",
    "\n",
    "merge2[\"El_Dif\"] = merge2[\"Donald Trump\"] - merge2[\"Hillary Clinton\"]\n",
    "\n",
    "merge2[\"El_Dif\"] = np.abs(merge2[\"El_Dif\"])\n",
    "\n",
    "merge2.head()"
   ]
  },
  {
   "cell_type": "code",
   "execution_count": 52,
   "metadata": {},
   "outputs": [
    {
     "data": {
      "text/plain": [
       "(array([432., 196., 168., 122., 132., 135.,  50.,  20.,   7.,   3.]),\n",
       " array([0.        , 0.08872452, 0.17744905, 0.26617357, 0.3548981 ,\n",
       "        0.44362262, 0.53234715, 0.62107167, 0.7097962 , 0.79852072,\n",
       "        0.88724525]),\n",
       " <a list of 10 Patch objects>)"
      ]
     },
     "execution_count": 52,
     "metadata": {},
     "output_type": "execute_result"
    },
    {
     "data": {
      "image/png": "[encoded data removed]",
      "text/plain": [
       "<matplotlib.figure.Figure at 0x1a169be8d0>"
      ]
     },
     "metadata": {},
     "output_type": "display_data"
    }
   ],
   "source": [
    "# Now I'm going to create a historgram of the election differences, to pick a value to use to determine whether\n",
    "# the election was close\n",
    "\n",
    "difs = merge2[\"El_Dif\"]\n",
    "\n",
    "DifArray = np.array(difs)\n",
    "\n",
    "DifArray1 = np.nan_to_num(DifArray)\n",
    "\n",
    "plt.hist(DifArray1)"
   ]
  },
  {
   "cell_type": "code",
   "execution_count": 53,
   "metadata": {},
   "outputs": [
    {
     "data": {
      "text/html": [
       "<div>\n",
       "<style scoped>\n",
       "    .dataframe tbody tr th:only-of-type {\n",
       "        vertical-align: middle;\n",
       "    }\n",
       "\n",
       "    .dataframe tbody tr th {\n",
       "        vertical-align: top;\n",
       "    }\n",
       "\n",
       "    .dataframe thead th {\n",
       "        text-align: right;\n",
       "    }\n",
       "</style>\n",
       "<table border=\"1\" class=\"dataframe\">\n",
       "  <thead>\n",
       "    <tr style=\"text-align: right;\">\n",
       "      <th></th>\n",
       "      <th>index</th>\n",
       "      <th>State</th>\n",
       "      <th>Agency_Type</th>\n",
       "      <th>Agency_Name</th>\n",
       "      <th>Race</th>\n",
       "      <th>Religion</th>\n",
       "      <th>Sexual_Orientation</th>\n",
       "      <th>Disability</th>\n",
       "      <th>Gender</th>\n",
       "      <th>Gender_ID</th>\n",
       "      <th>...</th>\n",
       "      <th>sales</th>\n",
       "      <th>retail_sales</th>\n",
       "      <th>retail_sales_per_cap</th>\n",
       "      <th>acc_food_sales</th>\n",
       "      <th>building_permits</th>\n",
       "      <th>land_area</th>\n",
       "      <th>pop_per_sq_mile</th>\n",
       "      <th>Total_Hate_Crimes</th>\n",
       "      <th>El_Dif</th>\n",
       "      <th>Close_El</th>\n",
       "    </tr>\n",
       "  </thead>\n",
       "  <tbody>\n",
       "    <tr>\n",
       "      <th>0</th>\n",
       "      <td>7</td>\n",
       "      <td>Alabama</td>\n",
       "      <td>Cities</td>\n",
       "      <td>Birmingham</td>\n",
       "      <td>7</td>\n",
       "      <td>1</td>\n",
       "      <td>1</td>\n",
       "      <td>0</td>\n",
       "      <td>0</td>\n",
       "      <td>0</td>\n",
       "      <td>...</td>\n",
       "      <td>13756797.0</td>\n",
       "      <td>11066328.0</td>\n",
       "      <td>16730.0</td>\n",
       "      <td>1268154.0</td>\n",
       "      <td>2280.0</td>\n",
       "      <td>1111.28</td>\n",
       "      <td>592.5</td>\n",
       "      <td>9</td>\n",
       "      <td>0.072272</td>\n",
       "      <td>Close</td>\n",
       "    </tr>\n",
       "    <tr>\n",
       "      <th>1</th>\n",
       "      <td>8</td>\n",
       "      <td>Alabama</td>\n",
       "      <td>Cities</td>\n",
       "      <td>Florence</td>\n",
       "      <td>1</td>\n",
       "      <td>0</td>\n",
       "      <td>0</td>\n",
       "      <td>0</td>\n",
       "      <td>0</td>\n",
       "      <td>0</td>\n",
       "      <td>...</td>\n",
       "      <td>514555.0</td>\n",
       "      <td>1131585.0</td>\n",
       "      <td>12783.0</td>\n",
       "      <td>136587.0</td>\n",
       "      <td>54.0</td>\n",
       "      <td>667.70</td>\n",
       "      <td>138.8</td>\n",
       "      <td>1</td>\n",
       "      <td>0.460104</td>\n",
       "      <td>Not_Close</td>\n",
       "    </tr>\n",
       "    <tr>\n",
       "      <th>2</th>\n",
       "      <td>9</td>\n",
       "      <td>Alabama</td>\n",
       "      <td>Cities</td>\n",
       "      <td>Foley</td>\n",
       "      <td>1</td>\n",
       "      <td>0</td>\n",
       "      <td>0</td>\n",
       "      <td>0</td>\n",
       "      <td>0</td>\n",
       "      <td>0</td>\n",
       "      <td>...</td>\n",
       "      <td>0.0</td>\n",
       "      <td>2966489.0</td>\n",
       "      <td>17166.0</td>\n",
       "      <td>436955.0</td>\n",
       "      <td>1384.0</td>\n",
       "      <td>1589.78</td>\n",
       "      <td>114.6</td>\n",
       "      <td>1</td>\n",
       "      <td>0.577862</td>\n",
       "      <td>Not_Close</td>\n",
       "    </tr>\n",
       "    <tr>\n",
       "      <th>3</th>\n",
       "      <td>10</td>\n",
       "      <td>Alabama</td>\n",
       "      <td>Cities</td>\n",
       "      <td>Hoover</td>\n",
       "      <td>3</td>\n",
       "      <td>0</td>\n",
       "      <td>0</td>\n",
       "      <td>0</td>\n",
       "      <td>0</td>\n",
       "      <td>0</td>\n",
       "      <td>...</td>\n",
       "      <td>13756797.0</td>\n",
       "      <td>11066328.0</td>\n",
       "      <td>16730.0</td>\n",
       "      <td>1268154.0</td>\n",
       "      <td>2280.0</td>\n",
       "      <td>1111.28</td>\n",
       "      <td>592.5</td>\n",
       "      <td>3</td>\n",
       "      <td>0.072272</td>\n",
       "      <td>Close</td>\n",
       "    </tr>\n",
       "    <tr>\n",
       "      <th>4</th>\n",
       "      <td>13</td>\n",
       "      <td>Alaska</td>\n",
       "      <td>Cities</td>\n",
       "      <td>Anchorage</td>\n",
       "      <td>4</td>\n",
       "      <td>0</td>\n",
       "      <td>0</td>\n",
       "      <td>0</td>\n",
       "      <td>0</td>\n",
       "      <td>0</td>\n",
       "      <td>...</td>\n",
       "      <td>NaN</td>\n",
       "      <td>NaN</td>\n",
       "      <td>NaN</td>\n",
       "      <td>NaN</td>\n",
       "      <td>NaN</td>\n",
       "      <td>NaN</td>\n",
       "      <td>NaN</td>\n",
       "      <td>4</td>\n",
       "      <td>NaN</td>\n",
       "      <td>Not_Close</td>\n",
       "    </tr>\n",
       "  </tbody>\n",
       "</table>\n",
       "<p>5 rows × 79 columns</p>\n",
       "</div>"
      ],
      "text/plain": [
       "   index    State Agency_Type Agency_Name Race Religion Sexual_Orientation  \\\n",
       "0      7  Alabama      Cities  Birmingham    7        1                  1   \n",
       "1      8  Alabama      Cities    Florence    1        0                  0   \n",
       "2      9  Alabama      Cities       Foley    1        0                  0   \n",
       "3     10  Alabama      Cities      Hoover    3        0                  0   \n",
       "4     13   Alaska      Cities   Anchorage    4        0                  0   \n",
       "\n",
       "  Disability Gender Gender_ID    ...           sales  retail_sales  \\\n",
       "0          0      0         0    ...      13756797.0    11066328.0   \n",
       "1          0      0         0    ...        514555.0     1131585.0   \n",
       "2          0      0         0    ...             0.0     2966489.0   \n",
       "3          0      0         0    ...      13756797.0    11066328.0   \n",
       "4          0      0         0    ...             NaN           NaN   \n",
       "\n",
       "   retail_sales_per_cap  acc_food_sales building_permits land_area  \\\n",
       "0               16730.0       1268154.0           2280.0   1111.28   \n",
       "1               12783.0        136587.0             54.0    667.70   \n",
       "2               17166.0        436955.0           1384.0   1589.78   \n",
       "3               16730.0       1268154.0           2280.0   1111.28   \n",
       "4                   NaN             NaN              NaN       NaN   \n",
       "\n",
       "  pop_per_sq_mile Total_Hate_Crimes    El_Dif   Close_El  \n",
       "0           592.5                 9  0.072272      Close  \n",
       "1           138.8                 1  0.460104  Not_Close  \n",
       "2           114.6                 1  0.577862  Not_Close  \n",
       "3           592.5                 3  0.072272      Close  \n",
       "4             NaN                 4       NaN  Not_Close  \n",
       "\n",
       "[5 rows x 79 columns]"
      ]
     },
     "execution_count": 53,
     "metadata": {},
     "output_type": "execute_result"
    }
   ],
   "source": [
    "# So it looks like there's a large number of close elections, and we're going to use a cutoff of 0.1 \n",
    "# (this is somewhat arbitrary, but does appear as if it will include a large portion of the data)\n",
    "\n",
    "### Now we're going to create a factor, and compare the total hate crimes\n",
    "\n",
    "def func(x):\n",
    "    if x < 0.1:\n",
    "        return \"Close\"\n",
    "    return \"Not_Close\"\n",
    "\n",
    "merge2[\"Close_El\"] = merge2[\"El_Dif\"].apply(func)\n",
    "\n",
    "merge2.head()"
   ]
  },
  {
   "cell_type": "code",
   "execution_count": 54,
   "metadata": {},
   "outputs": [
    {
     "data": {
      "text/plain": [
       "(0, 50)"
      ]
     },
     "execution_count": 54,
     "metadata": {},
     "output_type": "execute_result"
    },
    {
     "data": {
      "image/png": "[encoded data removed]",
      "text/plain": [
       "<matplotlib.figure.Figure at 0x1a16b8d198>"
      ]
     },
     "metadata": {},
     "output_type": "display_data"
    }
   ],
   "source": [
    "## Now I'll construct the boxplot to compare them, but I'll put 0s in the Nans in the total hate crimes col\n",
    "\n",
    "close_box = sns.boxplot(x=\"Total_Hate_Crimes\", y = \"Close_El\", data = merge2, palette = \"Set2\", notch = True)\n",
    "\n",
    "plt.xlim(0, 50)"
   ]
  },
  {
   "cell_type": "markdown",
   "metadata": {},
   "source": [
    "I can't see much from this compact of a graph, so we're going to change the X axis to 10"
   ]
  },
  {
   "cell_type": "code",
   "execution_count": 55,
   "metadata": {},
   "outputs": [
    {
     "data": {
      "text/plain": [
       "(0, 10)"
      ]
     },
     "execution_count": 55,
     "metadata": {},
     "output_type": "execute_result"
    },
    {
     "data": {
      "image/png": "[encoded data removed]",
      "text/plain": [
       "<matplotlib.figure.Figure at 0x1a16bc9518>"
      ]
     },
     "metadata": {},
     "output_type": "display_data"
    }
   ],
   "source": [
    "close_box_adj = sns.boxplot(x=\"Total_Hate_Crimes\", y = \"Close_El\", data = merge2, palette = \"Set2\", notch = True)\n",
    "\n",
    "plt.xlim(0, 10)"
   ]
  },
  {
   "cell_type": "markdown",
   "metadata": {},
   "source": [
    "This plot shows a statistically significant difference in the average number of hate crimes between counties where the elctions are close vs those where the election was not close. The boxplot constructed shows a statistically significant difference between the number of hate crimes in cities where the election was close (median = ~ 2) and those that were not (median= ~1). These results can are up for interpretation. They may mean that an increased social tension, as evidenced by close election results, can lead to more hate crimes. However, this may not be a clinically significant difference, meaning that this information may not be useful to the government. If the difference between these two groups is only one hate crime, it might not be worth increasing resources. \n"
   ]
  },
  {
   "cell_type": "markdown",
   "metadata": {},
   "source": [
    "Next, we're going to do some statistical analysis, namely calculating pearson's r, which measures the correlation between two variables. The closer to 1, the stronger the positive correlation. The closer to -1, the stronger the negative correlation. Before we can start, we need to define a function that calculates r values for each variable. This is done below:"
   ]
  },
  {
   "cell_type": "code",
   "execution_count": 56,
   "metadata": {},
   "outputs": [],
   "source": [
    "def pearson_r(x, y):\n",
    "    \"\"\"Compute Pearson correlation coefficient between two arrays.\"\"\"\n",
    "    # Compute correlation matrix: corr_mat\n",
    "    corr_mat = np.corrcoef(x, y)\n",
    "\n",
    "    # Return entry [0,1]\n",
    "    return corr_mat[0,1]"
   ]
  },
  {
   "cell_type": "markdown",
   "metadata": {},
   "source": [
    "Next, we're going to drop all the NA rows, because the NA rows are the ones that couldn't be matched with the merge earlier, and there is no demographic or political information to go off of. This will reduce the row count by 218 from 1265 to 1047"
   ]
  },
  {
   "cell_type": "code",
   "execution_count": 57,
   "metadata": {},
   "outputs": [
    {
     "data": {
      "text/html": [
       "<div>\n",
       "<style scoped>\n",
       "    .dataframe tbody tr th:only-of-type {\n",
       "        vertical-align: middle;\n",
       "    }\n",
       "\n",
       "    .dataframe tbody tr th {\n",
       "        vertical-align: top;\n",
       "    }\n",
       "\n",
       "    .dataframe thead th {\n",
       "        text-align: right;\n",
       "    }\n",
       "</style>\n",
       "<table border=\"1\" class=\"dataframe\">\n",
       "  <thead>\n",
       "    <tr style=\"text-align: right;\">\n",
       "      <th></th>\n",
       "      <th>index</th>\n",
       "      <th>State</th>\n",
       "      <th>Agency_Type</th>\n",
       "      <th>Agency_Name</th>\n",
       "      <th>Race</th>\n",
       "      <th>Religion</th>\n",
       "      <th>Sexual_Orientation</th>\n",
       "      <th>Disability</th>\n",
       "      <th>Gender</th>\n",
       "      <th>Gender_ID</th>\n",
       "      <th>...</th>\n",
       "      <th>sales</th>\n",
       "      <th>retail_sales</th>\n",
       "      <th>retail_sales_per_cap</th>\n",
       "      <th>acc_food_sales</th>\n",
       "      <th>building_permits</th>\n",
       "      <th>land_area</th>\n",
       "      <th>pop_per_sq_mile</th>\n",
       "      <th>Total_Hate_Crimes</th>\n",
       "      <th>El_Dif</th>\n",
       "      <th>Close_El</th>\n",
       "    </tr>\n",
       "  </thead>\n",
       "  <tbody>\n",
       "    <tr>\n",
       "      <th>0</th>\n",
       "      <td>7</td>\n",
       "      <td>Alabama</td>\n",
       "      <td>Cities</td>\n",
       "      <td>Birmingham</td>\n",
       "      <td>7</td>\n",
       "      <td>1</td>\n",
       "      <td>1</td>\n",
       "      <td>0</td>\n",
       "      <td>0</td>\n",
       "      <td>0</td>\n",
       "      <td>...</td>\n",
       "      <td>13756797.0</td>\n",
       "      <td>11066328.0</td>\n",
       "      <td>16730.0</td>\n",
       "      <td>1268154.0</td>\n",
       "      <td>2280.0</td>\n",
       "      <td>1111.28</td>\n",
       "      <td>592.5</td>\n",
       "      <td>9</td>\n",
       "      <td>0.072272</td>\n",
       "      <td>Close</td>\n",
       "    </tr>\n",
       "    <tr>\n",
       "      <th>1</th>\n",
       "      <td>8</td>\n",
       "      <td>Alabama</td>\n",
       "      <td>Cities</td>\n",
       "      <td>Florence</td>\n",
       "      <td>1</td>\n",
       "      <td>0</td>\n",
       "      <td>0</td>\n",
       "      <td>0</td>\n",
       "      <td>0</td>\n",
       "      <td>0</td>\n",
       "      <td>...</td>\n",
       "      <td>514555.0</td>\n",
       "      <td>1131585.0</td>\n",
       "      <td>12783.0</td>\n",
       "      <td>136587.0</td>\n",
       "      <td>54.0</td>\n",
       "      <td>667.70</td>\n",
       "      <td>138.8</td>\n",
       "      <td>1</td>\n",
       "      <td>0.460104</td>\n",
       "      <td>Not_Close</td>\n",
       "    </tr>\n",
       "    <tr>\n",
       "      <th>2</th>\n",
       "      <td>9</td>\n",
       "      <td>Alabama</td>\n",
       "      <td>Cities</td>\n",
       "      <td>Foley</td>\n",
       "      <td>1</td>\n",
       "      <td>0</td>\n",
       "      <td>0</td>\n",
       "      <td>0</td>\n",
       "      <td>0</td>\n",
       "      <td>0</td>\n",
       "      <td>...</td>\n",
       "      <td>0.0</td>\n",
       "      <td>2966489.0</td>\n",
       "      <td>17166.0</td>\n",
       "      <td>436955.0</td>\n",
       "      <td>1384.0</td>\n",
       "      <td>1589.78</td>\n",
       "      <td>114.6</td>\n",
       "      <td>1</td>\n",
       "      <td>0.577862</td>\n",
       "      <td>Not_Close</td>\n",
       "    </tr>\n",
       "    <tr>\n",
       "      <th>3</th>\n",
       "      <td>10</td>\n",
       "      <td>Alabama</td>\n",
       "      <td>Cities</td>\n",
       "      <td>Hoover</td>\n",
       "      <td>3</td>\n",
       "      <td>0</td>\n",
       "      <td>0</td>\n",
       "      <td>0</td>\n",
       "      <td>0</td>\n",
       "      <td>0</td>\n",
       "      <td>...</td>\n",
       "      <td>13756797.0</td>\n",
       "      <td>11066328.0</td>\n",
       "      <td>16730.0</td>\n",
       "      <td>1268154.0</td>\n",
       "      <td>2280.0</td>\n",
       "      <td>1111.28</td>\n",
       "      <td>592.5</td>\n",
       "      <td>3</td>\n",
       "      <td>0.072272</td>\n",
       "      <td>Close</td>\n",
       "    </tr>\n",
       "    <tr>\n",
       "      <th>7</th>\n",
       "      <td>18</td>\n",
       "      <td>Arizona</td>\n",
       "      <td>Cities</td>\n",
       "      <td>Apache Junction</td>\n",
       "      <td>2</td>\n",
       "      <td>0</td>\n",
       "      <td>0</td>\n",
       "      <td>0</td>\n",
       "      <td>0</td>\n",
       "      <td>0</td>\n",
       "      <td>...</td>\n",
       "      <td>450438.0</td>\n",
       "      <td>2033110.0</td>\n",
       "      <td>6718.0</td>\n",
       "      <td>341933.0</td>\n",
       "      <td>1744.0</td>\n",
       "      <td>5365.61</td>\n",
       "      <td>70.0</td>\n",
       "      <td>2</td>\n",
       "      <td>0.193167</td>\n",
       "      <td>Not_Close</td>\n",
       "    </tr>\n",
       "  </tbody>\n",
       "</table>\n",
       "<p>5 rows × 79 columns</p>\n",
       "</div>"
      ],
      "text/plain": [
       "   index    State Agency_Type      Agency_Name Race Religion  \\\n",
       "0      7  Alabama      Cities       Birmingham    7        1   \n",
       "1      8  Alabama      Cities         Florence    1        0   \n",
       "2      9  Alabama      Cities            Foley    1        0   \n",
       "3     10  Alabama      Cities           Hoover    3        0   \n",
       "7     18  Arizona      Cities  Apache Junction    2        0   \n",
       "\n",
       "  Sexual_Orientation Disability Gender Gender_ID    ...           sales  \\\n",
       "0                  1          0      0         0    ...      13756797.0   \n",
       "1                  0          0      0         0    ...        514555.0   \n",
       "2                  0          0      0         0    ...             0.0   \n",
       "3                  0          0      0         0    ...      13756797.0   \n",
       "7                  0          0      0         0    ...        450438.0   \n",
       "\n",
       "   retail_sales  retail_sales_per_cap  acc_food_sales building_permits  \\\n",
       "0    11066328.0               16730.0       1268154.0           2280.0   \n",
       "1     1131585.0               12783.0        136587.0             54.0   \n",
       "2     2966489.0               17166.0        436955.0           1384.0   \n",
       "3    11066328.0               16730.0       1268154.0           2280.0   \n",
       "7     2033110.0                6718.0        341933.0           1744.0   \n",
       "\n",
       "  land_area pop_per_sq_mile Total_Hate_Crimes    El_Dif   Close_El  \n",
       "0   1111.28           592.5                 9  0.072272      Close  \n",
       "1    667.70           138.8                 1  0.460104  Not_Close  \n",
       "2   1589.78           114.6                 1  0.577862  Not_Close  \n",
       "3   1111.28           592.5                 3  0.072272      Close  \n",
       "7   5365.61            70.0                 2  0.193167  Not_Close  \n",
       "\n",
       "[5 rows x 79 columns]"
      ]
     },
     "execution_count": 57,
     "metadata": {},
     "output_type": "execute_result"
    }
   ],
   "source": [
    "cleaned = merge2.dropna()\n",
    "\n",
    "cleaned.head()"
   ]
  },
  {
   "cell_type": "markdown",
   "metadata": {},
   "source": [
    "Now we're going to calculate the r for each variable with Total Hate Crimes, in order to determine which variables significantly factor into the rate of hate crimes. We're also going to calculae the p value for each r using bootstrapping. This means that we use a permutation to make many more random samples, and then calculate the mean r from all those samples. If the proportion of means that are higher than the mean calculated from the sample is less than 0.05, we can assume that the calculated mean did not occur simply by chance and is statistically significant. If it is not, we can assume that the calculated r does not significantly factor into the total number of hate crimes per city. "
   ]
  },
  {
   "cell_type": "code",
   "execution_count": 58,
   "metadata": {},
   "outputs": [
    {
     "name": "stdout",
     "output_type": "stream",
     "text": [
      "-0.16057419263200617\n",
      "p-val = 1.0\n"
     ]
    }
   ],
   "source": [
    "# Trump vote is first!\n",
    "r1 = pearson_r(cleaned['Donald Trump'], cleaned['Total_Hate_Crimes'])\n",
    "print(r1)\n",
    "\n",
    "# -0.16\n",
    "\n",
    "perm_replicates1 = np.empty(10000)\n",
    "\n",
    "# Draw replicates\n",
    "for i in range(10000):\n",
    "    # Permute illiteracy measurments: illiteracy_permuted\n",
    "    Trump_permuted = np.random.permutation(cleaned['Donald Trump'])\n",
    "\n",
    "    # Compute Pearson correlation\n",
    "    perm_replicates1[i] = pearson_r(Trump_permuted, cleaned['Total_Hate_Crimes'])\n",
    "\n",
    "# Compute p-value: p\n",
    "p = np.sum(perm_replicates1 >= r1) / len(perm_replicates1)\n",
    "print('p-val =', p)\n"
   ]
  },
  {
   "cell_type": "markdown",
   "metadata": {},
   "source": [
    "Here, the p value is quite high, so we can assume that the correlation between these two variables is not statistically significant"
   ]
  },
  {
   "cell_type": "code",
   "execution_count": 59,
   "metadata": {},
   "outputs": [
    {
     "name": "stdout",
     "output_type": "stream",
     "text": [
      "0.1655372263784544\n",
      "p-val = 0.0\n"
     ]
    }
   ],
   "source": [
    "# Next is Hillary!\n",
    "\n",
    "r2 = pearson_r(cleaned[\"Hillary Clinton\"], cleaned['Total_Hate_Crimes'])\n",
    "print(r2)\n",
    "\n",
    "# 0.1655\n",
    "\n",
    "perm_replicates2 = np.empty(10000)\n",
    "\n",
    "# Draw replicates\n",
    "for i in range(10000):\n",
    "    # Permute illiteracy measurments: illiteracy_permuted\n",
    "    Hillary_permuted = np.random.permutation(cleaned[\"Hillary Clinton\"])\n",
    "\n",
    "    # Compute Pearson correlation\n",
    "    perm_replicates2[i] = pearson_r(Hillary_permuted, cleaned['Total_Hate_Crimes'])\n",
    "\n",
    "# Compute p-value: p\n",
    "p = np.sum(perm_replicates2 >= r2) / len(perm_replicates2)\n",
    "print('p-val =', p)"
   ]
  },
  {
   "cell_type": "markdown",
   "metadata": {},
   "source": [
    "Here, the p value is quite small. We see a positive correlation between the percent of hillary voters and the average number of hate crimes in a given city. This indicates that about 17% of the variation in the number of hate crimes is explained by the percentage of the vote Hillary recieved."
   ]
  },
  {
   "cell_type": "code",
   "execution_count": 60,
   "metadata": {},
   "outputs": [
    {
     "name": "stdout",
     "output_type": "stream",
     "text": [
      "-0.03365565558893756\n",
      "p-val = 0.9502\n"
     ]
    }
   ],
   "source": [
    "\n",
    "# Next is the Independents\n",
    "\n",
    "ri = pearson_r(cleaned[\"Independent\"], cleaned['Total_Hate_Crimes'])\n",
    "print(ri)\n",
    "\n",
    "# r = -0.03365565558893756\n",
    "\n",
    "perm_replicates_ind = np.empty(10000)\n",
    "\n",
    "# Draw replicates\n",
    "for i in range(10000):\n",
    "    # Permute illiteracy measurments: illiteracy_permuted\n",
    "    ind_permuted = np.random.permutation(cleaned[\"Independent\"])\n",
    "\n",
    "    # Compute Pearson correlation\n",
    "    perm_replicates_ind[i] = pearson_r(ind_permuted, cleaned['Total_Hate_Crimes'])\n",
    "\n",
    "# Compute p-value: p\n",
    "p = np.sum(perm_replicates_ind >= ri) / len(perm_replicates_ind)\n",
    "print('p-val =', p)"
   ]
  },
  {
   "cell_type": "markdown",
   "metadata": {},
   "source": [
    "the percent of the vote the independent candidates had has a very high p value, indicating that this variable is not statistically significant, and that there is no relationship between the percent of the vote that went to indpendent candidates and the total number of hate crimes"
   ]
  },
  {
   "cell_type": "code",
   "execution_count": 61,
   "metadata": {},
   "outputs": [
    {
     "name": "stdout",
     "output_type": "stream",
     "text": [
      "0.10703119887693767\n",
      "p-val = 0.0004\n"
     ]
    }
   ],
   "source": [
    "# Next, we look at the difference in the vote\n",
    "r3 = pearson_r(cleaned[\"El_Dif\"], cleaned['Total_Hate_Crimes'])\n",
    "print(r3)\n",
    "\n",
    "# 0.107\n",
    "\n",
    "perm_replicates3 = np.empty(10000)\n",
    "\n",
    "# Draw replicates\n",
    "for i in range(10000):\n",
    "    # Permute illiteracy measurments: illiteracy_permuted\n",
    "    dif_permuted = np.random.permutation(cleaned[\"El_Dif\"])\n",
    "\n",
    "    # Compute Pearson correlation\n",
    "    perm_replicates3[i] = pearson_r(dif_permuted, cleaned['Total_Hate_Crimes'])\n",
    "\n",
    "# Compute p-value: p\n",
    "p = np.sum(perm_replicates3 >= r3) / len(perm_replicates3)\n",
    "print('p-val =', p)"
   ]
  },
  {
   "cell_type": "markdown",
   "metadata": {},
   "source": [
    "Again, we have a significant p value and a positive r. This indicates that about 11% of the variation in the total number of hate crimes is explained by how close the election is. In fact, it says that the larger the election difference is, the more hate crimes there are. This is contrary to our findings earlier. This might mean that the difference is only significant when it is very small (difference between candidates is less than 10%) and that when we take into account the entire dataset, the trend is positive"
   ]
  },
  {
   "cell_type": "code",
   "execution_count": 62,
   "metadata": {},
   "outputs": [
    {
     "name": "stdout",
     "output_type": "stream",
     "text": [
      "0.13235943259447988\n",
      "p-val = 0.0\n"
     ]
    }
   ],
   "source": [
    "# Next, we look at the percentage that went to college\n",
    "\n",
    "r4 = pearson_r(cleaned['college_pct'], cleaned['Total_Hate_Crimes'])\n",
    "print(r4)\n",
    "\n",
    "# 0.13\n",
    "\n",
    "perm_replicates4 = np.empty(10000)\n",
    "\n",
    "# Draw replicates\n",
    "for i in range(10000):\n",
    "    # Permute illiteracy measurments: illiteracy_permuted\n",
    "    college_permuted = np.random.permutation(cleaned['college_pct'])\n",
    "\n",
    "    # Compute Pearson correlation\n",
    "    perm_replicates4[i] = pearson_r(college_permuted, cleaned['Total_Hate_Crimes'])\n",
    "\n",
    "# Compute p-value: p\n",
    "p = np.sum(perm_replicates4 >= r4) / len(perm_replicates4)\n",
    "print('p-val =', p)"
   ]
  },
  {
   "cell_type": "markdown",
   "metadata": {},
   "source": [
    "Here there is also a very small p value, indicating a statistically significant figure. We can determine that abotu 13% of the variability in the total number of hate crimes is explained by the percent of the population that went to college. The positive correlation indicates that the higher the percent of college educated people, the more hate crimes there are. This could also be explained by the idea that more urban cities likely have a higher percent of college educated people and also have a larger population, and thus more hate crimes"
   ]
  },
  {
   "cell_type": "code",
   "execution_count": 63,
   "metadata": {},
   "outputs": [
    {
     "name": "stdout",
     "output_type": "stream",
     "text": [
      "-0.25143595506879335\n",
      "p-val = 1.0\n"
     ]
    }
   ],
   "source": [
    "## Now we'll look at homeownership\n",
    "\n",
    "r5 = pearson_r(cleaned['homeownership'], cleaned['Total_Hate_Crimes'])\n",
    "print(r5)\n",
    "\n",
    "# -0.25\n",
    "\n",
    "perm_replicates5 = np.empty(10000)\n",
    "\n",
    "# Draw replicates\n",
    "for i in range(10000):\n",
    "    # Permute illiteracy measurments: illiteracy_permuted\n",
    "    homes_permuted = np.random.permutation(cleaned['homeownership'])\n",
    "\n",
    "    # Compute Pearson correlation\n",
    "    perm_replicates5[i] = pearson_r(homes_permuted, cleaned['Total_Hate_Crimes'])\n",
    "\n",
    "# Compute p-value: p\n",
    "p = np.sum(perm_replicates5 >= r5) / len(perm_replicates5)\n",
    "print('p-val =', p)"
   ]
  },
  {
   "cell_type": "markdown",
   "metadata": {},
   "source": [
    "homeownership has a very high p value, indicating that this variable is not statistically significant, and that there is no relationship between homeownership and the total number of hate crimes"
   ]
  },
  {
   "cell_type": "code",
   "execution_count": 64,
   "metadata": {},
   "outputs": [
    {
     "name": "stdout",
     "output_type": "stream",
     "text": [
      "-0.12773829575697343\n",
      "p-val = 0.9996\n"
     ]
    }
   ],
   "source": [
    "# Next is the percent of the population that is white\n",
    "\n",
    "r6 = pearson_r(cleaned['white_pct'], cleaned['Total_Hate_Crimes'])\n",
    "print(r6)\n",
    "\n",
    "# -0.1277\n",
    "\n",
    "perm_replicates6 = np.empty(10000)\n",
    "\n",
    "# Draw replicates\n",
    "for i in range(10000):\n",
    "    # Permute illiteracy measurments: illiteracy_permuted\n",
    "    white_permuted = np.random.permutation(cleaned['white_pct'])\n",
    "\n",
    "    # Compute Pearson correlation\n",
    "    perm_replicates6[i] = pearson_r(white_permuted, cleaned['Total_Hate_Crimes'])\n",
    "\n",
    "# Compute p-value: p\n",
    "p = np.sum(perm_replicates6 >= r6) / len(perm_replicates6)\n",
    "print('p-val =', p)"
   ]
  },
  {
   "cell_type": "markdown",
   "metadata": {},
   "source": [
    "Again, we have a very high p value. This indicatesthat this variable is not statistically significant, and that there is no relationship between the percent of the population that is white and the total number of hate crimes"
   ]
  },
  {
   "cell_type": "code",
   "execution_count": 65,
   "metadata": {},
   "outputs": [
    {
     "name": "stdout",
     "output_type": "stream",
     "text": [
      "0.10840675124420601\n",
      "p-val = 0.0012\n"
     ]
    }
   ],
   "source": [
    "# percent of the pop that is foreign born\n",
    "\n",
    "r7 = pearson_r(cleaned['foreign_born_pct'], cleaned['Total_Hate_Crimes'])\n",
    "print(r7)\n",
    "\n",
    "# 0.108\n",
    "\n",
    "perm_replicates7 = np.empty(10000)\n",
    "\n",
    "# Draw replicates\n",
    "for i in range(10000):\n",
    "    # Permute illiteracy measurments: illiteracy_permuted\n",
    "    foreign_permuted = np.random.permutation(cleaned['foreign_born_pct'])\n",
    "\n",
    "    # Compute Pearson correlation\n",
    "    perm_replicates7[i] = pearson_r(foreign_permuted, cleaned['Total_Hate_Crimes'])\n",
    "\n",
    "# Compute p-value: p\n",
    "p = np.sum(perm_replicates7 >= r7) / len(perm_replicates7)\n",
    "print('p-val =', p)"
   ]
  },
  {
   "cell_type": "markdown",
   "metadata": {},
   "source": [
    "Here we have a significant p value, indicating that there is a statistically significant relaitonship of r=~0.11 between the percent of the population that is foreign born and the total number of hate crimes. Again, however, the number of foreign born people in a city likely also correlated with how urban the city is and thus the number of people who live there. This would affect the total number of hate crimes"
   ]
  },
  {
   "cell_type": "code",
   "execution_count": 66,
   "metadata": {},
   "outputs": [
    {
     "name": "stdout",
     "output_type": "stream",
     "text": [
      "0.0310514751638103\n",
      "p-val = 0.1574\n"
     ]
    }
   ],
   "source": [
    "## Lastly, we have median household income\n",
    "\n",
    "r8 = pearson_r(cleaned['median_household_income'], cleaned['Total_Hate_Crimes'])\n",
    "print(r8)\n",
    "\n",
    "# 0.031\n",
    "\n",
    "perm_replicates8 = np.empty(10000)\n",
    "\n",
    "# Draw replicates\n",
    "for i in range(10000):\n",
    "    # Permute illiteracy measurments: illiteracy_permuted\n",
    "    income_permuted = np.random.permutation(cleaned['median_household_income'])\n",
    "\n",
    "    # Compute Pearson correlation\n",
    "    perm_replicates8[i] = pearson_r(income_permuted, cleaned['Total_Hate_Crimes'])\n",
    "\n",
    "# Compute p-value: p\n",
    "p = np.sum(perm_replicates8 >= r8) / len(perm_replicates8)\n",
    "print('p-val =', p)"
   ]
  },
  {
   "cell_type": "markdown",
   "metadata": {},
   "source": [
    "We see a very high p value (over 0.05). This indicatesthat this variable is not statistically significant, and that there is no relationship between the percent of the median household income and the total number of hate crimes"
   ]
  },
  {
   "cell_type": "markdown",
   "metadata": {},
   "source": [
    "Lastly, we're going to attempt to model the number of hate crimes based on statistically significant factors found within this dataset. "
   ]
  },
  {
   "cell_type": "code",
   "execution_count": 67,
   "metadata": {},
   "outputs": [],
   "source": [
    "# Here, we call X all the non-target variables (all vars except total # hate crimes) and Y is the target variable\n",
    "# (Total Number of Hate Crimes)\n",
    "\n",
    "X = cleaned[['median_household_income', 'foreign_born_pct', 'white_pct', 'homeownership', 'college_pct', 'El_Dif']].copy()\n",
    "#X.drop(['Total_Hate_Crimes'], axis=1)\n",
    "\n",
    "y = cleaned['Total_Hate_Crimes']\n"
   ]
  },
  {
   "cell_type": "markdown",
   "metadata": {},
   "source": [
    "Before I start creating models, I want to normalize the other variables. I'm going to make sure they're on the same scale (0-1) relativly. I'll achieve this by making sure all the percentages and other varsare on a 0-1 scale"
   ]
  },
  {
   "cell_type": "code",
   "execution_count": 99,
   "metadata": {},
   "outputs": [
    {
     "data": {
      "text/plain": [
       "0    0.300\n",
       "1    0.211\n",
       "2    0.277\n",
       "3    0.300\n",
       "7    0.180\n",
       "Name: college_pct, dtype: float64"
      ]
     },
     "execution_count": 99,
     "metadata": {},
     "output_type": "execute_result"
    }
   ],
   "source": [
    "cleaned[\"college_pct\"] = cleaned[\"college_pct\"]/100\n",
    "\n",
    "cleaned[\"college_pct\"].head()"
   ]
  },
  {
   "cell_type": "code",
   "execution_count": 101,
   "metadata": {},
   "outputs": [
    {
     "data": {
      "text/plain": [
       "0    0.041\n",
       "1    0.021\n",
       "2    0.036\n",
       "3    0.041\n",
       "7    0.101\n",
       "Name: foreign_born_pct, dtype: float64"
      ]
     },
     "execution_count": 101,
     "metadata": {},
     "output_type": "execute_result"
    }
   ],
   "source": [
    "cleaned['foreign_born_pct'] = cleaned['foreign_born_pct']/100\n",
    "\n",
    "cleaned['foreign_born_pct'].head()"
   ]
  },
  {
   "cell_type": "code",
   "execution_count": 103,
   "metadata": {},
   "outputs": [
    {
     "data": {
      "text/plain": [
       "0    0.540\n",
       "1    0.867\n",
       "2    0.871\n",
       "3    0.540\n",
       "7    0.832\n",
       "Name: white_pct, dtype: float64"
      ]
     },
     "execution_count": 103,
     "metadata": {},
     "output_type": "execute_result"
    }
   ],
   "source": [
    "cleaned['white_pct'] = cleaned['white_pct']/100\n",
    "\n",
    "cleaned['white_pct'].head()"
   ]
  },
  {
   "cell_type": "code",
   "execution_count": 106,
   "metadata": {},
   "outputs": [
    {
     "data": {
      "text/plain": [
       "0    0.371644\n",
       "1    0.350497\n",
       "2    0.410846\n",
       "3    0.371644\n",
       "7    0.409259\n",
       "Name: median_household_income, dtype: float64"
      ]
     },
     "execution_count": 106,
     "metadata": {},
     "output_type": "execute_result"
    }
   ],
   "source": [
    "cleaned['median_household_income'] = (cleaned['median_household_income']/cleaned['median_household_income'].max())\n",
    "\n",
    "cleaned['median_household_income'].head()"
   ]
  },
  {
   "cell_type": "code",
   "execution_count": 108,
   "metadata": {},
   "outputs": [
    {
     "data": {
      "text/plain": [
       "0    0.762972\n",
       "1    0.824292\n",
       "2    0.856132\n",
       "3    0.762972\n",
       "7    0.877358\n",
       "Name: homeownership, dtype: float64"
      ]
     },
     "execution_count": 108,
     "metadata": {},
     "output_type": "execute_result"
    }
   ],
   "source": [
    "cleaned['homeownership'] = (cleaned['homeownership']/cleaned['homeownership'].max())\n",
    "\n",
    "cleaned['homeownership'].head()"
   ]
  },
  {
   "cell_type": "code",
   "execution_count": 109,
   "metadata": {},
   "outputs": [
    {
     "name": "stdout",
     "output_type": "stream",
     "text": [
      "[ 0.  0. -0. -0.  0.  0.]\n"
     ]
    }
   ],
   "source": [
    "# Here we use Lasso to do feature selection. All non-important features will go to 0\n",
    "\n",
    "# Import Lasso\n",
    "from sklearn.linear_model import Lasso\n",
    "\n",
    "# Instantiate a lasso regressor: lasso\n",
    "lasso = Lasso(alpha=0.4, normalize=True)\n",
    "\n",
    "# Fit the regressor to the data\n",
    "lasso.fit(X, y)\n",
    "\n",
    "# Compute and print the coefficients\n",
    "lasso_coef = lasso.coef_\n",
    "print(lasso_coef)\n"
   ]
  },
  {
   "cell_type": "markdown",
   "metadata": {},
   "source": [
    "Here, none of the coeffieients appear to be significant, so it's unlikely we'll obtain a very useful model. We will still try and model the data using the features that we found to be statistically significant previously. \n",
    "These are El_Dif, Hillary Clinton, college_pct, and foreign_born_pct. We'll look at the significance. We'll examine each one using ols, which creates a linear model for each variable combination and outputs various statistics"
   ]
  },
  {
   "cell_type": "code",
   "execution_count": 110,
   "metadata": {},
   "outputs": [
    {
     "name": "stdout",
     "output_type": "stream",
     "text": [
      "                            OLS Regression Results                            \n",
      "==============================================================================\n",
      "Dep. Variable:      Total_Hate_Crimes   R-squared:                       0.041\n",
      "Model:                            OLS   Adj. R-squared:                  0.038\n",
      "Method:                 Least Squares   F-statistic:                     11.24\n",
      "Date:                Thu, 30 Aug 2018   Prob (F-statistic):           6.26e-09\n",
      "Time:                        17:31:02   Log-Likelihood:                -4407.0\n",
      "No. Observations:                1047   AIC:                             8824.\n",
      "Df Residuals:                    1042   BIC:                             8849.\n",
      "Df Model:                           4                                         \n",
      "Covariance Type:            nonrobust                                         \n",
      "====================================================================================\n",
      "                       coef    std err          t      P>|t|      [0.025      0.975]\n",
      "------------------------------------------------------------------------------------\n",
      "Intercept           -8.0946      1.990     -4.067      0.000     -12.000      -4.189\n",
      "El_Dif              10.3781      2.841      3.652      0.000       4.802      15.954\n",
      "Hillary             14.8829      4.690      3.173      0.002       5.679      24.086\n",
      "college_pct          9.4355      6.091      1.549      0.122      -2.516      21.387\n",
      "foreign_born_pct    -3.9628      6.722     -0.590      0.556     -17.154       9.228\n",
      "==============================================================================\n",
      "Omnibus:                     1995.257   Durbin-Watson:                   2.008\n",
      "Prob(Omnibus):                  0.000   Jarque-Bera (JB):          2537748.597\n",
      "Skew:                          13.824   Prob(JB):                         0.00\n",
      "Kurtosis:                     242.599   Cond. No.                         17.8\n",
      "==============================================================================\n",
      "\n",
      "Warnings:\n",
      "[1] Standard Errors assume that the covariance matrix of the errors is correctly specified.\n"
     ]
    }
   ],
   "source": [
    "from statsmodels.formula.api import ols\n",
    "\n",
    "cleaned = cleaned.rename(columns={\"Hillary Clinton\":\"Hillary\"})\n",
    "\n",
    "mAll = ols('Total_Hate_Crimes ~ El_Dif + Hillary + college_pct + foreign_born_pct',cleaned).fit()\n",
    "print(mAll.summary())\n"
   ]
  },
  {
   "cell_type": "markdown",
   "metadata": {},
   "source": [
    "Here, we can see that only Hillary and the Election Difference made a statistically significant contribution to the enire model. Given those, we could only come up with an R-sq value of 0.041, meaning that only 4.1% of the variation in total hate crimes was explained by our model. Let's try creating some dummy or categorical variables and using those to predict the number of hate crimes"
   ]
  },
  {
   "cell_type": "code",
   "execution_count": 93,
   "metadata": {},
   "outputs": [
    {
     "ename": "ValueError",
     "evalue": "('The truth value of a Series is ambiguous. Use a.empty, a.bool(), a.item(), a.any() or a.all().', 'occurred at index 0')",
     "output_type": "error",
     "traceback": [
      "\u001b[0;31m---------------------------------------------------------------------------\u001b[0m",
      "\u001b[0;31mValueError\u001b[0m                                Traceback (most recent call last)",
      "\u001b[0;32m<ipython-input-93-b8198129027b>\u001b[0m in \u001b[0;36m<module>\u001b[0;34m()\u001b[0m\n\u001b[1;32m      6\u001b[0m     \u001b[0;32mreturn\u001b[0m \u001b[0;34m\"Independent\"\u001b[0m\u001b[0;34m\u001b[0m\u001b[0m\n\u001b[1;32m      7\u001b[0m \u001b[0;34m\u001b[0m\u001b[0m\n\u001b[0;32m----> 8\u001b[0;31m \u001b[0mcleaned\u001b[0m\u001b[0;34m.\u001b[0m\u001b[0mapply\u001b[0m\u001b[0;34m(\u001b[0m\u001b[0;32mlambda\u001b[0m \u001b[0mx\u001b[0m\u001b[0;34m:\u001b[0m \u001b[0mwinner\u001b[0m\u001b[0;34m(\u001b[0m\u001b[0mx\u001b[0m\u001b[0;34m)\u001b[0m\u001b[0;34m,\u001b[0m \u001b[0maxis\u001b[0m\u001b[0;34m=\u001b[0m\u001b[0;36m1\u001b[0m\u001b[0;34m)\u001b[0m\u001b[0;34m\u001b[0m\u001b[0m\n\u001b[0m\u001b[1;32m      9\u001b[0m \u001b[0;34m\u001b[0m\u001b[0m\n\u001b[1;32m     10\u001b[0m \u001b[0;31m#win = []\u001b[0m\u001b[0;34m\u001b[0m\u001b[0;34m\u001b[0m\u001b[0m\n",
      "\u001b[0;32m/anaconda3/lib/python3.6/site-packages/pandas/core/frame.py\u001b[0m in \u001b[0;36mapply\u001b[0;34m(self, func, axis, broadcast, raw, reduce, args, **kwds)\u001b[0m\n\u001b[1;32m   4875\u001b[0m                         \u001b[0mf\u001b[0m\u001b[0;34m,\u001b[0m \u001b[0maxis\u001b[0m\u001b[0;34m,\u001b[0m\u001b[0;34m\u001b[0m\u001b[0m\n\u001b[1;32m   4876\u001b[0m                         \u001b[0mreduce\u001b[0m\u001b[0;34m=\u001b[0m\u001b[0mreduce\u001b[0m\u001b[0;34m,\u001b[0m\u001b[0;34m\u001b[0m\u001b[0m\n\u001b[0;32m-> 4877\u001b[0;31m                         ignore_failures=ignore_failures)\n\u001b[0m\u001b[1;32m   4878\u001b[0m             \u001b[0;32melse\u001b[0m\u001b[0;34m:\u001b[0m\u001b[0;34m\u001b[0m\u001b[0m\n\u001b[1;32m   4879\u001b[0m                 \u001b[0;32mreturn\u001b[0m \u001b[0mself\u001b[0m\u001b[0;34m.\u001b[0m\u001b[0m_apply_broadcast\u001b[0m\u001b[0;34m(\u001b[0m\u001b[0mf\u001b[0m\u001b[0;34m,\u001b[0m \u001b[0maxis\u001b[0m\u001b[0;34m)\u001b[0m\u001b[0;34m\u001b[0m\u001b[0m\n",
      "\u001b[0;32m/anaconda3/lib/python3.6/site-packages/pandas/core/frame.py\u001b[0m in \u001b[0;36m_apply_standard\u001b[0;34m(self, func, axis, ignore_failures, reduce)\u001b[0m\n\u001b[1;32m   4971\u001b[0m             \u001b[0;32mtry\u001b[0m\u001b[0;34m:\u001b[0m\u001b[0;34m\u001b[0m\u001b[0m\n\u001b[1;32m   4972\u001b[0m                 \u001b[0;32mfor\u001b[0m \u001b[0mi\u001b[0m\u001b[0;34m,\u001b[0m \u001b[0mv\u001b[0m \u001b[0;32min\u001b[0m \u001b[0menumerate\u001b[0m\u001b[0;34m(\u001b[0m\u001b[0mseries_gen\u001b[0m\u001b[0;34m)\u001b[0m\u001b[0;34m:\u001b[0m\u001b[0;34m\u001b[0m\u001b[0m\n\u001b[0;32m-> 4973\u001b[0;31m                     \u001b[0mresults\u001b[0m\u001b[0;34m[\u001b[0m\u001b[0mi\u001b[0m\u001b[0;34m]\u001b[0m \u001b[0;34m=\u001b[0m \u001b[0mfunc\u001b[0m\u001b[0;34m(\u001b[0m\u001b[0mv\u001b[0m\u001b[0;34m)\u001b[0m\u001b[0;34m\u001b[0m\u001b[0m\n\u001b[0m\u001b[1;32m   4974\u001b[0m                     \u001b[0mkeys\u001b[0m\u001b[0;34m.\u001b[0m\u001b[0mappend\u001b[0m\u001b[0;34m(\u001b[0m\u001b[0mv\u001b[0m\u001b[0;34m.\u001b[0m\u001b[0mname\u001b[0m\u001b[0;34m)\u001b[0m\u001b[0;34m\u001b[0m\u001b[0m\n\u001b[1;32m   4975\u001b[0m             \u001b[0;32mexcept\u001b[0m \u001b[0mException\u001b[0m \u001b[0;32mas\u001b[0m \u001b[0me\u001b[0m\u001b[0;34m:\u001b[0m\u001b[0;34m\u001b[0m\u001b[0m\n",
      "\u001b[0;32m<ipython-input-93-b8198129027b>\u001b[0m in \u001b[0;36m<lambda>\u001b[0;34m(x)\u001b[0m\n\u001b[1;32m      6\u001b[0m     \u001b[0;32mreturn\u001b[0m \u001b[0;34m\"Independent\"\u001b[0m\u001b[0;34m\u001b[0m\u001b[0m\n\u001b[1;32m      7\u001b[0m \u001b[0;34m\u001b[0m\u001b[0m\n\u001b[0;32m----> 8\u001b[0;31m \u001b[0mcleaned\u001b[0m\u001b[0;34m.\u001b[0m\u001b[0mapply\u001b[0m\u001b[0;34m(\u001b[0m\u001b[0;32mlambda\u001b[0m \u001b[0mx\u001b[0m\u001b[0;34m:\u001b[0m \u001b[0mwinner\u001b[0m\u001b[0;34m(\u001b[0m\u001b[0mx\u001b[0m\u001b[0;34m)\u001b[0m\u001b[0;34m,\u001b[0m \u001b[0maxis\u001b[0m\u001b[0;34m=\u001b[0m\u001b[0;36m1\u001b[0m\u001b[0;34m)\u001b[0m\u001b[0;34m\u001b[0m\u001b[0m\n\u001b[0m\u001b[1;32m      9\u001b[0m \u001b[0;34m\u001b[0m\u001b[0m\n\u001b[1;32m     10\u001b[0m \u001b[0;31m#win = []\u001b[0m\u001b[0;34m\u001b[0m\u001b[0;34m\u001b[0m\u001b[0m\n",
      "\u001b[0;32m<ipython-input-93-b8198129027b>\u001b[0m in \u001b[0;36mwinner\u001b[0;34m(x)\u001b[0m\n\u001b[1;32m      1\u001b[0m \u001b[0;32mdef\u001b[0m \u001b[0mwinner\u001b[0m\u001b[0;34m(\u001b[0m\u001b[0mx\u001b[0m\u001b[0;34m)\u001b[0m\u001b[0;34m:\u001b[0m\u001b[0;34m\u001b[0m\u001b[0m\n\u001b[0;32m----> 2\u001b[0;31m     \u001b[0;32mif\u001b[0m \u001b[0mcleaned\u001b[0m\u001b[0;34m[\u001b[0m\u001b[0;34m'Hillary'\u001b[0m\u001b[0;34m]\u001b[0m\u001b[0;34m[\u001b[0m\u001b[0mx\u001b[0m\u001b[0;34m]\u001b[0m \u001b[0;34m>\u001b[0m \u001b[0mcleaned\u001b[0m\u001b[0;34m[\u001b[0m\u001b[0;34m'Donald Trump'\u001b[0m\u001b[0;34m]\u001b[0m\u001b[0;34m[\u001b[0m\u001b[0mx\u001b[0m\u001b[0;34m]\u001b[0m\u001b[0;34m:\u001b[0m\u001b[0;34m\u001b[0m\u001b[0m\n\u001b[0m\u001b[1;32m      3\u001b[0m         \u001b[0;32mreturn\u001b[0m \u001b[0;34m\"Hillary\"\u001b[0m\u001b[0;34m\u001b[0m\u001b[0m\n\u001b[1;32m      4\u001b[0m     \u001b[0;32mif\u001b[0m \u001b[0mcleaned\u001b[0m\u001b[0;34m[\u001b[0m\u001b[0;34m'Hillary'\u001b[0m\u001b[0;34m]\u001b[0m\u001b[0;34m[\u001b[0m\u001b[0mx\u001b[0m\u001b[0;34m]\u001b[0m \u001b[0;34m<\u001b[0m \u001b[0mcleaned\u001b[0m\u001b[0;34m[\u001b[0m\u001b[0;34m'Donald Trump'\u001b[0m\u001b[0;34m]\u001b[0m\u001b[0;34m[\u001b[0m\u001b[0mx\u001b[0m\u001b[0;34m]\u001b[0m\u001b[0;34m:\u001b[0m\u001b[0;34m\u001b[0m\u001b[0m\n\u001b[1;32m      5\u001b[0m         \u001b[0;32mreturn\u001b[0m \u001b[0;34m\"Trump\"\u001b[0m\u001b[0;34m\u001b[0m\u001b[0m\n",
      "\u001b[0;32m/anaconda3/lib/python3.6/site-packages/pandas/core/generic.py\u001b[0m in \u001b[0;36m__nonzero__\u001b[0;34m(self)\u001b[0m\n\u001b[1;32m   1119\u001b[0m         raise ValueError(\"The truth value of a {0} is ambiguous. \"\n\u001b[1;32m   1120\u001b[0m                          \u001b[0;34m\"Use a.empty, a.bool(), a.item(), a.any() or a.all().\"\u001b[0m\u001b[0;34m\u001b[0m\u001b[0m\n\u001b[0;32m-> 1121\u001b[0;31m                          .format(self.__class__.__name__))\n\u001b[0m\u001b[1;32m   1122\u001b[0m \u001b[0;34m\u001b[0m\u001b[0m\n\u001b[1;32m   1123\u001b[0m     \u001b[0m__bool__\u001b[0m \u001b[0;34m=\u001b[0m \u001b[0m__nonzero__\u001b[0m\u001b[0;34m\u001b[0m\u001b[0m\n",
      "\u001b[0;31mValueError\u001b[0m: ('The truth value of a Series is ambiguous. Use a.empty, a.bool(), a.item(), a.any() or a.all().', 'occurred at index 0')"
     ]
    }
   ],
   "source": [
    "def winner(x):\n",
    "    if cleaned['Hillary'][x] > cleaned['Donald Trump'][x]:\n",
    "        return \"Hillary\"\n",
    "    if cleaned['Hillary'][x] < cleaned['Donald Trump'][x]:\n",
    "        return \"Trump\"\n",
    "    return \"Independent\"\n",
    "\n",
    "cleaned['winner'] = cleaned.apply(lambda x: winner(x), axis=1)\n",
    "\n",
    "#win = []\n",
    "\n",
    "#for i in range(len(cleaned)):\n",
    "#    if cleaned['Hillary'][i] > cleaned['Donald Trump'][i]:\n",
    "#        win[i] = \"Hillary\"\n",
    "#    elif cleaned['Hillary'][i] < cleaned['Donald Trump'][i]:\n",
    "#        win[i] = \"Trump\"\n",
    "#    else win[i] = \"Independent\"\n",
    "    \n"
   ]
  },
  {
   "cell_type": "code",
   "execution_count": 111,
   "metadata": {},
   "outputs": [
    {
     "data": {
      "text/plain": [
       "0.2951595033428845"
      ]
     },
     "execution_count": 111,
     "metadata": {},
     "output_type": "execute_result"
    },
    {
     "data": {
      "image/png": "[encoded data removed]",
      "text/plain": [
       "<matplotlib.figure.Figure at 0x1102d5d68>"
      ]
     },
     "metadata": {},
     "output_type": "display_data"
    }
   ],
   "source": [
    "college = cleaned[\"college_pct\"]\n",
    "\n",
    "collegeArray = np.array(college)\n",
    "\n",
    "collegeArray = np.nan_to_num(collegeArray)\n",
    "\n",
    "plt.hist(collegeArray)\n",
    "\n",
    "collegeArray.mean()"
   ]
  },
  {
   "cell_type": "markdown",
   "metadata": {},
   "source": [
    "So the mean looks to be about 30% (0.3), we we'll divide it there."
   ]
  },
  {
   "cell_type": "code",
   "execution_count": 113,
   "metadata": {},
   "outputs": [
    {
     "data": {
      "text/plain": [
       "0    high_college\n",
       "1     low_college\n",
       "2     low_college\n",
       "3    high_college\n",
       "7     low_college\n",
       "Name: college_var, dtype: object"
      ]
     },
     "execution_count": 113,
     "metadata": {},
     "output_type": "execute_result"
    }
   ],
   "source": [
    "def college(x):\n",
    "    if x < 0.3:\n",
    "        return \"low_college\"\n",
    "    return \"high_college\"\n",
    "\n",
    "cleaned[\"college_var\"] = cleaned[\"college_pct\"].apply(college)\n",
    "\n",
    "cleaned[\"college_var\"].head()"
   ]
  },
  {
   "cell_type": "code",
   "execution_count": 114,
   "metadata": {},
   "outputs": [
    {
     "data": {
      "text/plain": [
       "0.48194327658238306"
      ]
     },
     "execution_count": 114,
     "metadata": {},
     "output_type": "execute_result"
    },
    {
     "data": {
      "image/png": "[encoded data removed]",
      "text/plain": [
       "<matplotlib.figure.Figure at 0x1a16d58da0>"
      ]
     },
     "metadata": {},
     "output_type": "display_data"
    }
   ],
   "source": [
    "hillary = cleaned[\"Hillary\"]\n",
    "\n",
    "HilArray = np.array(hillary)\n",
    "\n",
    "HilArray = np.nan_to_num(HilArray)\n",
    "\n",
    "plt.hist(HilArray)\n",
    "\n",
    "HilArray.mean()"
   ]
  },
  {
   "cell_type": "code",
   "execution_count": 115,
   "metadata": {},
   "outputs": [
    {
     "data": {
      "text/plain": [
       "0      dem\n",
       "1    other\n",
       "2    other\n",
       "3      dem\n",
       "7    other\n",
       "Name: hil_var, dtype: object"
      ]
     },
     "execution_count": 115,
     "metadata": {},
     "output_type": "execute_result"
    }
   ],
   "source": [
    "def hil(x):\n",
    "    if x > 0.48:\n",
    "        return \"dem\"\n",
    "    return \"other\"\n",
    "\n",
    "cleaned[\"hil_var\"] = cleaned[\"Hillary\"].apply(hil)\n",
    "\n",
    "cleaned[\"hil_var\"].head()"
   ]
  },
  {
   "cell_type": "code",
   "execution_count": 116,
   "metadata": {},
   "outputs": [
    {
     "data": {
      "text/plain": [
       "0.11889971346704871"
      ]
     },
     "execution_count": 116,
     "metadata": {},
     "output_type": "execute_result"
    },
    {
     "data": {
      "image/png": "[encoded data removed]",
      "text/plain": [
       "<matplotlib.figure.Figure at 0x1a181e81d0>"
      ]
     },
     "metadata": {},
     "output_type": "display_data"
    }
   ],
   "source": [
    "foreign = cleaned['foreign_born_pct']\n",
    "\n",
    "forArray = np.array(foreign)\n",
    "\n",
    "forArray = np.nan_to_num(forArray)\n",
    "\n",
    "plt.hist(forArray)\n",
    "\n",
    "forArray.mean()"
   ]
  },
  {
   "cell_type": "code",
   "execution_count": 118,
   "metadata": {},
   "outputs": [
    {
     "data": {
      "text/plain": [
       "0    low_pct\n",
       "1    low_pct\n",
       "2    low_pct\n",
       "3    low_pct\n",
       "7    low_pct\n",
       "Name: for_var, dtype: object"
      ]
     },
     "execution_count": 118,
     "metadata": {},
     "output_type": "execute_result"
    }
   ],
   "source": [
    "def fb(x):\n",
    "    if x > 0.12:\n",
    "        return \"high_pct\"\n",
    "    return \"low_pct\"\n",
    "\n",
    "cleaned[\"for_var\"] = cleaned[\"foreign_born_pct\"].apply(fb)\n",
    "\n",
    "cleaned[\"for_var\"].head()"
   ]
  },
  {
   "cell_type": "markdown",
   "metadata": {},
   "source": [
    "Now that all these are turned into categorical variables, we'll try the model again!"
   ]
  },
  {
   "cell_type": "code",
   "execution_count": 119,
   "metadata": {},
   "outputs": [
    {
     "name": "stdout",
     "output_type": "stream",
     "text": [
      "                            OLS Regression Results                            \n",
      "==============================================================================\n",
      "Dep. Variable:      Total_Hate_Crimes   R-squared:                       0.013\n",
      "Model:                            OLS   Adj. R-squared:                  0.009\n",
      "Method:                 Least Squares   F-statistic:                     3.371\n",
      "Date:                Thu, 30 Aug 2018   Prob (F-statistic):            0.00943\n",
      "Time:                        17:41:37   Log-Likelihood:                -4422.4\n",
      "No. Observations:                1047   AIC:                             8855.\n",
      "Df Residuals:                    1042   BIC:                             8880.\n",
      "Df Model:                           4                                         \n",
      "Covariance Type:            nonrobust                                         \n",
      "==============================================================================================\n",
      "                                 coef    std err          t      P>|t|      [0.025      0.975]\n",
      "----------------------------------------------------------------------------------------------\n",
      "Intercept                      6.4480      1.351      4.771      0.000       3.796       9.100\n",
      "Close_El[T.Not_Close]          0.4604      1.212      0.380      0.704      -1.918       2.839\n",
      "hil_var[T.other]              -1.5153      1.285     -1.180      0.238      -4.036       1.005\n",
      "college_var[T.low_college]    -0.8114      1.145     -0.708      0.479      -3.059       1.436\n",
      "for_var[T.low_pct]            -2.3723      1.246     -1.904      0.057      -4.817       0.073\n",
      "==============================================================================\n",
      "Omnibus:                     2025.364   Durbin-Watson:                   1.994\n",
      "Prob(Omnibus):                  0.000   Jarque-Bera (JB):          2778906.146\n",
      "Skew:                          14.267   Prob(JB):                         0.00\n",
      "Kurtosis:                     253.770   Cond. No.                         5.84\n",
      "==============================================================================\n",
      "\n",
      "Warnings:\n",
      "[1] Standard Errors assume that the covariance matrix of the errors is correctly specified.\n"
     ]
    }
   ],
   "source": [
    "mCat = ols('Total_Hate_Crimes ~ Close_El + hil_var + college_var + for_var',cleaned).fit()\n",
    "print(mCat.summary())"
   ]
  },
  {
   "cell_type": "markdown",
   "metadata": {},
   "source": [
    "So this model has an even lower R-sq value. It doesn't look like this was an improvement on the model. There might not be a good predicttive model given these variables"
   ]
  },
  {
   "cell_type": "code",
   "execution_count": null,
   "metadata": {},
   "outputs": [],
   "source": []
  }
 ],
 "metadata": {
  "kernelspec": {
   "display_name": "Python 3",
   "language": "python",
   "name": "python3"
  },
  "language_info": {
   "codemirror_mode": {
    "name": "ipython",
    "version": 3
   },
   "file_extension": ".py",
   "mimetype": "text/x-python",
   "name": "python",
   "nbconvert_exporter": "python",
   "pygments_lexer": "ipython3",
   "version": "3.6.4"
  }
 },
 "nbformat": 4,
 "nbformat_minor": 2
}
